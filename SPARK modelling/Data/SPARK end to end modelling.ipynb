{
 "cells": [
  {
   "cell_type": "code",
   "execution_count": null,
   "metadata": {},
   "outputs": [],
   "source": [
    "# convert the RDD to a DataFrame with the toDF() method.\n",
    "\n",
    "\n",
    "# Import the necessary modules \n",
    "from pyspark.sql import Row\n",
    "\n",
    "# Map the RDD to a DF\n",
    "df = rdd.map(lambda line: Row(longitude=line[0], \n",
    "                              latitude=line[1], \n",
    "                              housingMedianAge=line[2],\n",
    "                              totalRooms=line[3],\n",
    "                              totalBedRooms=line[4],\n",
    "                              population=line[5], \n",
    "                              households=line[6],\n",
    "                              medianIncome=line[7],\n",
    "                              medianHouseValue=line[8])).toDF()\n"
   ]
  },
  {
   "cell_type": "code",
   "execution_count": null,
   "metadata": {},
   "outputs": [],
   "source": [
    "from pyspark.sql.types import *\n",
    "\n",
    "df = df.withColumn(\"longitude\", df[\"longitude\"].cast(FloatType())) \\\n",
    "   .withColumn(\"latitude\", df[\"latitude\"].cast(FloatType())) \\\n",
    "   .withColumn(\"housingMedianAge\",df[\"housingMedianAge\"].cast(FloatType())) \\\n",
    "   .withColumn(\"totalRooms\", df[\"totalRooms\"].cast(FloatType())) \\ \n",
    "   .withColumn(\"totalBedRooms\", df[\"totalBedRooms\"].cast(FloatType())) \\ \n",
    "   .withColumn(\"population\", df[\"population\"].cast(FloatType())) \\ \n",
    "   .withColumn(\"households\", df[\"households\"].cast(FloatType())) \\ \n",
    "   .withColumn(\"medianIncome\", df[\"medianIncome\"].cast(FloatType())) \\ \n",
    "   .withColumn(\"medianHouseValue\", df[\"medianHouseValue\"].cast(FloatType()))"
   ]
  }
 ],
 "metadata": {
  "kernelspec": {
   "display_name": "Python 3",
   "language": "python",
   "name": "python3"
  },
  "language_info": {
   "codemirror_mode": {
    "name": "ipython",
    "version": 3
   },
   "file_extension": ".py",
   "mimetype": "text/x-python",
   "name": "python",
   "nbconvert_exporter": "python",
   "pygments_lexer": "ipython3",
   "version": "3.6.3"
  }
 },
 "nbformat": 4,
 "nbformat_minor": 2
}
