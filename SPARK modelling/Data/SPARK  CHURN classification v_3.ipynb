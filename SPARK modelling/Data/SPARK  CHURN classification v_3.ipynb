{
 "cells": [
  {
   "cell_type": "code",
   "execution_count": 1,
   "metadata": {},
   "outputs": [],
   "source": [
    "import findspark"
   ]
  },
  {
   "cell_type": "code",
   "execution_count": 2,
   "metadata": {},
   "outputs": [],
   "source": [
    "findspark.init() # for initialization of SPARK context"
   ]
  },
  {
   "cell_type": "code",
   "execution_count": 3,
   "metadata": {},
   "outputs": [],
   "source": [
    "import pyspark\n",
    "from pyspark.sql import SparkSession\n",
    "from pyspark.sql.functions import *\n",
    "import pandas as pd"
   ]
  },
  {
   "cell_type": "code",
   "execution_count": 4,
   "metadata": {},
   "outputs": [],
   "source": [
    "spark=SparkSession.builder.getOrCreate() # if there is any existing session it will not create new"
   ]
  },
  {
   "cell_type": "markdown",
   "metadata": {},
   "source": [
    "## Reading it from VP IP\n",
    "### this is not used here however we can look at utilizing the same LATTER\n",
    "customer_details = spark.read.csv('hdfs://192.168.232.128:8020/user/cloudera/hackathon/customer_details.csv',header=True) customer_cdr = spark.read.csv('hdfs://192.168.232.128:8020/user/cloudera/hackathon/customer_cdr.csv',header=True) plan_details = spark.read.csv('hdfs://192.168.232.128:8020/user/cloudera/hackathon/plan_details.csv',header=True)"
   ]
  },
  {
   "cell_type": "code",
   "execution_count": 5,
   "metadata": {},
   "outputs": [],
   "source": [
    "# now not pandas but SPARK needs to read the files\n",
    "\n",
    "h_cdr = spark.read.csv(\"C:\\\\Users\\\\inkpathak\\\\Desktop\\\\Hackathon\\\\Data\\\\cdr.csv\", header = True)\n",
    "h_complaint = spark.read.csv(\"C:\\\\Users\\\\inkpathak\\\\Desktop\\\\Hackathon\\\\Data\\\\complaint.csv\", header = True)\n",
    "h_cust_churn = spark.read.csv(\"C:\\\\Users\\\\inkpathak\\\\Desktop\\\\Hackathon\\\\Data\\\\customer_churn_demography.csv\", header = True)\n",
    "h_revenue = spark.read.csv(\"C:\\\\Users\\\\inkpathak\\\\Desktop\\\\Hackathon\\\\Data\\\\revenue.csv\", header = True)\n",
    "h_signal = spark.read.csv(\"C:\\\\Users\\\\inkpathak\\\\Desktop\\\\Hackathon\\\\Data\\\\signalstrength.csv\", header = True)"
   ]
  },
  {
   "cell_type": "code",
   "execution_count": 6,
   "metadata": {},
   "outputs": [],
   "source": [
    "# Joining al five tables togeather\n",
    "h_df = (h_cust_churn.join(h_cdr, h_cust_churn[\"phone number\"] == h_cdr[\"phone number\"])\n",
    "        .join(h_complaint, h_cust_churn[\"phone number\"] == h_complaint[\"phone number\"])\n",
    "        .join(h_revenue, h_cust_churn[\"phone number\"] == h_revenue[\"phone number\"])\n",
    "        .join(h_signal, h_cust_churn[\"phone number\"] == h_signal[\"phone number\"]))"
   ]
  },
  {
   "cell_type": "code",
   "execution_count": 7,
   "metadata": {
    "collapsed": true
   },
   "outputs": [
    {
     "name": "stdout",
     "output_type": "stream",
     "text": [
      "+-----+-----+--------------+---------+------------+--------------+---+------+-------------------+------------+------------------------+------------------+---------------+-----------+-------------+---------------------+-----------------+---------------+-----------------+---------------+-------------------+-----------------+------------------+----------------+------------+------------+----------------------+--------------------------+-------------------+-----------------------------------------------------------------------------+-------------+-------------------+----------+----------------------+-----+--------------+----------------------------+---------------------+-------------------------------------------------+----------------+----------------+------------------+-----------------+-----+------------+------------+-----------------+-----------------+----------------------------------+---------------------------------+\n",
      "|churn|state|account length|area code|phone number|account (days)|Age|Gender|         Occupation|Joining date|Subsciption renewal date|international plan|voice mail plan|%call drops|%Packet_drops|number vmail messages|total day minutes|total day calls|total eve minutes|total eve calls|total night minutes|total night calls|total intl minutes|total intl calls|phone number|phone number|customer service calls|Number of complaint raised|Time for resolution|payment_made_but_order_not_placed_and_amount_is_deducted_from_my_bank_account|Billing_issue|Calls_are_not_going|drop_calls|No_internet_connection|order|payment_refund|recharge_offer_service_fraud|Slow_network_coverage|uninformed___unsubscribed_weekly_amount_deduction|total day charge|total eve charge|total night charge|total intl charge| ARPU|phone number|phone number|signalstrength_4g|signalstrength_3g|Duration of good signal strength% |Duration of bad Signal strength %|\n",
      "+-----+-----+--------------+---------+------------+--------------+---+------+-------------------+------------+------------------------+------------------+---------------+-----------+-------------+---------------------+-----------------+---------------+-----------------+---------------+-------------------+-----------------+------------------+----------------+------------+------------+----------------------+--------------------------+-------------------+-----------------------------------------------------------------------------+-------------+-------------------+----------+----------------------+-----+--------------+----------------------------+---------------------+-------------------------------------------------+----------------+----------------+------------------+-----------------+-----+------------+------------+-----------------+-----------------+----------------------------------+---------------------------------+\n",
      "|FALSE|   KS|           128|      415|    382-4657|           896| 53|Female|Senior Professional|    4/1/2016|                3/1/2018|                no|            yes|      0.008|        0.007|                   25|            265.1|            110|            197.4|             99|              244.7|               91|                10|               3|    382-4657|    382-4657|                     1|                         1|                 21|                                                                            0|            0|                  0|         0|                     0|    0|             1|                           0|                    0|                                                0|           45.07|           16.78|             11.01|              2.7|75.56|    382-4657|    382-4657|              -66|              -52|                             0.969|                            0.031|\n",
      "+-----+-----+--------------+---------+------------+--------------+---+------+-------------------+------------+------------------------+------------------+---------------+-----------+-------------+---------------------+-----------------+---------------+-----------------+---------------+-------------------+-----------------+------------------+----------------+------------+------------+----------------------+--------------------------+-------------------+-----------------------------------------------------------------------------+-------------+-------------------+----------+----------------------+-----+--------------+----------------------------+---------------------+-------------------------------------------------+----------------+----------------+------------------+-----------------+-----+------------+------------+-----------------+-----------------+----------------------------------+---------------------------------+\n",
      "only showing top 1 row\n",
      "\n"
     ]
    }
   ],
   "source": [
    "h_df.show(1)"
   ]
  },
  {
   "cell_type": "code",
   "execution_count": null,
   "metadata": {},
   "outputs": [],
   "source": [
    "### Deleting a data column from the first complete dataframe\n",
    "df.drop('age').collect() # connect() would keep it in the RAM for faster computation . This is not needed now\n",
    "\n",
    "df.drop(df.age).collect()"
   ]
  }
 ],
 "metadata": {
  "kernelspec": {
   "display_name": "Python 3",
   "language": "python",
   "name": "python3"
  },
  "language_info": {
   "codemirror_mode": {
    "name": "ipython",
    "version": 3
   },
   "file_extension": ".py",
   "mimetype": "text/x-python",
   "name": "python",
   "nbconvert_exporter": "python",
   "pygments_lexer": "ipython3",
   "version": "3.6.3"
  }
 },
 "nbformat": 4,
 "nbformat_minor": 2
}
