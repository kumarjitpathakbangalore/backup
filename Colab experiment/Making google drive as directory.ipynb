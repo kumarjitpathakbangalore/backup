{
 "cells": [
  {
   "cell_type": "code",
   "execution_count": 1,
   "metadata": {
    "colab": {
     "autoexec": {
      "startup": false,
      "wait_interval": 0
     },
     "base_uri": "https://localhost:8080/",
     "height": 34,
     "output_extras": [
      {
       "item_id": 1
      }
     ]
    },
    "colab_type": "code",
    "executionInfo": {
     "elapsed": 1808,
     "status": "ok",
     "timestamp": 1519891086972,
     "user": {
      "displayName": "Kumarjit Pathak",
      "photoUrl": "https://lh3.googleusercontent.com/a/default-user=s128",
      "userId": "103365804564027322219"
     },
     "user_tz": -330
    },
    "id": "DpNUbq0vkUaI",
    "outputId": "80c11141-2bcd-446e-86c2-1cccd261988f"
   },
   "outputs": [
    {
     "name": "stdout",
     "output_type": "stream",
     "text": [
      "/content\r\n"
     ]
    }
   ],
   "source": [
    "!pwd"
   ]
  },
  {
   "cell_type": "code",
   "execution_count": 0,
   "metadata": {
    "colab": {
     "autoexec": {
      "startup": false,
      "wait_interval": 0
     }
    },
    "colab_type": "code",
    "id": "YGFF7xFMkXcg"
   },
   "outputs": [],
   "source": [
    "!pip install -U -q PyDrive\n",
    "from pydrive.auth import GoogleAuth\n",
    "from pydrive.drive import GoogleDrive\n",
    "from google.colab import auth\n",
    "from oauth2client.client import GoogleCredentials\n",
    "auth.authenticate_user()\n",
    "gauth = GoogleAuth()\n",
    "gauth.credentials = GoogleCredentials.get_application_default()\n",
    "drive = GoogleDrive(gauth)\n"
   ]
  },
  {
   "cell_type": "code",
   "execution_count": 7,
   "metadata": {
    "colab": {
     "autoexec": {
      "startup": false,
      "wait_interval": 0
     },
     "base_uri": "https://localhost:8080/",
     "height": 2672,
     "output_extras": [
      {
       "item_id": 11
      },
      {
       "item_id": 38
      }
     ]
    },
    "colab_type": "code",
    "executionInfo": {
     "elapsed": 59060,
     "status": "ok",
     "timestamp": 1519891724822,
     "user": {
      "displayName": "Kumarjit Pathak",
      "photoUrl": "https://lh3.googleusercontent.com/a/default-user=s128",
      "userId": "103365804564027322219"
     },
     "user_tz": -330
    },
    "id": "x9DyubgekjZz",
    "outputId": "642a2c32-ce29-4965-fa15-1b834022473a"
   },
   "outputs": [
    {
     "name": "stdout",
     "output_type": "stream",
     "text": [
      "Preconfiguring packages ...\n",
      "Selecting previously unselected package cron.\n",
      "(Reading database ... 16669 files and directories currently installed.)\n",
      "Preparing to unpack .../00-cron_3.0pl1-128ubuntu5_amd64.deb ...\n",
      "Unpacking cron (3.0pl1-128ubuntu5) ...\n",
      "Selecting previously unselected package libapparmor1:amd64.\n",
      "Preparing to unpack .../01-libapparmor1_2.11.0-2ubuntu17.1_amd64.deb ...\n",
      "Unpacking libapparmor1:amd64 (2.11.0-2ubuntu17.1) ...\n",
      "Selecting previously unselected package libdbus-1-3:amd64.\n",
      "Preparing to unpack .../02-libdbus-1-3_1.10.22-1ubuntu1_amd64.deb ...\n",
      "Unpacking libdbus-1-3:amd64 (1.10.22-1ubuntu1) ...\n",
      "Selecting previously unselected package dbus.\n",
      "Preparing to unpack .../03-dbus_1.10.22-1ubuntu1_amd64.deb ...\n",
      "Unpacking dbus (1.10.22-1ubuntu1) ...\n",
      "Selecting previously unselected package dirmngr.\n",
      "Preparing to unpack .../04-dirmngr_2.1.15-1ubuntu8_amd64.deb ...\n",
      "Unpacking dirmngr (2.1.15-1ubuntu8) ...\n",
      "Selecting previously unselected package distro-info-data.\n",
      "Preparing to unpack .../05-distro-info-data_0.36ubuntu0.1_all.deb ...\n",
      "Unpacking distro-info-data (0.36ubuntu0.1) ...\n",
      "Selecting previously unselected package libkmod2:amd64.\n",
      "Preparing to unpack .../06-libkmod2_24-1ubuntu2_amd64.deb ...\n",
      "Unpacking libkmod2:amd64 (24-1ubuntu2) ...\n",
      "Selecting previously unselected package kmod.\n",
      "Preparing to unpack .../07-kmod_24-1ubuntu2_amd64.deb ...\n",
      "Unpacking kmod (24-1ubuntu2) ...\n",
      "Selecting previously unselected package lsb-release.\n",
      "Preparing to unpack .../08-lsb-release_9.20160110ubuntu5_all.deb ...\n",
      "Unpacking lsb-release (9.20160110ubuntu5) ...\n",
      "Selecting previously unselected package libgirepository-1.0-1:amd64.\n",
      "Preparing to unpack .../09-libgirepository-1.0-1_1.54.1-1_amd64.deb ...\n",
      "Unpacking libgirepository-1.0-1:amd64 (1.54.1-1) ...\n",
      "Selecting previously unselected package gir1.2-glib-2.0:amd64.\n",
      "Preparing to unpack .../10-gir1.2-glib-2.0_1.54.1-1_amd64.deb ...\n",
      "Unpacking gir1.2-glib-2.0:amd64 (1.54.1-1) ...\n",
      "Selecting previously unselected package iso-codes.\n",
      "Preparing to unpack .../11-iso-codes_3.75-1_all.deb ...\n",
      "Unpacking iso-codes (3.75-1) ...\n",
      "Selecting previously unselected package libdbus-glib-1-2:amd64.\n",
      "Preparing to unpack .../12-libdbus-glib-1-2_0.108-2_amd64.deb ...\n",
      "Unpacking libdbus-glib-1-2:amd64 (0.108-2) ...\n",
      "Selecting previously unselected package python-apt-common.\n",
      "Preparing to unpack .../13-python-apt-common_1.4.0~beta3build2_all.deb ...\n",
      "Unpacking python-apt-common (1.4.0~beta3build2) ...\n",
      "Selecting previously unselected package python3-apt.\n",
      "Preparing to unpack .../14-python3-apt_1.4.0~beta3build2_amd64.deb ...\n",
      "Unpacking python3-apt (1.4.0~beta3build2) ...\n",
      "Selecting previously unselected package python3-dbus.\n",
      "Preparing to unpack .../15-python3-dbus_1.2.4-1build3_amd64.deb ...\n",
      "Unpacking python3-dbus (1.2.4-1build3) ...\n",
      "Selecting previously unselected package python3-gi.\n",
      "Preparing to unpack .../16-python3-gi_3.24.1-2build1_amd64.deb ...\n",
      "Unpacking python3-gi (3.24.1-2build1) ...\n",
      "Selecting previously unselected package module-init-tools.\n",
      "Preparing to unpack .../17-module-init-tools_24-1ubuntu2_all.deb ...\n",
      "Unpacking module-init-tools (24-1ubuntu2) ...\n",
      "Selecting previously unselected package python-apt.\n",
      "Preparing to unpack .../18-python-apt_1.4.0~beta3build2_amd64.deb ...\n",
      "Unpacking python-apt (1.4.0~beta3build2) ...\n",
      "Selecting previously unselected package python-pycurl.\n",
      "Preparing to unpack .../19-python-pycurl_7.43.0-2build2_amd64.deb ...\n",
      "Unpacking python-pycurl (7.43.0-2build2) ...\n",
      "Selecting previously unselected package python-software-properties.\n",
      "Preparing to unpack .../20-python-software-properties_0.96.24.17_all.deb ...\n",
      "Unpacking python-software-properties (0.96.24.17) ...\n",
      "Selecting previously unselected package python3-software-properties.\n",
      "Preparing to unpack .../21-python3-software-properties_0.96.24.17_all.deb ...\n",
      "Unpacking python3-software-properties (0.96.24.17) ...\n",
      "Selecting previously unselected package software-properties-common.\n",
      "Preparing to unpack .../22-software-properties-common_0.96.24.17_all.deb ...\n",
      "Unpacking software-properties-common (0.96.24.17) ...\n",
      "Selecting previously unselected package unattended-upgrades.\n",
      "Preparing to unpack .../23-unattended-upgrades_0.98ubuntu1.1_all.deb ...\n",
      "Unpacking unattended-upgrades (0.98ubuntu1.1) ...\n",
      "Setting up python-apt-common (1.4.0~beta3build2) ...\n",
      "Setting up python3-apt (1.4.0~beta3build2) ...\n",
      "Setting up iso-codes (3.75-1) ...\n",
      "Setting up distro-info-data (0.36ubuntu0.1) ...\n",
      "Setting up python-pycurl (7.43.0-2build2) ...\n",
      "Setting up lsb-release (9.20160110ubuntu5) ...\n",
      "Setting up libgirepository-1.0-1:amd64 (1.54.1-1) ...\n",
      "Setting up libkmod2:amd64 (24-1ubuntu2) ...\n",
      "Setting up gir1.2-glib-2.0:amd64 (1.54.1-1) ...\n",
      "Processing triggers for libc-bin (2.26-0ubuntu2.1) ...\n",
      "Setting up libapparmor1:amd64 (2.11.0-2ubuntu17.1) ...\n",
      "Setting up unattended-upgrades (0.98ubuntu1.1) ...\n",
      "\n",
      "Creating config file /etc/apt/apt.conf.d/20auto-upgrades with new version\n",
      "\n",
      "Creating config file /etc/apt/apt.conf.d/50unattended-upgrades with new version\n",
      "invoke-rc.d: could not determine current runlevel\n",
      "invoke-rc.d: policy-rc.d denied execution of start.\n",
      "Setting up dirmngr (2.1.15-1ubuntu8) ...\n",
      "Setting up cron (3.0pl1-128ubuntu5) ...\n",
      "Adding group `crontab' (GID 102) ...\n",
      "Done.\n",
      "update-rc.d: warning: start and stop actions are no longer supported; falling back to defaults\n",
      "update-rc.d: warning: stop runlevel arguments (1) do not match cron Default-Stop values (none)\n",
      "invoke-rc.d: could not determine current runlevel\n",
      "invoke-rc.d: policy-rc.d denied execution of start.\n",
      "Setting up libdbus-1-3:amd64 (1.10.22-1ubuntu1) ...\n",
      "Setting up kmod (24-1ubuntu2) ...\n",
      "Setting up libdbus-glib-1-2:amd64 (0.108-2) ...\n",
      "Setting up python3-gi (3.24.1-2build1) ...\n",
      "Setting up module-init-tools (24-1ubuntu2) ...\n",
      "Setting up python3-software-properties (0.96.24.17) ...\n",
      "Setting up dbus (1.10.22-1ubuntu1) ...\n",
      "Setting up python-apt (1.4.0~beta3build2) ...\n",
      "Setting up python3-dbus (1.2.4-1build3) ...\n",
      "Setting up python-software-properties (0.96.24.17) ...\n",
      "Setting up software-properties-common (0.96.24.17) ...\n",
      "Processing triggers for libc-bin (2.26-0ubuntu2.1) ...\n",
      "Processing triggers for dbus (1.10.22-1ubuntu1) ...\n",
      "gpg: keybox '/tmp/tmp1uutj4xu/pubring.gpg' created\n",
      "gpg: /tmp/tmp1uutj4xu/trustdb.gpg: trustdb created\n",
      "gpg: key AD5F235DF639B041: public key \"Launchpad PPA for Alessandro Strada\" imported\n",
      "gpg: Total number processed: 1\n",
      "gpg:               imported: 1\n",
      "Warning: apt-key output should not be parsed (stdout is not a terminal)\n",
      "Selecting previously unselected package libfuse2:amd64.\n",
      "(Reading database ... 18077 files and directories currently installed.)\n",
      "Preparing to unpack .../libfuse2_2.9.7-1ubuntu1_amd64.deb ...\n",
      "Unpacking libfuse2:amd64 (2.9.7-1ubuntu1) ...\n",
      "Selecting previously unselected package fuse.\n",
      "Preparing to unpack .../fuse_2.9.7-1ubuntu1_amd64.deb ...\n",
      "Unpacking fuse (2.9.7-1ubuntu1) ...\n",
      "Selecting previously unselected package google-drive-ocamlfuse.\n",
      "Preparing to unpack .../google-drive-ocamlfuse_0.6.21-0ubuntu2_amd64.deb ...\n",
      "Unpacking google-drive-ocamlfuse (0.6.21-0ubuntu2) ...\n",
      "Setting up libfuse2:amd64 (2.9.7-1ubuntu1) ...\n",
      "Processing triggers for libc-bin (2.26-0ubuntu2.1) ...\n",
      "Setting up fuse (2.9.7-1ubuntu1) ...\n",
      "Setting up google-drive-ocamlfuse (0.6.21-0ubuntu2) ...\n",
      "Please, open the following URL in a web browser: https://accounts.google.com/o/oauth2/auth?client_id=32555940559.apps.googleusercontent.com&redirect_uri=urn%3Aietf%3Awg%3Aoauth%3A2.0%3Aoob&scope=https%3A%2F%2Fwww.googleapis.com%2Fauth%2Fdrive&response_type=code&access_type=offline&approval_prompt=force\n",
      "··········\n",
      "Please, open the following URL in a web browser: https://accounts.google.com/o/oauth2/auth?client_id=32555940559.apps.googleusercontent.com&redirect_uri=urn%3Aietf%3Awg%3Aoauth%3A2.0%3Aoob&scope=https%3A%2F%2Fwww.googleapis.com%2Fauth%2Fdrive&response_type=code&access_type=offline&approval_prompt=force\n",
      "Please enter the verification code: Access token retrieved correctly.\n",
      "Drive/:\n",
      "0152183685.pdf\t       Hello.txt\n",
      "20151003_105535.jpg    Important links.docx\n",
      "20151003_105541.jpg    Just mine \n",
      "20151003_105551.jpg    kp\n",
      "20151003_105558.jpg    kp.zip\n",
      "20151003_105601.jpg    Kumarjit Code draft\n",
      "20151003_105612.jpg    learning at symphony\n",
      "Auto Call Recorder     Lenovo Backup\n",
      "best_weights.hdf5      lg washing machine AMC.jpg\n",
      "Colab Notebooks        Machine learning an algorithmic perspective(2009).pdf\n",
      "control-chart (2).zip  office old\n",
      "Data Science\t       One model for all Deep learning.pdf\n",
      "Deep Learning\t       raw_input\n",
      "Ernest Guru\t       raw_masks\n",
      "Hello (94135c0e).txt   vai exam fee.jpg\n",
      "\n",
      "My:\n"
     ]
    }
   ],
   "source": [
    "# Install a Drive FUSE wrapper.\n",
    "# https://github.com/astrada/google-drive-ocamlfuse\n",
    "!apt-get install -y -qq software-properties-common python-software-properties module-init-tools\n",
    "!add-apt-repository -y ppa:alessandro-strada/ppa 2>&1 > /dev/null\n",
    "!apt-get update -qq 2>&1 > /dev/null\n",
    "!apt-get -y install -qq google-drive-ocamlfuse fuse\n",
    "\n",
    "\n",
    "\n",
    "# Generate auth tokens for Colab\n",
    "from google.colab import auth\n",
    "auth.authenticate_user()\n",
    "\n",
    "\n",
    "# Generate creds for the Drive FUSE library.\n",
    "from oauth2client.client import GoogleCredentials\n",
    "creds = GoogleCredentials.get_application_default()\n",
    "import getpass\n",
    "!google-drive-ocamlfuse -headless -id={creds.client_id} -secret={creds.client_secret} < /dev/null 2>&1 | grep URL\n",
    "vcode = getpass.getpass()\n",
    "!echo {vcode} | google-drive-ocamlfuse -headless -id={creds.client_id} -secret={creds.client_secret}\n",
    "\n",
    "\n",
    "# Create a directory and mount Google Drive using that directory.\n",
    "!mkdir -p MyDrive\n",
    "!google-drive-ocamlfuse MyDrive\n",
    "\n",
    "\n",
    "!ls MyDrive/"
   ]
  },
  {
   "cell_type": "code",
   "execution_count": 16,
   "metadata": {
    "colab": {
     "autoexec": {
      "startup": false,
      "wait_interval": 0
     },
     "base_uri": "https://localhost:8080/",
     "height": 289,
     "output_extras": [
      {
       "item_id": 1
      }
     ]
    },
    "colab_type": "code",
    "executionInfo": {
     "elapsed": 4586,
     "status": "ok",
     "timestamp": 1519891886322,
     "user": {
      "displayName": "Kumarjit Pathak",
      "photoUrl": "https://lh3.googleusercontent.com/a/default-user=s128",
      "userId": "103365804564027322219"
     },
     "user_tz": -330
    },
    "id": "YutXR3IbktyL",
    "outputId": "0cef598f-c2ed-47e7-8b89-9300fc56165f"
   },
   "outputs": [
    {
     "name": "stdout",
     "output_type": "stream",
     "text": [
      "0152183685.pdf\t       Important links.docx\r\n",
      "20151003_105535.jpg    Just mine \r\n",
      "20151003_105541.jpg    kp\r\n",
      "20151003_105551.jpg    kp.zip\r\n",
      "20151003_105558.jpg    Kumarjit Code draft\r\n",
      "20151003_105601.jpg    learning at symphony\r\n",
      "20151003_105612.jpg    Lenovo Backup\r\n",
      "Auto Call Recorder     lg washing machine AMC.jpg\r\n",
      "best_weights.hdf5      Machine learning an algorithmic perspective(2009).pdf\r\n",
      "Colab Notebooks        office old\r\n",
      "control-chart (2).zip  One model for all Deep learning.pdf\r\n",
      "Data Science\t       raw_input\r\n",
      "Deep Learning\t       raw_masks\r\n",
      "Ernest Guru\t       testdir\r\n",
      "Hello (94135c0e).txt   vai exam fee.jpg\r\n",
      "Hello.txt\r\n"
     ]
    }
   ],
   "source": [
    "# Create a directory and mount Google Drive using that directory.\n",
    "!mkdir -p MyDrive\n",
    "!google-drive-ocamlfuse MyDrive\n",
    "\n",
    "\n",
    "!ls MyDrive/"
   ]
  },
  {
   "cell_type": "code",
   "execution_count": 17,
   "metadata": {
    "colab": {
     "autoexec": {
      "startup": false,
      "wait_interval": 0
     },
     "base_uri": "https://localhost:8080/",
     "height": 34,
     "output_extras": [
      {
       "item_id": 1
      }
     ]
    },
    "colab_type": "code",
    "executionInfo": {
     "elapsed": 1917,
     "status": "ok",
     "timestamp": 1519891895312,
     "user": {
      "displayName": "Kumarjit Pathak",
      "photoUrl": "https://lh3.googleusercontent.com/a/default-user=s128",
      "userId": "103365804564027322219"
     },
     "user_tz": -330
    },
    "id": "v_93YrxQkvbP",
    "outputId": "29d0c525-67d6-42db-b442-ef6cf4b33b92"
   },
   "outputs": [
    {
     "name": "stdout",
     "output_type": "stream",
     "text": [
      "datalab  Drive\tMy  MyDrive  test_dir\r\n"
     ]
    }
   ],
   "source": [
    "!ls"
   ]
  },
  {
   "cell_type": "code",
   "execution_count": 0,
   "metadata": {
    "colab": {
     "autoexec": {
      "startup": false,
      "wait_interval": 0
     }
    },
    "colab_type": "code",
    "id": "AkECdZsrk68C"
   },
   "outputs": [],
   "source": [
    "!mkdir /content/MyDrive/test_dir_2"
   ]
  },
  {
   "cell_type": "code",
   "execution_count": 19,
   "metadata": {
    "colab": {
     "autoexec": {
      "startup": false,
      "wait_interval": 0
     },
     "base_uri": "https://localhost:8080/",
     "height": 289,
     "output_extras": [
      {
       "item_id": 1
      }
     ]
    },
    "colab_type": "code",
    "executionInfo": {
     "elapsed": 2879,
     "status": "ok",
     "timestamp": 1519891950467,
     "user": {
      "displayName": "Kumarjit Pathak",
      "photoUrl": "https://lh3.googleusercontent.com/a/default-user=s128",
      "userId": "103365804564027322219"
     },
     "user_tz": -330
    },
    "id": "PmuW_MJYnBY1",
    "outputId": "36f82a8e-3264-4e79-c894-5a3c3d05fffa"
   },
   "outputs": [
    {
     "name": "stdout",
     "output_type": "stream",
     "text": [
      "0152183685.pdf\t       Important links.docx\r\n",
      "20151003_105535.jpg    Just mine \r\n",
      "20151003_105541.jpg    kp\r\n",
      "20151003_105551.jpg    kp.zip\r\n",
      "20151003_105558.jpg    Kumarjit Code draft\r\n",
      "20151003_105601.jpg    learning at symphony\r\n",
      "20151003_105612.jpg    Lenovo Backup\r\n",
      "Auto Call Recorder     lg washing machine AMC.jpg\r\n",
      "best_weights.hdf5      Machine learning an algorithmic perspective(2009).pdf\r\n",
      "Colab Notebooks        office old\r\n",
      "control-chart (2).zip  One model for all Deep learning.pdf\r\n",
      "Data Science\t       raw_input\r\n",
      "Deep Learning\t       raw_masks\r\n",
      "Ernest Guru\t       testdir\r\n",
      "Hello (94135c0e).txt   test_dir_2\r\n",
      "Hello.txt\t       vai exam fee.jpg\r\n"
     ]
    }
   ],
   "source": [
    "!ls MyDrive/"
   ]
  },
  {
   "cell_type": "code",
   "execution_count": 0,
   "metadata": {
    "colab": {
     "autoexec": {
      "startup": false,
      "wait_interval": 0
     }
    },
    "colab_type": "code",
    "id": "dT6Ges_YnHrx"
   },
   "outputs": [],
   "source": [
    "file1 = drive.CreateFile({'id':'1ZWP7H71JWGjofIZGX8byeZtaEsvqd0Gn'}) \n",
    "file1.GetContentFile('example_file')"
   ]
  },
  {
   "cell_type": "code",
   "execution_count": 0,
   "metadata": {
    "colab": {
     "autoexec": {
      "startup": false,
      "wait_interval": 0
     }
    },
    "colab_type": "code",
    "id": "B9w-n4x8oPUr"
   },
   "outputs": [],
   "source": [
    "file = open('example_file', 'r')\n",
    "content = file.readlines()"
   ]
  },
  {
   "cell_type": "code",
   "execution_count": 0,
   "metadata": {
    "colab": {
     "autoexec": {
      "startup": false,
      "wait_interval": 0
     }
    },
    "colab_type": "code",
    "id": "b-_wAez7oS4Z"
   },
   "outputs": [],
   "source": [
    "avira= [ x.split() for x in content]"
   ]
  },
  {
   "cell_type": "code",
   "execution_count": 0,
   "metadata": {
    "colab": {
     "autoexec": {
      "startup": false,
      "wait_interval": 0
     }
    },
    "colab_type": "code",
    "id": "MpGiwaGFoXRc"
   },
   "outputs": [],
   "source": [
    "avira1= [ x[1:-1] for x in avira] # we are applying elimination of first and last element of each row(element) in the list"
   ]
  },
  {
   "cell_type": "code",
   "execution_count": 0,
   "metadata": {
    "colab": {
     "autoexec": {
      "startup": false,
      "wait_interval": 0
     }
    },
    "colab_type": "code",
    "id": "ThvWwyJGodDs"
   },
   "outputs": [],
   "source": [
    "# now this is only for one row of the list and hence can not be representitive henc efirst need to apply it to everything\n",
    "# now there needs to be list which would store these values of dictioary\n",
    "\n",
    "avira2=[]\n",
    "max_col=0 # we want to keep the highest number of the key stored here during the below execution.. this will be used in future\n",
    "for j in avira1:\n",
    "    \n",
    "    avira_dictionary={} # strategy is to create dictionary and append the value to a dictionary\n",
    "    for i in j: # here j is denoting all the items like avira1[1]\n",
    "        k,v = i.split(\":\")\n",
    "        avira_dictionary[int(k)]=float(v)  # doing the type casting\n",
    "    avira2.append(avira_dictionary) # appending the distionary to the list outside of inner for loop \n",
    "    \n",
    "    if max(avira_dictionary.keys())>= max_col:\n",
    "        max_col=max(avira_dictionary.keys())"
   ]
  },
  {
   "cell_type": "code",
   "execution_count": 0,
   "metadata": {
    "colab": {
     "autoexec": {
      "startup": false,
      "wait_interval": 0
     }
    },
    "colab_type": "code",
    "id": "EQHMV9-hohjc"
   },
   "outputs": [],
   "source": [
    "def getvalue(x,a):\n",
    "    if a in x.keys():\n",
    "        return x[a]\n",
    "    else:\n",
    "        return 0\n",
    "\n",
    "def to_getValue(x):\n",
    "    return getvalue(x,1)"
   ]
  },
  {
   "cell_type": "code",
   "execution_count": 0,
   "metadata": {
    "colab": {
     "autoexec": {
      "startup": false,
      "wait_interval": 0
     }
    },
    "colab_type": "code",
    "id": "LiFsPXqConX2"
   },
   "outputs": [],
   "source": [
    "jitin_mean = {}\n",
    "jitin_var = {}\n",
    "\n",
    "for i in range(max_col):\n",
    "    a=list(map(lambda x : getvalue(x,i+1),avira2))\n",
    "    jitin_mean[i+1] = mean(a)\n",
    "    jitin_var[i+1] = variance(a)"
   ]
  },
  {
   "cell_type": "code",
   "execution_count": 0,
   "metadata": {
    "colab": {
     "autoexec": {
      "startup": false,
      "wait_interval": 0
     }
    },
    "colab_type": "code",
    "id": "BhkLXo-xop1R"
   },
   "outputs": [],
   "source": [
    "from statistics import mean, variance"
   ]
  },
  {
   "cell_type": "code",
   "execution_count": 0,
   "metadata": {
    "colab": {
     "autoexec": {
      "startup": false,
      "wait_interval": 0
     }
    },
    "colab_type": "code",
    "id": "A4Jc0TjPp8zt"
   },
   "outputs": [],
   "source": [
    "!chmod 777 /content/MyDrive/test_dir_2/ # for changing the directory permission Read write "
   ]
  },
  {
   "cell_type": "code",
   "execution_count": 0,
   "metadata": {
    "colab": {
     "autoexec": {
      "startup": false,
      "wait_interval": 0
     }
    },
    "colab_type": "code",
    "id": "Chz58eF2owHh"
   },
   "outputs": [],
   "source": [
    "!echo \"\" > /content/MyDrive/test_dir_2/test # creating a new file at this location a\n",
    "location = '/content/MyDrive/test_dir_2/test'"
   ]
  },
  {
   "cell_type": "code",
   "execution_count": 0,
   "metadata": {
    "colab": {
     "autoexec": {
      "startup": false,
      "wait_interval": 0
     }
    },
    "colab_type": "code",
    "id": "XxNDI4D-pCQ8"
   },
   "outputs": [],
   "source": [
    "fo = open(location, \"w\")\n",
    "for k in jitin_mean.keys():\n",
    "    fo.write('-1 key:{} mean:{} varience:{} \\n'.format(k,jitin_mean[k],jitin_var[k]))\n",
    "\n",
    "fo.close()"
   ]
  },
  {
   "cell_type": "code",
   "execution_count": 0,
   "metadata": {
    "colab": {
     "autoexec": {
      "startup": false,
      "wait_interval": 0
     }
    },
    "colab_type": "code",
    "id": "LGNk1l9qpt2f"
   },
   "outputs": [],
   "source": []
  }
 ],
 "metadata": {
  "colab": {
   "collapsed_sections": [],
   "default_view": {},
   "name": "Making google drive as directory.ipynb",
   "provenance": [],
   "version": "0.3.2",
   "views": {}
  },
  "kernelspec": {
   "display_name": "Python 3",
   "language": "python",
   "name": "python3"
  },
  "language_info": {
   "codemirror_mode": {
    "name": "ipython",
    "version": 3
   },
   "file_extension": ".py",
   "mimetype": "text/x-python",
   "name": "python",
   "nbconvert_exporter": "python",
   "pygments_lexer": "ipython3",
   "version": "3.5.4"
  }
 },
 "nbformat": 4,
 "nbformat_minor": 1
}
