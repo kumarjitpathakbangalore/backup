{
  "nbformat": 4,
  "nbformat_minor": 0,
  "metadata": {
    "colab": {
      "name": "Copy of Toxic_comment_practice_v2.ipynb",
      "version": "0.3.2",
      "views": {},
      "default_view": {},
      "provenance": [
        {
          "file_id": "1xXpI9x9YxARdToXie8D4EgJnj14XNaSb",
          "timestamp": 1519895739761
        },
        {
          "file_id": "12SkDaupFXMeD4gDpCvP1hp9O4SSwD_0y",
          "timestamp": 1517908151791
        }
      ],
      "collapsed_sections": []
    },
    "kernelspec": {
      "display_name": "Python 3",
      "language": "python",
      "name": "python3"
    },
    "accelerator": "GPU"
  },
  "cells": [
    {
      "metadata": {
        "id": "GcejpAuc-1Cq",
        "colab_type": "text"
      },
      "cell_type": "markdown",
      "source": [
        "## Movielens"
      ]
    },
    {
      "metadata": {
        "id": "OhZv3z02_RyK",
        "colab_type": "code",
        "colab": {
          "autoexec": {
            "startup": false,
            "wait_interval": 0
          },
          "output_extras": [
            {},
            {},
            {},
            {},
            {}
          ],
          "base_uri": "https://localhost:8080/",
          "height": 3330
        },
        "outputId": "92c34ee2-8420-42aa-c0c2-35dd95efadae",
        "executionInfo": {
          "status": "ok",
          "timestamp": 1517985713677,
          "user_tz": -330,
          "elapsed": 218343,
          "user": {
            "displayName": "prabhukiran g",
            "photoUrl": "//lh4.googleusercontent.com/-BYx7PrXEoDk/AAAAAAAAAAI/AAAAAAAAHQ4/Rp2XJAt4a9w/s50-c-k-no/photo.jpg",
            "userId": "111602092102230767926"
          }
        }
      },
      "cell_type": "code",
      "source": [
        "!pip install fastai"
      ],
      "execution_count": 0,
      "outputs": [
        {
          "output_type": "stream",
          "text": [
            "Collecting fastai\n",
            "  Downloading fastai-0.6.tar.gz (429kB)\n",
            "\u001b[K    100% |████████████████████████████████| 430kB 1.9MB/s \n",
            "\u001b[?25hRequirement already satisfied: Jinja2 in /usr/local/lib/python3.6/dist-packages (from fastai)\n",
            "Requirement already satisfied: MarkupSafe in /usr/local/lib/python3.6/dist-packages (from fastai)\n",
            "Requirement already satisfied: Pillow in /usr/local/lib/python3.6/dist-packages (from fastai)\n",
            "Requirement already satisfied: PyYAML in /usr/local/lib/python3.6/dist-packages (from fastai)\n",
            "Requirement already satisfied: Pygments in /usr/local/lib/python3.6/dist-packages (from fastai)\n",
            "Collecting awscli (from fastai)\n",
            "  Downloading awscli-1.14.34-py2.py3-none-any.whl (1.2MB)\n",
            "\u001b[K    100% |████████████████████████████████| 1.2MB 1.1MB/s \n",
            "\u001b[?25hCollecting bcolz (from fastai)\n",
            "  Downloading bcolz-1.1.2.tar.gz (1.3MB)\n",
            "\u001b[K    100% |████████████████████████████████| 1.3MB 1.1MB/s \n",
            "\u001b[?25hRequirement already satisfied: bleach in /usr/local/lib/python3.6/dist-packages (from fastai)\n",
            "Requirement already satisfied: certifi in /usr/local/lib/python3.6/dist-packages (from fastai)\n",
            "Requirement already satisfied: cycler in /usr/local/lib/python3.6/dist-packages (from fastai)\n",
            "Requirement already satisfied: decorator in /usr/local/lib/python3.6/dist-packages (from fastai)\n",
            "Requirement already satisfied: entrypoints in /usr/local/lib/python3.6/dist-packages (from fastai)\n",
            "Collecting feather-format (from fastai)\n",
            "  Downloading feather-format-0.4.0.tar.gz\n",
            "Collecting graphviz (from fastai)\n",
            "  Downloading graphviz-0.8.2-py2.py3-none-any.whl\n",
            "Requirement already satisfied: html5lib in /usr/local/lib/python3.6/dist-packages (from fastai)\n",
            "Requirement already satisfied: ipykernel in /usr/local/lib/python3.6/dist-packages (from fastai)\n",
            "Requirement already satisfied: ipython in /usr/local/lib/python3.6/dist-packages (from fastai)\n",
            "Requirement already satisfied: ipython-genutils in /usr/local/lib/python3.6/dist-packages (from fastai)\n",
            "Collecting ipywidgets (from fastai)\n",
            "  Downloading ipywidgets-7.1.1-py2.py3-none-any.whl (68kB)\n",
            "\u001b[K    100% |████████████████████████████████| 71kB 7.4MB/s \n",
            "\u001b[?25hCollecting isoweek (from fastai)\n",
            "  Downloading isoweek-1.3.3-py2.py3-none-any.whl\n",
            "Collecting jedi (from fastai)\n",
            "  Downloading jedi-0.11.1-py2.py3-none-any.whl (250kB)\n",
            "\u001b[K    100% |████████████████████████████████| 256kB 3.7MB/s \n",
            "\u001b[?25hRequirement already satisfied: jsonschema in /usr/local/lib/python3.6/dist-packages (from fastai)\n",
            "Collecting jupyter (from fastai)\n",
            "  Downloading jupyter-1.0.0-py2.py3-none-any.whl\n",
            "Requirement already satisfied: jupyter-client in /usr/local/lib/python3.6/dist-packages (from fastai)\n",
            "Collecting jupyter-console (from fastai)\n",
            "  Downloading jupyter_console-5.2.0-py2.py3-none-any.whl\n",
            "Requirement already satisfied: jupyter-core in /usr/local/lib/python3.6/dist-packages (from fastai)\n",
            "Collecting jupyter_contrib_nbextensions (from fastai)\n",
            "  Downloading jupyter_contrib_nbextensions-0.4.0-py2.py3-none-any.whl (20.8MB)\n",
            "\u001b[K    100% |████████████████████████████████| 20.8MB 65kB/s \n",
            "\u001b[?25hCollecting kaggle-cli (from fastai)\n"
          ],
          "name": "stdout"
        },
        {
          "output_type": "stream",
          "text": [
            "  Downloading kaggle-cli-0.12.13.tar.gz\n",
            "Requirement already satisfied: matplotlib in /usr/local/lib/python3.6/dist-packages (from fastai)\n",
            "Requirement already satisfied: mistune in /usr/local/lib/python3.6/dist-packages (from fastai)\n",
            "Requirement already satisfied: nbconvert in /usr/local/lib/python3.6/dist-packages (from fastai)\n",
            "Requirement already satisfied: nbformat in /usr/local/lib/python3.6/dist-packages (from fastai)\n",
            "Requirement already satisfied: notebook in /usr/local/lib/python3.6/dist-packages (from fastai)\n",
            "Requirement already satisfied: numpy in /usr/local/lib/python3.6/dist-packages (from fastai)\n",
            "Requirement already satisfied: olefile in /usr/local/lib/python3.6/dist-packages (from fastai)\n",
            "Collecting opencv-python (from fastai)\n",
            "  Downloading opencv_python-3.4.0.12-cp36-cp36m-manylinux1_x86_64.whl (24.9MB)\n",
            "\u001b[K    100% |████████████████████████████████| 24.9MB 55kB/s \n",
            "\u001b[?25hRequirement already satisfied: pandas in /usr/local/lib/python3.6/dist-packages (from fastai)\n",
            "Collecting pandas_summary (from fastai)\n",
            "  Downloading pandas-summary-0.0.41.tar.gz\n",
            "Requirement already satisfied: pandocfilters in /usr/local/lib/python3.6/dist-packages (from fastai)\n",
            "Requirement already satisfied: pexpect in /usr/local/lib/python3.6/dist-packages (from fastai)\n",
            "Requirement already satisfied: pickleshare in /usr/local/lib/python3.6/dist-packages (from fastai)\n",
            "Collecting plotnine (from fastai)\n",
            "  Downloading plotnine-0.3.0-py2.py3-none-any.whl (3.4MB)\n",
            "\u001b[K    100% |████████████████████████████████| 3.4MB 399kB/s \n",
            "\u001b[?25hRequirement already satisfied: prompt-toolkit in /usr/local/lib/python3.6/dist-packages (from fastai)\n",
            "Requirement already satisfied: ptyprocess in /usr/local/lib/python3.6/dist-packages (from fastai)\n",
            "Requirement already satisfied: pyparsing in /usr/local/lib/python3.6/dist-packages (from fastai)\n",
            "Requirement already satisfied: python-dateutil in /usr/local/lib/python3.6/dist-packages (from fastai)\n",
            "Requirement already satisfied: pytz in /usr/local/lib/python3.6/dist-packages (from fastai)\n",
            "Requirement already satisfied: pyzmq in /usr/local/lib/python3.6/dist-packages (from fastai)\n",
            "Collecting qtconsole (from fastai)\n",
            "  Downloading qtconsole-4.3.1-py2.py3-none-any.whl (108kB)\n",
            "\u001b[K    100% |████████████████████████████████| 112kB 9.6MB/s \n",
            "\u001b[?25hRequirement already satisfied: scipy in /usr/local/lib/python3.6/dist-packages (from fastai)\n",
            "Requirement already satisfied: seaborn in /usr/local/lib/python3.6/dist-packages (from fastai)\n",
            "Requirement already satisfied: simplegeneric in /usr/local/lib/python3.6/dist-packages (from fastai)\n",
            "Requirement already satisfied: six in /usr/local/lib/python3.6/dist-packages (from fastai)\n",
            "Collecting sklearn_pandas (from fastai)\n",
            "  Downloading sklearn_pandas-1.6.0-py2.py3-none-any.whl\n",
            "Requirement already satisfied: terminado in /usr/local/lib/python3.6/dist-packages (from fastai)\n",
            "Requirement already satisfied: testpath in /usr/local/lib/python3.6/dist-packages (from fastai)\n",
            "Collecting torchtext (from fastai)\n",
            "  Downloading torchtext-0.2.1-py3-none-any.whl (41kB)\n",
            "\u001b[K    100% |████████████████████████████████| 51kB 11.5MB/s \n",
            "\u001b[?25hRequirement already satisfied: tornado in /usr/local/lib/python3.6/dist-packages (from fastai)\n",
            "Collecting tqdm (from fastai)\n",
            "  Downloading tqdm-4.19.5-py2.py3-none-any.whl (51kB)\n",
            "\u001b[K    100% |████████████████████████████████| 61kB 11.3MB/s \n",
            "\u001b[?25hRequirement already satisfied: traitlets in /usr/local/lib/python3.6/dist-packages (from fastai)\n",
            "Requirement already satisfied: wcwidth in /usr/local/lib/python3.6/dist-packages (from fastai)\n",
            "Requirement already satisfied: webencodings in /usr/local/lib/python3.6/dist-packages (from fastai)\n",
            "Collecting widgetsnbextension (from fastai)\n",
            "  Downloading widgetsnbextension-3.1.3-py2.py3-none-any.whl (2.2MB)\n",
            "\u001b[K    100% |████████████████████████████████| 2.2MB 625kB/s \n",
            "\u001b[?25hRequirement already satisfied: rsa<=3.5.0,>=3.1.2 in /usr/local/lib/python3.6/dist-packages (from awscli->fastai)\n",
            "Collecting s3transfer<0.2.0,>=0.1.12 (from awscli->fastai)\n",
            "  Downloading s3transfer-0.1.12-py2.py3-none-any.whl (59kB)\n",
            "\u001b[K    100% |████████████████████████████████| 61kB 10.4MB/s \n",
            "\u001b[?25hCollecting docutils>=0.10 (from awscli->fastai)\n",
            "  Downloading docutils-0.14-py3-none-any.whl (543kB)\n",
            "\u001b[K    99% |████████████████████████████████| 542kB 35.2MB/s eta 0:00:01"
          ],
          "name": "stdout"
        },
        {
          "output_type": "stream",
          "text": [
            "\u001b[K    100% |████████████████████████████████| 552kB 2.3MB/s \n",
            "\u001b[?25hCollecting colorama<=0.3.7,>=0.2.5 (from awscli->fastai)\n",
            "  Downloading colorama-0.3.7-py2.py3-none-any.whl\n",
            "Collecting botocore==1.8.38 (from awscli->fastai)\n",
            "  Downloading botocore-1.8.38-py2.py3-none-any.whl (4.1MB)\n",
            "\u001b[K    100% |████████████████████████████████| 4.1MB 335kB/s \n",
            "\u001b[?25hCollecting pyarrow>=0.4.0 (from feather-format->fastai)\n",
            "  Downloading pyarrow-0.8.0-cp36-cp36m-manylinux1_x86_64.whl (6.9MB)\n",
            "\u001b[K    100% |████████████████████████████████| 6.9MB 195kB/s \n",
            "\u001b[?25hRequirement already satisfied: setuptools>=18.5 in /usr/lib/python3/dist-packages (from ipython->fastai)\n",
            "Collecting parso==0.1.1 (from jedi->fastai)\n",
            "  Downloading parso-0.1.1-py2.py3-none-any.whl (91kB)\n",
            "\u001b[K    100% |████████████████████████████████| 92kB 10.3MB/s \n",
            "\u001b[?25hCollecting lxml (from jupyter_contrib_nbextensions->fastai)\n",
            "  Downloading lxml-4.1.1-cp36-cp36m-manylinux1_x86_64.whl (5.6MB)\n",
            "\u001b[K    100% |████████████████████████████████| 5.6MB 249kB/s \n",
            "\u001b[?25hCollecting jupyter-latex-envs>=1.3.8 (from jupyter_contrib_nbextensions->fastai)\n",
            "  Downloading jupyter_latex_envs-1.4.1.tar.gz (793kB)\n",
            "\u001b[K    100% |████████████████████████████████| 798kB 1.7MB/s \n",
            "\u001b[?25hCollecting jupyter-contrib-core>=0.3.3 (from jupyter_contrib_nbextensions->fastai)\n",
            "  Downloading jupyter_contrib_core-0.3.3-py2.py3-none-any.whl\n",
            "Collecting jupyter-highlight-selected-word>=0.0.10 (from jupyter_contrib_nbextensions->fastai)\n",
            "  Downloading jupyter_highlight_selected_word-0.1.0-py2.py3-none-any.whl\n",
            "Collecting jupyter-nbextensions-configurator>=0.4.0 (from jupyter_contrib_nbextensions->fastai)\n",
            "  Downloading jupyter_nbextensions_configurator-0.4.0-py2.py3-none-any.whl (466kB)\n",
            "\u001b[K    100% |████████████████████████████████| 471kB 2.1MB/s \n",
            "\u001b[?25hCollecting MechanicalSoup<0.9,>=0.7.0 (from kaggle-cli->fastai)\n",
            "  Downloading MechanicalSoup-0.8.0-py2.py3-none-any.whl\n",
            "Requirement already satisfied: beautifulsoup4<4.7,>=4.6.0 in /usr/local/lib/python3.6/dist-packages (from kaggle-cli->fastai)\n",
            "Collecting cliff<2.9,>=2.8.0 (from kaggle-cli->fastai)\n",
            "  Downloading cliff-2.8.0.tar.gz (71kB)\n",
            "\u001b[K    100% |████████████████████████████████| 81kB 6.5MB/s \n",
            "\u001b[?25hCollecting configparser (from kaggle-cli->fastai)\n",
            "  Downloading configparser-3.5.0.tar.gz\n",
            "Collecting cssselect<1.1,>=1.0.1 (from kaggle-cli->fastai)\n",
            "  Downloading cssselect-1.0.3-py2.py3-none-any.whl\n",
            "Collecting progressbar2<3.35,>=3.34.3 (from kaggle-cli->fastai)\n",
            "  Downloading progressbar2-3.34.3-py2.py3-none-any.whl\n",
            "Collecting mizani>=0.4.1 (from plotnine->fastai)\n",
            "  Downloading mizani-0.4.4-py2.py3-none-any.whl (65kB)\n",
            "\u001b[K    100% |████████████████████████████████| 71kB 10.3MB/s \n",
            "\u001b[?25hRequirement already satisfied: statsmodels>=0.8.0 in /usr/local/lib/python3.6/dist-packages (from plotnine->fastai)\n",
            "Requirement already satisfied: patsy>=0.4.1 in /usr/local/lib/python3.6/dist-packages (from plotnine->fastai)\n",
            "Requirement already satisfied: scikit-learn>=0.15.0 in /usr/local/lib/python3.6/dist-packages (from sklearn_pandas->fastai)\n",
            "Requirement already satisfied: requests in /usr/local/lib/python3.6/dist-packages (from torchtext->fastai)\n",
            "Requirement already satisfied: pyasn1>=0.1.3 in /usr/local/lib/python3.6/dist-packages (from rsa<=3.5.0,>=3.1.2->awscli->fastai)\n",
            "Collecting jmespath<1.0.0,>=0.7.1 (from botocore==1.8.38->awscli->fastai)\n",
            "  Downloading jmespath-0.9.3-py2.py3-none-any.whl\n",
            "Collecting PrettyTable<0.8,>=0.7.1 (from cliff<2.9,>=2.8.0->kaggle-cli->fastai)\n",
            "  Downloading prettytable-0.7.2.zip\n",
            "Collecting cmd2>=0.6.7 (from cliff<2.9,>=2.8.0->kaggle-cli->fastai)\n",
            "  Downloading cmd2-0.8.0.tar.gz (75kB)\n",
            "\u001b[K    100% |████████████████████████████████| 81kB 9.7MB/s \n",
            "\u001b[?25hCollecting pbr!=2.1.0,>=2.0.0 (from cliff<2.9,>=2.8.0->kaggle-cli->fastai)\n",
            "  Downloading pbr-3.1.1-py2.py3-none-any.whl (99kB)\n",
            "\u001b[K    100% |████████████████████████████████| 102kB 9.9MB/s \n",
            "\u001b[?25hCollecting stevedore>=1.20.0 (from cliff<2.9,>=2.8.0->kaggle-cli->fastai)\n",
            "  Downloading stevedore-1.28.0-py2.py3-none-any.whl\n"
          ],
          "name": "stdout"
        },
        {
          "output_type": "stream",
          "text": [
            "Collecting python-utils>=2.1.0 (from progressbar2<3.35,>=3.34.3->kaggle-cli->fastai)\n",
            "  Downloading python_utils-2.2.0-py2.py3-none-any.whl\n",
            "Collecting palettable (from mizani>=0.4.1->plotnine->fastai)\n",
            "  Downloading palettable-3.1.0-py2.py3-none-any.whl (78kB)\n",
            "\u001b[K    100% |████████████████████████████████| 81kB 7.2MB/s \n",
            "\u001b[?25hRequirement already satisfied: urllib3<1.23,>=1.21.1 in /usr/local/lib/python3.6/dist-packages (from requests->torchtext->fastai)\n",
            "Requirement already satisfied: idna<2.7,>=2.5 in /usr/local/lib/python3.6/dist-packages (from requests->torchtext->fastai)\n",
            "Requirement already satisfied: chardet<3.1.0,>=3.0.2 in /usr/local/lib/python3.6/dist-packages (from requests->torchtext->fastai)\n",
            "Collecting pyperclip (from cmd2>=0.6.7->cliff<2.9,>=2.8.0->kaggle-cli->fastai)\n",
            "  Downloading pyperclip-1.6.0.tar.gz\n",
            "Building wheels for collected packages: fastai, bcolz, feather-format, kaggle-cli, pandas-summary, jupyter-latex-envs, cliff, configparser, PrettyTable, cmd2, pyperclip\n",
            "  Running setup.py bdist_wheel for fastai ... \u001b[?25l-\b \b\\\b \bdone\n",
            "\u001b[?25h  Stored in directory: /content/.cache/pip/wheels/13/6b/e1/1f1c38574e6abf3cfd747b345213ed1a4e2bf149646e16408d\n",
            "  Running setup.py bdist_wheel for bcolz ... \u001b[?25l-\b \b\\\b \b|\b \b/\b \b-\b \b\\\b \b|\b \b/\b \b-\b \b\\\b \b|\b \b/\b \b-\b \b\\\b \b|\b \b/\b \b-\b \b\\\b \b|\b \b/\b \b-\b \b\\\b \b|\b \b/\b \b-\b \b\\\b \b|\b \b/\b \b-\b \b\\\b \b|\b \b/\b \b-\b \b\\\b \b|\b \b/\b \b-\b \b\\\b \b|\b \b/\b \b-\b \b\\\b \b|\b \b/\b \b-\b \b\\\b \b|\b \b/\b \bdone\n",
            "\u001b[?25h  Stored in directory: /content/.cache/pip/wheels/e9/84/eb/f8f3caa627bb01ebc96034c3411f59870951246e5873b3f4c7\n",
            "  Running setup.py bdist_wheel for feather-format ... \u001b[?25l-\b \bdone\n",
            "\u001b[?25h  Stored in directory: /content/.cache/pip/wheels/9d/de/23/0ca11012cc6b573de3f8187727cfa97a8392a8605e331214e5\n",
            "  Running setup.py bdist_wheel for kaggle-cli ... \u001b[?25l-\b \bdone\n",
            "\u001b[?25h  Stored in directory: /content/.cache/pip/wheels/f0/3c/ff/c98870eeb0ca26250ce6a60dc9be23f547b7ef68b3d6a1c0b5\n",
            "  Running setup.py bdist_wheel for pandas-summary ... \u001b[?25l-\b \bdone\n",
            "\u001b[?25h  Stored in directory: /content/.cache/pip/wheels/20/29/c9/b3d9f2cbdb6f1eeeb98e263ae687d72e8138a26de91058bd0b\n",
            "  Running setup.py bdist_wheel for jupyter-latex-envs ... \u001b[?25l-\b \b\\\b \bdone\n",
            "\u001b[?25h  Stored in directory: /content/.cache/pip/wheels/c4/6c/12/312460b777568482fbf308ab45154a573172ac33da9c91cf83\n",
            "  Running setup.py bdist_wheel for cliff ... \u001b[?25l-\b \bdone\n",
            "\u001b[?25h  Stored in directory: /content/.cache/pip/wheels/27/4c/aa/0f67aa384e67aacc5629321b1a3f85892362d4e9e5cd3a20f1\n",
            "  Running setup.py bdist_wheel for configparser ... \u001b[?25l-"
          ],
          "name": "stdout"
        },
        {
          "output_type": "stream",
          "text": [
            "\b \bdone\r\n",
            "\u001b[?25h  Stored in directory: /content/.cache/pip/wheels/1c/bd/b4/277af3f6c40645661b4cd1c21df26aca0f2e1e9714a1d4cda8\n",
            "  Running setup.py bdist_wheel for PrettyTable ... \u001b[?25l-\b \bdone\n",
            "\u001b[?25h  Stored in directory: /content/.cache/pip/wheels/b6/90/7b/1c22b89217d0eba6d5f406e562365ebee804f0d4595b2bdbcd\n",
            "  Running setup.py bdist_wheel for cmd2 ... \u001b[?25l-\b \bdone\n",
            "\u001b[?25h  Stored in directory: /content/.cache/pip/wheels/53/53/30/dd00e07ff8d6107238799cc0af24fa6fea8a198d7fb945c2df\n",
            "  Running setup.py bdist_wheel for pyperclip ... \u001b[?25l-\b \bdone\n",
            "\u001b[?25h  Stored in directory: /content/.cache/pip/wheels/a9/22/c3/8116911c3273f6aa0a90ce69c44fb8a6a0e139d79aeda5a73e\n",
            "Successfully built fastai bcolz feather-format kaggle-cli pandas-summary jupyter-latex-envs cliff configparser PrettyTable cmd2 pyperclip\n",
            "Installing collected packages: docutils, jmespath, botocore, s3transfer, colorama, awscli, bcolz, pyarrow, feather-format, graphviz, widgetsnbextension, ipywidgets, isoweek, parso, jedi, jupyter-console, qtconsole, jupyter, lxml, jupyter-latex-envs, jupyter-contrib-core, jupyter-highlight-selected-word, jupyter-nbextensions-configurator, jupyter-contrib-nbextensions, MechanicalSoup, PrettyTable, pyperclip, cmd2, pbr, stevedore, cliff, configparser, cssselect, python-utils, progressbar2, kaggle-cli, opencv-python, pandas-summary, palettable, mizani, plotnine, sklearn-pandas, tqdm, torchtext, fastai\n",
            "Successfully installed MechanicalSoup-0.8.0 PrettyTable-0.7.2 awscli-1.14.34 bcolz-1.1.2 botocore-1.8.38 cliff-2.8.0 cmd2-0.8.0 colorama-0.3.7 configparser-3.5.0 cssselect-1.0.3 docutils-0.14 fastai-0.6 feather-format-0.4.0 graphviz-0.8.2 ipywidgets-7.1.1 isoweek-1.3.3 jedi-0.11.1 jmespath-0.9.3 jupyter-1.0.0 jupyter-console-5.2.0 jupyter-contrib-core-0.3.3 jupyter-contrib-nbextensions-0.4.0 jupyter-highlight-selected-word-0.1.0 jupyter-latex-envs-1.4.1 jupyter-nbextensions-configurator-0.4.0 kaggle-cli-0.12.13 lxml-4.1.1 mizani-0.4.4 opencv-python-3.4.0.12 palettable-3.1.0 pandas-summary-0.0.41 parso-0.1.1 pbr-3.1.1 plotnine-0.3.0 progressbar2-3.34.3 pyarrow-0.8.0 pyperclip-1.6.0 python-utils-2.2.0 qtconsole-4.3.1 s3transfer-0.1.12 sklearn-pandas-1.6.0 stevedore-1.28.0 torchtext-0.2.1 tqdm-4.19.5 widgetsnbextension-3.1.3\n"
          ],
          "name": "stdout"
        }
      ]
    },
    {
      "metadata": {
        "id": "ycM_UpnZA6Sk",
        "colab_type": "code",
        "colab": {
          "autoexec": {
            "startup": false,
            "wait_interval": 0
          }
        }
      },
      "cell_type": "code",
      "source": [
        "# http://pytorch.org/\n",
        "from os import path\n",
        "from wheel.pep425tags import get_abbr_impl, get_impl_ver, get_abi_tag\n",
        "platform = '{}{}-{}'.format(get_abbr_impl(), get_impl_ver(), get_abi_tag())\n",
        "\n",
        "accelerator = 'cu80' if path.exists('/opt/bin/nvidia-smi') else 'cpu'\n",
        "\n",
        "!pip install -q http://download.pytorch.org/whl/{accelerator}/torch-0.3.0.post4-{platform}-linux_x86_64.whl torchvision"
      ],
      "execution_count": 0,
      "outputs": []
    },
    {
      "metadata": {
        "id": "RvQTOdUpBRTE",
        "colab_type": "code",
        "colab": {
          "autoexec": {
            "startup": false,
            "wait_interval": 0
          },
          "output_extras": [
            {}
          ],
          "base_uri": "https://localhost:8080/",
          "height": 387
        },
        "outputId": "84cd50dd-9a83-42cc-c431-0a78b4f2bf75",
        "executionInfo": {
          "status": "ok",
          "timestamp": 1517985803013,
          "user_tz": -330,
          "elapsed": 38741,
          "user": {
            "displayName": "prabhukiran g",
            "photoUrl": "//lh4.googleusercontent.com/-BYx7PrXEoDk/AAAAAAAAAAI/AAAAAAAAHQ4/Rp2XJAt4a9w/s50-c-k-no/photo.jpg",
            "userId": "111602092102230767926"
          }
        }
      },
      "cell_type": "code",
      "source": [
        "# https://opencv.org/\n",
        "!apt-get -qq install -y libsm6 libxext6 && pip install -q -U opencv-python\n",
        "import cv2"
      ],
      "execution_count": 0,
      "outputs": [
        {
          "output_type": "stream",
          "text": [
            "Selecting previously unselected package libxext6:amd64.\r\n",
            "(Reading database ... \r(Reading database ... 5%\r(Reading database ... 10%\r(Reading database ... 15%\r(Reading database ... 20%\r(Reading database ... 25%\r(Reading database ... 30%\r(Reading database ... 35%\r(Reading database ... 40%\r(Reading database ... 45%\r(Reading database ... 50%\r(Reading database ... 55%\r(Reading database ... 60%\r(Reading database ... 65%\r(Reading database ... 70%\r(Reading database ... 75%\r(Reading database ... 80%\r(Reading database ... 85%\r(Reading database ... 90%\r(Reading database ... 95%\r(Reading database ... 100%\r(Reading database ... 16633 files and directories currently installed.)\r\n",
            "Preparing to unpack .../libxext6_2%3a1.3.3-1_amd64.deb ...\n",
            "Unpacking libxext6:amd64 (2:1.3.3-1) ...\n",
            "Selecting previously unselected package x11-common.\n",
            "Preparing to unpack .../x11-common_1%3a7.7+19ubuntu3_all.deb ...\n",
            "Unpacking x11-common (1:7.7+19ubuntu3) ...\n",
            "Selecting previously unselected package libice6:amd64.\n",
            "Preparing to unpack .../libice6_2%3a1.0.9-2_amd64.deb ...\n",
            "Unpacking libice6:amd64 (2:1.0.9-2) ...\n",
            "Selecting previously unselected package libsm6:amd64.\n",
            "Preparing to unpack .../libsm6_2%3a1.2.2-1_amd64.deb ...\n",
            "Unpacking libsm6:amd64 (2:1.2.2-1) ...\n",
            "Setting up libxext6:amd64 (2:1.3.3-1) ...\n",
            "Processing triggers for libc-bin (2.26-0ubuntu2) ...\n",
            "Setting up x11-common (1:7.7+19ubuntu3) ...\n",
            "update-rc.d: warning: start and stop actions are no longer supported; falling back to defaults\n",
            "invoke-rc.d: could not determine current runlevel\n",
            "invoke-rc.d: policy-rc.d denied execution of start.\n",
            "Setting up libice6:amd64 (2:1.0.9-2) ...\n",
            "Setting up libsm6:amd64 (2:1.2.2-1) ...\n",
            "Processing triggers for libc-bin (2.26-0ubuntu2) ...\n"
          ],
          "name": "stdout"
        }
      ]
    },
    {
      "metadata": {
        "id": "6I4InNUFBxsX",
        "colab_type": "code",
        "colab": {
          "autoexec": {
            "startup": false,
            "wait_interval": 0
          },
          "output_extras": [
            {}
          ],
          "base_uri": "https://localhost:8080/",
          "height": 34
        },
        "outputId": "03e3e32e-ac70-425d-861d-e8d11780364e",
        "executionInfo": {
          "status": "ok",
          "timestamp": 1517985812906,
          "user_tz": -330,
          "elapsed": 9854,
          "user": {
            "displayName": "prabhukiran g",
            "photoUrl": "//lh4.googleusercontent.com/-BYx7PrXEoDk/AAAAAAAAAAI/AAAAAAAAHQ4/Rp2XJAt4a9w/s50-c-k-no/photo.jpg",
            "userId": "111602092102230767926"
          }
        }
      },
      "cell_type": "code",
      "source": [
        "!pip install -q keras\n",
        "import keras"
      ],
      "execution_count": 0,
      "outputs": [
        {
          "output_type": "stream",
          "text": [
            "Using TensorFlow backend.\n"
          ],
          "name": "stderr"
        }
      ]
    },
    {
      "metadata": {
        "id": "_Yz6qyB3-1Cu",
        "colab_type": "code",
        "colab": {
          "autoexec": {
            "startup": false,
            "wait_interval": 0
          }
        }
      },
      "cell_type": "code",
      "source": [
        "%reload_ext autoreload\n",
        "%autoreload 2\n",
        "%matplotlib inline\n",
        "\n",
        "from fastai.learner import *\n",
        "from fastai.column_data import *"
      ],
      "execution_count": 0,
      "outputs": []
    },
    {
      "metadata": {
        "id": "mB92BVvbEjEB",
        "colab_type": "code",
        "colab": {
          "autoexec": {
            "startup": false,
            "wait_interval": 0
          },
          "output_extras": [
            {}
          ],
          "base_uri": "https://localhost:8080/",
          "height": 407
        },
        "outputId": "ab269d5f-a55b-4e07-df31-dcb02aa277ab",
        "executionInfo": {
          "status": "ok",
          "timestamp": 1518000916117,
          "user_tz": -330,
          "elapsed": 2149,
          "user": {
            "displayName": "prabhukiran g",
            "photoUrl": "//lh4.googleusercontent.com/-BYx7PrXEoDk/AAAAAAAAAAI/AAAAAAAAHQ4/Rp2XJAt4a9w/s50-c-k-no/photo.jpg",
            "userId": "111602092102230767926"
          }
        }
      },
      "cell_type": "code",
      "source": [
        "!wget --header=\"Host: storage.googleapis.com\" --header=\"User-Agent: Mozilla/5.0 (Windows NT 6.1; Win64; x64) AppleWebKit/537.36 (KHTML, like Gecko) Chrome/63.0.3239.132 Safari/537.36\" --header=\"Accept: text/html,application/xhtml+xml,application/xml;q=0.9,image/webp,image/apng,*/*;q=0.8\" --header=\"Accept-Language: en-US,en;q=0.9\" \"https://storage.googleapis.com/kaggle-competitions-data/kaggle/8076/train.csv.zip?GoogleAccessId=web-data@kaggle-161607.iam.gserviceaccount.com&Expires=1518169585&Signature=DK9FHE75RHg60ddtePvE%2Byq1zJy1uMjNARJnaj3g%2Bsgil0ND2DEVsSnVU%2Bb%2BNCyEFGgdIXT5696QmZ6TDMy0x3wS55EHCYi5rTACxoNxigr8avPg22KB2nk%2FMWssy6%2FiVhrNN0Dw5N6s7qTs17%2FhUtPsFe1Rvx8WFmOQXUBeB4pmEjCiSBiJGlljShIlICtrtpwpTuoQ8IQjdEE%2FNOb%2BoSY4fHsA2usiq1nH831ImC%2FcgIIlj114xvq3vpBLvVbu01OT0%2FVPR2w2Yf%2Bh%2Fy1Oo7%2FoU%2FtsOHK313xRNf9k80S8yUxKCyXF7AqFt3KA188DF1%2BBijremGfcK8NGPd9TXA%3D%3D\" -O \"train.csv.zip\" -c\n",
        "!wget --header=\"Host: storage.googleapis.com\" --header=\"User-Agent: Mozilla/5.0 (Windows NT 6.1; Win64; x64) AppleWebKit/537.36 (KHTML, like Gecko) Chrome/64.0.3282.140 Safari/537.36\" --header=\"Accept: text/html,application/xhtml+xml,application/xml;q=0.9,image/webp,image/apng,*/*;q=0.8\" --header=\"Accept-Language: en-US,en;q=0.9\" \"https://storage.googleapis.com/kaggle-competitions-data/kaggle/8076/test.csv.zip?GoogleAccessId=web-data@kaggle-161607.iam.gserviceaccount.com&Expires=1518260080&Signature=Q4kNRY9e%2BA39Rq6Jio5DQ9e26pbiLaezcNwn3GZun%2BgZHRZtQIkxR51xQHcAX45QstEQ3rwXP2wnd3VZUX3AFjWQVFEJy0jWJbCh%2BwA3ihDl%2F4w4m3p2x3kavxGjutmjxQTKICkHlbzDIPIiwtUY2HTPlf2Eri78Ev1JhwE7%2B%2BRoc1RUy0E%2FKI1zfPU%2BSp4hIq19uSJOVprHgm3BIKeO7ogDhCT%2Fl1Ra0tSQvr8AB6aCBHdIjq%2B33ByIl%2BHuCZzqjAfMeughe0Z1etj9VzjrNJBh%2FENjG%2BoYm3LV%2BRbzFmtMWDo57uxqPHYD4gjzUIjvkzMBjorMo%2FKcVXc%2BXWZB5A%3D%3D\" -O \"test.csv.zip\" -c"
      ],
      "execution_count": 0,
      "outputs": [
        {
          "output_type": "stream",
          "text": [
            "--2018-02-07 10:55:14--  https://storage.googleapis.com/kaggle-competitions-data/kaggle/8076/train.csv.zip?GoogleAccessId=web-data@kaggle-161607.iam.gserviceaccount.com&Expires=1518169585&Signature=DK9FHE75RHg60ddtePvE%2Byq1zJy1uMjNARJnaj3g%2Bsgil0ND2DEVsSnVU%2Bb%2BNCyEFGgdIXT5696QmZ6TDMy0x3wS55EHCYi5rTACxoNxigr8avPg22KB2nk%2FMWssy6%2FiVhrNN0Dw5N6s7qTs17%2FhUtPsFe1Rvx8WFmOQXUBeB4pmEjCiSBiJGlljShIlICtrtpwpTuoQ8IQjdEE%2FNOb%2BoSY4fHsA2usiq1nH831ImC%2FcgIIlj114xvq3vpBLvVbu01OT0%2FVPR2w2Yf%2Bh%2Fy1Oo7%2FoU%2FtsOHK313xRNf9k80S8yUxKCyXF7AqFt3KA188DF1%2BBijremGfcK8NGPd9TXA%3D%3D\r\n",
            "Resolving storage.googleapis.com (storage.googleapis.com)... 74.125.141.128, 2607:f8b0:400c:c06::80\r\n",
            "Connecting to storage.googleapis.com (storage.googleapis.com)|74.125.141.128|:443... connected.\n",
            "HTTP request sent, awaiting response... 200 OK\n",
            "Length: 27619914 (26M) [application/zip]\n",
            "Saving to: ‘train.csv.zip’\n",
            "\n",
            "train.csv.zip       100%[===================>]  26.34M   156MB/s    in 0.2s    \n",
            "\n",
            "2018-02-07 10:55:14 (156 MB/s) - ‘train.csv.zip’ saved [27619914/27619914]\n",
            "\n",
            "--2018-02-07 10:55:15--  https://storage.googleapis.com/kaggle-competitions-data/kaggle/8076/test.csv.zip?GoogleAccessId=web-data@kaggle-161607.iam.gserviceaccount.com&Expires=1518260080&Signature=Q4kNRY9e%2BA39Rq6Jio5DQ9e26pbiLaezcNwn3GZun%2BgZHRZtQIkxR51xQHcAX45QstEQ3rwXP2wnd3VZUX3AFjWQVFEJy0jWJbCh%2BwA3ihDl%2F4w4m3p2x3kavxGjutmjxQTKICkHlbzDIPIiwtUY2HTPlf2Eri78Ev1JhwE7%2B%2BRoc1RUy0E%2FKI1zfPU%2BSp4hIq19uSJOVprHgm3BIKeO7ogDhCT%2Fl1Ra0tSQvr8AB6aCBHdIjq%2B33ByIl%2BHuCZzqjAfMeughe0Z1etj9VzjrNJBh%2FENjG%2BoYm3LV%2BRbzFmtMWDo57uxqPHYD4gjzUIjvkzMBjorMo%2FKcVXc%2BXWZB5A%3D%3D\n",
            "Resolving storage.googleapis.com (storage.googleapis.com)... 74.125.141.128, 2607:f8b0:400c:c06::80\n",
            "Connecting to storage.googleapis.com (storage.googleapis.com)|74.125.141.128|:443... connected.\n",
            "HTTP request sent, awaiting response... 200 OK\n",
            "Length: 24577258 (23M) [application/zip]\n",
            "Saving to: ‘test.csv.zip’\n",
            "\n",
            "test.csv.zip        100%[===================>]  23.44M  --.-KB/s    in 0.1s    \n",
            "\n",
            "2018-02-07 10:55:15 (166 MB/s) - ‘test.csv.zip’ saved [24577258/24577258]\n",
            "\n"
          ],
          "name": "stdout"
        }
      ]
    },
    {
      "metadata": {
        "id": "ib2kvzKH-1C1",
        "colab_type": "text"
      },
      "cell_type": "markdown",
      "source": [
        "Data available from http://files.grouplens.org/datasets/movielens/ml-latest-small.zip"
      ]
    },
    {
      "metadata": {
        "id": "yZxrQIC6EmiC",
        "colab_type": "code",
        "colab": {
          "autoexec": {
            "startup": false,
            "wait_interval": 0
          },
          "output_extras": [
            {}
          ],
          "base_uri": "https://localhost:8080/",
          "height": 67
        },
        "outputId": "9eb7d743-ce96-4e73-a43c-99b11b8ed0a9",
        "executionInfo": {
          "status": "ok",
          "timestamp": 1517986053514,
          "user_tz": -330,
          "elapsed": 2154,
          "user": {
            "displayName": "prabhukiran g",
            "photoUrl": "//lh4.googleusercontent.com/-BYx7PrXEoDk/AAAAAAAAAAI/AAAAAAAAHQ4/Rp2XJAt4a9w/s50-c-k-no/photo.jpg",
            "userId": "111602092102230767926"
          }
        }
      },
      "cell_type": "code",
      "source": [
        "!ls\n",
        "!unzip train.csv.zip\n"
      ],
      "execution_count": 0,
      "outputs": [
        {
          "output_type": "stream",
          "text": [
            "datalab  test.csv.zip  train.csv.zip\n",
            "Archive:  train.csv.zip\n",
            "  inflating: train.csv               \n"
          ],
          "name": "stdout"
        }
      ]
    },
    {
      "metadata": {
        "id": "WbgWl3zIkuY9",
        "colab_type": "code",
        "colab": {
          "autoexec": {
            "startup": false,
            "wait_interval": 0
          },
          "output_extras": [
            {}
          ],
          "base_uri": "https://localhost:8080/",
          "height": 51
        },
        "outputId": "0f6d89d8-7e9d-4d1c-f214-34541223541c",
        "executionInfo": {
          "status": "ok",
          "timestamp": 1518000985795,
          "user_tz": -330,
          "elapsed": 1850,
          "user": {
            "displayName": "prabhukiran g",
            "photoUrl": "//lh4.googleusercontent.com/-BYx7PrXEoDk/AAAAAAAAAAI/AAAAAAAAHQ4/Rp2XJAt4a9w/s50-c-k-no/photo.jpg",
            "userId": "111602092102230767926"
          }
        }
      },
      "cell_type": "code",
      "source": [
        "!unzip test.csv.zip"
      ],
      "execution_count": 0,
      "outputs": [
        {
          "output_type": "stream",
          "text": [
            "Archive:  test.csv.zip\n",
            "  inflating: test.csv                \n"
          ],
          "name": "stdout"
        }
      ]
    },
    {
      "metadata": {
        "id": "_NPBaIOR-1C2",
        "colab_type": "code",
        "colab": {
          "autoexec": {
            "startup": false,
            "wait_interval": 0
          },
          "output_extras": [
            {}
          ],
          "base_uri": "https://localhost:8080/",
          "height": 84
        },
        "outputId": "752e9792-8193-4af7-bd60-0b597f832c8b",
        "executionInfo": {
          "status": "ok",
          "timestamp": 1518000988893,
          "user_tz": -330,
          "elapsed": 1528,
          "user": {
            "displayName": "prabhukiran g",
            "photoUrl": "//lh4.googleusercontent.com/-BYx7PrXEoDk/AAAAAAAAAAI/AAAAAAAAHQ4/Rp2XJAt4a9w/s50-c-k-no/photo.jpg",
            "userId": "111602092102230767926"
          }
        }
      },
      "cell_type": "code",
      "source": [
        "!pwd\n",
        "!ls"
      ],
      "execution_count": 0,
      "outputs": [
        {
          "output_type": "stream",
          "text": [
            "/content\n",
            "cnn_sentiment_submission.csv  glove.twitter.27B.200d.txt  train.csv\n",
            "datalab\t\t\t      test.csv\t\t\t  train.csv.zip\n",
            "glove.twitter.27B.100d.txt    test.csv.zip\n"
          ],
          "name": "stdout"
        }
      ]
    },
    {
      "metadata": {
        "id": "PgX8zDVt-1C6",
        "colab_type": "text"
      },
      "cell_type": "markdown",
      "source": [
        "We're working with the movielens data, which contains one rating per row, like this:"
      ]
    },
    {
      "metadata": {
        "id": "4_fljGjN-1C8",
        "colab_type": "code",
        "colab": {
          "autoexec": {
            "startup": false,
            "wait_interval": 0
          },
          "output_extras": [
            {}
          ],
          "base_uri": "https://localhost:8080/",
          "height": 195
        },
        "outputId": "7f3552f5-200f-4aa9-ff35-8fcb6c1f0777",
        "executionInfo": {
          "status": "ok",
          "timestamp": 1518002114127,
          "user_tz": -330,
          "elapsed": 1688,
          "user": {
            "displayName": "prabhukiran g",
            "photoUrl": "//lh4.googleusercontent.com/-BYx7PrXEoDk/AAAAAAAAAAI/AAAAAAAAHQ4/Rp2XJAt4a9w/s50-c-k-no/photo.jpg",
            "userId": "111602092102230767926"
          }
        }
      },
      "cell_type": "code",
      "source": [
        "import pandas as pd\n",
        "train = pd.read_csv('train.csv')\n",
        "test = pd.read_csv('test.csv',dtype={'id': str})\n",
        "train.head()"
      ],
      "execution_count": 0,
      "outputs": [
        {
          "output_type": "execute_result",
          "data": {
            "text/html": [
              "<div>\n",
              "<style scoped>\n",
              "    .dataframe tbody tr th:only-of-type {\n",
              "        vertical-align: middle;\n",
              "    }\n",
              "\n",
              "    .dataframe tbody tr th {\n",
              "        vertical-align: top;\n",
              "    }\n",
              "\n",
              "    .dataframe thead th {\n",
              "        text-align: right;\n",
              "    }\n",
              "</style>\n",
              "<table border=\"1\" class=\"dataframe\">\n",
              "  <thead>\n",
              "    <tr style=\"text-align: right;\">\n",
              "      <th></th>\n",
              "      <th>id</th>\n",
              "      <th>comment_text</th>\n",
              "      <th>toxic</th>\n",
              "      <th>severe_toxic</th>\n",
              "      <th>obscene</th>\n",
              "      <th>threat</th>\n",
              "      <th>insult</th>\n",
              "      <th>identity_hate</th>\n",
              "    </tr>\n",
              "  </thead>\n",
              "  <tbody>\n",
              "    <tr>\n",
              "      <th>0</th>\n",
              "      <td>0000997932d777bf</td>\n",
              "      <td>Explanation\\nWhy the edits made under my usern...</td>\n",
              "      <td>0</td>\n",
              "      <td>0</td>\n",
              "      <td>0</td>\n",
              "      <td>0</td>\n",
              "      <td>0</td>\n",
              "      <td>0</td>\n",
              "    </tr>\n",
              "    <tr>\n",
              "      <th>1</th>\n",
              "      <td>000103f0d9cfb60f</td>\n",
              "      <td>D'aww! He matches this background colour I'm s...</td>\n",
              "      <td>0</td>\n",
              "      <td>0</td>\n",
              "      <td>0</td>\n",
              "      <td>0</td>\n",
              "      <td>0</td>\n",
              "      <td>0</td>\n",
              "    </tr>\n",
              "    <tr>\n",
              "      <th>2</th>\n",
              "      <td>000113f07ec002fd</td>\n",
              "      <td>Hey man, I'm really not trying to edit war. It...</td>\n",
              "      <td>0</td>\n",
              "      <td>0</td>\n",
              "      <td>0</td>\n",
              "      <td>0</td>\n",
              "      <td>0</td>\n",
              "      <td>0</td>\n",
              "    </tr>\n",
              "    <tr>\n",
              "      <th>3</th>\n",
              "      <td>0001b41b1c6bb37e</td>\n",
              "      <td>\"\\nMore\\nI can't make any real suggestions on ...</td>\n",
              "      <td>0</td>\n",
              "      <td>0</td>\n",
              "      <td>0</td>\n",
              "      <td>0</td>\n",
              "      <td>0</td>\n",
              "      <td>0</td>\n",
              "    </tr>\n",
              "    <tr>\n",
              "      <th>4</th>\n",
              "      <td>0001d958c54c6e35</td>\n",
              "      <td>You, sir, are my hero. Any chance you remember...</td>\n",
              "      <td>0</td>\n",
              "      <td>0</td>\n",
              "      <td>0</td>\n",
              "      <td>0</td>\n",
              "      <td>0</td>\n",
              "      <td>0</td>\n",
              "    </tr>\n",
              "  </tbody>\n",
              "</table>\n",
              "</div>"
            ],
            "text/plain": [
              "                 id                                       comment_text  toxic  \\\n",
              "0  0000997932d777bf  Explanation\\nWhy the edits made under my usern...      0   \n",
              "1  000103f0d9cfb60f  D'aww! He matches this background colour I'm s...      0   \n",
              "2  000113f07ec002fd  Hey man, I'm really not trying to edit war. It...      0   \n",
              "3  0001b41b1c6bb37e  \"\\nMore\\nI can't make any real suggestions on ...      0   \n",
              "4  0001d958c54c6e35  You, sir, are my hero. Any chance you remember...      0   \n",
              "\n",
              "   severe_toxic  obscene  threat  insult  identity_hate  \n",
              "0             0        0       0       0              0  \n",
              "1             0        0       0       0              0  \n",
              "2             0        0       0       0              0  \n",
              "3             0        0       0       0              0  \n",
              "4             0        0       0       0              0  "
            ]
          },
          "metadata": {
            "tags": []
          },
          "execution_count": 143
        }
      ]
    },
    {
      "metadata": {
        "id": "Q5vgbIXf-1DD",
        "colab_type": "text"
      },
      "cell_type": "markdown",
      "source": [
        "Just for display purposes, let's read in the movie names too."
      ]
    },
    {
      "metadata": {
        "id": "8BXaj5DIButK",
        "colab_type": "code",
        "colab": {
          "autoexec": {
            "startup": false,
            "wait_interval": 0
          },
          "output_extras": [
            {},
            {}
          ],
          "base_uri": "https://localhost:8080/",
          "height": 202
        },
        "outputId": "e5ad54c9-05c7-469f-83a9-2d12ab70e5c7",
        "executionInfo": {
          "status": "ok",
          "timestamp": 1517987186273,
          "user_tz": -330,
          "elapsed": 313675,
          "user": {
            "displayName": "prabhukiran g",
            "photoUrl": "//lh4.googleusercontent.com/-BYx7PrXEoDk/AAAAAAAAAAI/AAAAAAAAHQ4/Rp2XJAt4a9w/s50-c-k-no/photo.jpg",
            "userId": "111602092102230767926"
          }
        }
      },
      "cell_type": "code",
      "source": [
        "!wget --header=\"Host: nlp.stanford.edu\" --header=\"User-Agent: Mozilla/5.0 (Windows NT 6.1; Win64; x64) AppleWebKit/537.36 (KHTML, like Gecko) Chrome/64.0.3282.140 Safari/537.36\" --header=\"Accept: text/html,application/xhtml+xml,application/xml;q=0.9,image/webp,image/apng,*/*;q=0.8\" --header=\"Accept-Language: en-US,en;q=0.9\" --header=\"Cookie: _ga=GA1.2.1445304230.1512545131; _gid=GA1.2.262782433.1517985424; _gat=1\" --header=\"Connection: keep-alive\" \"https://nlp.stanford.edu/data/glove.twitter.27B.zip\" -O \"glove.twitter.27B.zip\" -c"
      ],
      "execution_count": 0,
      "outputs": [
        {
          "output_type": "stream",
          "text": [
            "--2018-02-07 07:01:13--  https://nlp.stanford.edu/data/glove.twitter.27B.zip\r\n",
            "Resolving nlp.stanford.edu (nlp.stanford.edu)... 171.64.67.140\n",
            "Connecting to nlp.stanford.edu (nlp.stanford.edu)|171.64.67.140|:443... connected.\n",
            "HTTP request sent, awaiting response... 200 OK\n",
            "Length: 1520408563 (1.4G) [application/zip]\n",
            "Saving to: ‘glove.twitter.27B.zip’\n",
            "\n",
            "glove.twitter.27B.z  16%[==>                 ] 241.57M  5.53MB/s    eta 4m 6s  "
          ],
          "name": "stdout"
        },
        {
          "output_type": "stream",
          "text": [
            "glove.twitter.27B.z 100%[===================>]   1.42G  3.60MB/s    in 5m 12s  \n",
            "\n",
            "2018-02-07 07:06:25 (4.64 MB/s) - ‘glove.twitter.27B.zip’ saved [1520408563/1520408563]\n",
            "\n"
          ],
          "name": "stdout"
        }
      ]
    },
    {
      "metadata": {
        "id": "ZbESgiolF_9N",
        "colab_type": "code",
        "colab": {
          "autoexec": {
            "startup": false,
            "wait_interval": 0
          },
          "output_extras": [
            {}
          ],
          "base_uri": "https://localhost:8080/",
          "height": 101
        },
        "outputId": "3882a9d3-d42c-41e1-ef03-ea8c4f6ffbdc",
        "executionInfo": {
          "status": "ok",
          "timestamp": 1517987355618,
          "user_tz": -330,
          "elapsed": 47046,
          "user": {
            "displayName": "prabhukiran g",
            "photoUrl": "//lh4.googleusercontent.com/-BYx7PrXEoDk/AAAAAAAAAAI/AAAAAAAAHQ4/Rp2XJAt4a9w/s50-c-k-no/photo.jpg",
            "userId": "111602092102230767926"
          }
        }
      },
      "cell_type": "code",
      "source": [
        "!unzip glove.twitter.27B.zip"
      ],
      "execution_count": 0,
      "outputs": [
        {
          "output_type": "stream",
          "text": [
            "Archive:  glove.twitter.27B.zip\n",
            "  inflating: glove.twitter.27B.25d.txt  \n",
            "  inflating: glove.twitter.27B.50d.txt  \n",
            "  inflating: glove.twitter.27B.100d.txt  \n",
            "  inflating: glove.twitter.27B.200d.txt  \n"
          ],
          "name": "stdout"
        }
      ]
    },
    {
      "metadata": {
        "id": "0PQxiY0AGDl_",
        "colab_type": "code",
        "colab": {
          "autoexec": {
            "startup": false,
            "wait_interval": 0
          },
          "output_extras": [
            {}
          ],
          "base_uri": "https://localhost:8080/",
          "height": 51
        },
        "outputId": "a1d4eb96-9096-4d68-ef25-6f808fd53f86",
        "executionInfo": {
          "status": "ok",
          "timestamp": 1517987422251,
          "user_tz": -330,
          "elapsed": 1442,
          "user": {
            "displayName": "prabhukiran g",
            "photoUrl": "//lh4.googleusercontent.com/-BYx7PrXEoDk/AAAAAAAAAAI/AAAAAAAAHQ4/Rp2XJAt4a9w/s50-c-k-no/photo.jpg",
            "userId": "111602092102230767926"
          }
        }
      },
      "cell_type": "code",
      "source": [
        "#!rm glove.twitter.27B.zip glove.twitter.27B.50d.txt glove.twitter.27B.25d.txt\n",
        "#!rm train.csv.zip test.csv.zip\n",
        "!ls"
      ],
      "execution_count": 0,
      "outputs": [
        {
          "output_type": "stream",
          "text": [
            "datalab\t\t\t    glove.twitter.27B.200d.txt\ttrain.csv\r\n",
            "glove.twitter.27B.100d.txt  test.csv\r\n"
          ],
          "name": "stdout"
        }
      ]
    },
    {
      "metadata": {
        "id": "bul5r5i-bF1R",
        "colab_type": "code",
        "colab": {
          "autoexec": {
            "startup": false,
            "wait_interval": 0
          },
          "output_extras": [
            {}
          ],
          "base_uri": "https://localhost:8080/",
          "height": 34
        },
        "outputId": "d970b580-1d54-462a-c74a-aabcf0ecc619",
        "executionInfo": {
          "status": "ok",
          "timestamp": 1518009630407,
          "user_tz": -330,
          "elapsed": 2552,
          "user": {
            "displayName": "prabhukiran g",
            "photoUrl": "//lh4.googleusercontent.com/-BYx7PrXEoDk/AAAAAAAAAAI/AAAAAAAAHQ4/Rp2XJAt4a9w/s50-c-k-no/photo.jpg",
            "userId": "111602092102230767926"
          }
        }
      },
      "cell_type": "code",
      "source": [
        "!pip install BeautifulSoup4\n",
        "from bs4 import BeautifulSoup"
      ],
      "execution_count": 0,
      "outputs": [
        {
          "output_type": "stream",
          "text": [
            "Requirement already satisfied: BeautifulSoup4 in /usr/local/lib/python3.6/dist-packages\r\n"
          ],
          "name": "stdout"
        }
      ]
    },
    {
      "metadata": {
        "id": "G5_J_vEsbRSr",
        "colab_type": "code",
        "colab": {
          "autoexec": {
            "startup": false,
            "wait_interval": 0
          },
          "output_extras": [
            {},
            {},
            {},
            {}
          ],
          "base_uri": "https://localhost:8080/",
          "height": 8467
        },
        "outputId": "9eaf4420-3b50-47e5-93d6-fb0b7d5b51cc",
        "executionInfo": {
          "status": "ok",
          "timestamp": 1518009984976,
          "user_tz": -330,
          "elapsed": 328725,
          "user": {
            "displayName": "prabhukiran g",
            "photoUrl": "//lh4.googleusercontent.com/-BYx7PrXEoDk/AAAAAAAAAAI/AAAAAAAAHQ4/Rp2XJAt4a9w/s50-c-k-no/photo.jpg",
            "userId": "111602092102230767926"
          }
        }
      },
      "cell_type": "code",
      "source": [
        "import re\n",
        "import nltk\n",
        "nltk.download()\n",
        "from nltk.corpus import stopwords"
      ],
      "execution_count": 0,
      "outputs": [
        {
          "output_type": "stream",
          "text": [
            "NLTK Downloader\n",
            "---------------------------------------------------------------------------\n",
            "    d) Download   l) List    u) Update   c) Config   h) Help   q) Quit\n",
            "---------------------------------------------------------------------------\n",
            "Downloader> d\n",
            "\n",
            "Download which package (l=list; x=cancel)?\n",
            "  Identifier> l\n",
            "Packages:\n",
            "  [ ] abc................. Australian Broadcasting Commission 2006\n",
            "  [ ] alpino.............. Alpino Dutch Treebank\n",
            "  [ ] averaged_perceptron_tagger Averaged Perceptron Tagger\n",
            "  [ ] averaged_perceptron_tagger_ru Averaged Perceptron Tagger (Russian)\n",
            "  [ ] basque_grammars..... Grammars for Basque\n",
            "  [ ] biocreative_ppi..... BioCreAtIvE (Critical Assessment of Information\n",
            "                           Extraction Systems in Biology)\n",
            "  [ ] bllip_wsj_no_aux.... BLLIP Parser: WSJ Model\n",
            "  [ ] book_grammars....... Grammars from NLTK Book\n",
            "  [ ] brown............... Brown Corpus\n",
            "  [ ] brown_tei........... Brown Corpus (TEI XML Version)\n",
            "  [ ] cess_cat............ CESS-CAT Treebank\n",
            "  [ ] cess_esp............ CESS-ESP Treebank\n",
            "  [ ] chat80.............. Chat-80 Data Files\n",
            "  [ ] city_database....... City Database\n",
            "  [ ] cmudict............. The Carnegie Mellon Pronouncing Dictionary (0.6)\n",
            "  [ ] comparative_sentences Comparative Sentence Dataset\n",
            "  [ ] comtrans............ ComTrans Corpus Sample\n",
            "  [ ] conll2000........... CONLL 2000 Chunking Corpus\n",
            "  [ ] conll2002........... CONLL 2002 Named Entity Recognition Corpus\n",
            "Hit Enter to continue: \n",
            "  [ ] conll2007........... Dependency Treebanks from CoNLL 2007 (Catalan\n",
            "                           and Basque Subset)\n",
            "  [ ] crubadan............ Crubadan Corpus\n",
            "  [ ] dependency_treebank. Dependency Parsed Treebank\n",
            "  [ ] dolch............... Dolch Word List\n",
            "  [ ] europarl_raw........ Sample European Parliament Proceedings Parallel\n",
            "                           Corpus\n",
            "  [ ] floresta............ Portuguese Treebank\n",
            "  [ ] framenet_v15........ FrameNet 1.5\n",
            "  [ ] framenet_v17........ FrameNet 1.7\n",
            "  [ ] gazetteers.......... Gazeteer Lists\n",
            "  [ ] genesis............. Genesis Corpus\n",
            "  [ ] gutenberg........... Project Gutenberg Selections\n",
            "  [ ] ieer................ NIST IE-ER DATA SAMPLE\n",
            "  [ ] inaugural........... C-Span Inaugural Address Corpus\n",
            "  [ ] indian.............. Indian Language POS-Tagged Corpus\n",
            "  [ ] jeita............... JEITA Public Morphologically Tagged Corpus (in\n",
            "                           ChaSen format)\n",
            "  [ ] kimmo............... PC-KIMMO Data Files\n",
            "  [ ] knbc................ KNB Corpus (Annotated blog corpus)\n",
            "  [ ] large_grammars...... Large context-free and feature-based grammars\n",
            "                           for parser comparison\n",
            "Hit Enter to continue: \n",
            "  [ ] lin_thesaurus....... Lin's Dependency Thesaurus\n",
            "  [ ] mac_morpho.......... MAC-MORPHO: Brazilian Portuguese news text with\n",
            "                           part-of-speech tags\n",
            "  [ ] machado............. Machado de Assis -- Obra Completa\n",
            "  [ ] masc_tagged......... MASC Tagged Corpus\n",
            "  [ ] maxent_ne_chunker... ACE Named Entity Chunker (Maximum entropy)\n",
            "  [ ] maxent_treebank_pos_tagger Treebank Part of Speech Tagger (Maximum entropy)\n",
            "  [ ] moses_sample........ Moses Sample Models\n",
            "  [ ] movie_reviews....... Sentiment Polarity Dataset Version 2.0\n",
            "  [ ] mte_teip5........... MULTEXT-East 1984 annotated corpus 4.0\n",
            "  [ ] mwa_ppdb............ The monolingual word aligner (Sultan et al.\n",
            "                           2015) subset of the Paraphrase Database.\n",
            "  [ ] names............... Names Corpus, Version 1.3 (1994-03-29)\n",
            "  [ ] nombank.1.0......... NomBank Corpus 1.0\n",
            "  [ ] nonbreaking_prefixes Non-Breaking Prefixes (Moses Decoder)\n",
            "  [ ] nps_chat............ NPS Chat\n",
            "  [ ] omw................. Open Multilingual Wordnet\n",
            "  [ ] opinion_lexicon..... Opinion Lexicon\n",
            "  [ ] panlex_swadesh...... PanLex Swadesh Corpora\n",
            "  [ ] paradigms........... Paradigm Corpus\n",
            "  [ ] pe08................ Cross-Framework and Cross-Domain Parser\n",
            "                           Evaluation Shared Task\n",
            "Hit Enter to continue: \n",
            "  [ ] perluniprops........ perluniprops: Index of Unicode Version 7.0.0\n",
            "                           character properties in Perl\n",
            "  [ ] pil................. The Patient Information Leaflet (PIL) Corpus\n",
            "  [ ] pl196x.............. Polish language of the XX century sixties\n",
            "  [ ] porter_test......... Porter Stemmer Test Files\n",
            "  [ ] ppattach............ Prepositional Phrase Attachment Corpus\n",
            "  [ ] problem_reports..... Problem Report Corpus\n",
            "  [ ] product_reviews_1... Product Reviews (5 Products)\n",
            "  [ ] product_reviews_2... Product Reviews (9 Products)\n",
            "  [ ] propbank............ Proposition Bank Corpus 1.0\n",
            "  [ ] pros_cons........... Pros and Cons\n",
            "  [ ] ptb................. Penn Treebank\n",
            "  [ ] punkt............... Punkt Tokenizer Models\n",
            "  [ ] qc.................. Experimental Data for Question Classification\n",
            "  [ ] reuters............. The Reuters-21578 benchmark corpus, ApteMod\n",
            "                           version\n",
            "  [ ] rslp................ RSLP Stemmer (Removedor de Sufixos da Lingua\n",
            "                           Portuguesa)\n",
            "  [ ] rte................. PASCAL RTE Challenges 1, 2, and 3\n",
            "  [ ] sample_grammars..... Sample Grammars\n",
            "  [ ] semcor.............. SemCor 3.0\n",
            "Hit Enter to continue: \n",
            "Hit Enter to continue: \n",
            "  [ ] senseval............ SENSEVAL 2 Corpus: Sense Tagged Text\n",
            "  [ ] sentence_polarity... Sentence Polarity Dataset v1.0\n",
            "  [ ] sentiwordnet........ SentiWordNet\n",
            "  [ ] shakespeare......... Shakespeare XML Corpus Sample\n",
            "  [ ] sinica_treebank..... Sinica Treebank Corpus Sample\n",
            "  [ ] smultron............ SMULTRON Corpus Sample\n",
            "  [ ] snowball_data....... Snowball Data\n",
            "  [ ] spanish_grammars.... Grammars for Spanish\n",
            "  [ ] state_union......... C-Span State of the Union Address Corpus\n",
            "  [ ] stopwords........... Stopwords Corpus\n",
            "  [ ] subjectivity........ Subjectivity Dataset v1.0\n",
            "  [ ] swadesh............. Swadesh Wordlists\n",
            "  [ ] switchboard......... Switchboard Corpus Sample\n",
            "  [ ] tagsets............. Help on Tagsets\n",
            "  [ ] timit............... TIMIT Corpus Sample\n",
            "  [ ] toolbox............. Toolbox Sample Files\n",
            "  [ ] treebank............ Penn Treebank Sample\n",
            "  [ ] twitter_samples..... Twitter Samples\n",
            "  [ ] udhr2............... Universal Declaration of Human Rights Corpus\n",
            "                           (Unicode Version)\n",
            "  [ ] udhr................ Universal Declaration of Human Rights Corpus\n",
            "  [ ] unicode_samples..... Unicode Samples\n",
            "  [ ] universal_tagset.... Mappings to the Universal Part-of-Speech Tagset\n",
            "  [ ] universal_treebanks_v20 Universal Treebanks Version 2.0\n",
            "  [ ] vader_lexicon....... VADER Sentiment Lexicon\n",
            "  [ ] verbnet............. VerbNet Lexicon, Version 2.1\n",
            "  [ ] webtext............. Web Text Corpus\n",
            "  [ ] wmt15_eval.......... Evaluation data from WMT15\n",
            "  [ ] word2vec_sample..... Word2Vec Sample\n",
            "  [ ] wordnet............. WordNet\n",
            "  [ ] wordnet_ic.......... WordNet-InfoContent\n",
            "  [ ] words............... Word Lists\n",
            "  [ ] ycoe................ York-Toronto-Helsinki Parsed Corpus of Old\n",
            "                           English Prose\n",
            "\n",
            "Collections:\n",
            "  [ ] all-corpora......... All the corpora\n",
            "  [ ] all-nltk............ All packages available on nltk_data gh-pages\n",
            "                           branch\n",
            "  [ ] all................. All packages\n",
            "  [ ] book................ Everything used in the NLTK Book\n",
            "  [ ] popular............. Popular packages\n",
            "  [ ] tests............... Packages for running tests\n",
            "Hit Enter to continue: all\n",
            "  [ ] third-party......... Third-party data packages\n",
            "\n",
            "([*] marks installed packages)\n",
            "\n",
            "Download which package (l=list; x=cancel)?\n",
            "  Identifier> l\n",
            "Packages:\n",
            "  [ ] abc................. Australian Broadcasting Commission 2006\n",
            "  [ ] alpino.............. Alpino Dutch Treebank\n",
            "  [ ] averaged_perceptron_tagger Averaged Perceptron Tagger\n",
            "  [ ] averaged_perceptron_tagger_ru Averaged Perceptron Tagger (Russian)\n",
            "  [ ] basque_grammars..... Grammars for Basque\n",
            "  [ ] biocreative_ppi..... BioCreAtIvE (Critical Assessment of Information\n",
            "                           Extraction Systems in Biology)\n",
            "  [ ] bllip_wsj_no_aux.... BLLIP Parser: WSJ Model\n",
            "  [ ] book_grammars....... Grammars from NLTK Book\n",
            "  [ ] brown............... Brown Corpus\n",
            "  [ ] brown_tei........... Brown Corpus (TEI XML Version)\n",
            "  [ ] cess_cat............ CESS-CAT Treebank\n",
            "  [ ] cess_esp............ CESS-ESP Treebank\n",
            "  [ ] chat80.............. Chat-80 Data Files\n",
            "  [ ] city_database....... City Database\n",
            "  [ ] cmudict............. The Carnegie Mellon Pronouncing Dictionary (0.6)\n",
            "  [ ] comparative_sentences Comparative Sentence Dataset\n",
            "  [ ] comtrans............ ComTrans Corpus Sample\n",
            "  [ ] conll2000........... CONLL 2000 Chunking Corpus\n",
            "  [ ] conll2002........... CONLL 2002 Named Entity Recognition Corpus\n",
            "Hit Enter to continue: all\n",
            "  [ ] conll2007........... Dependency Treebanks from CoNLL 2007 (Catalan\n",
            "                           and Basque Subset)\n",
            "  [ ] crubadan............ Crubadan Corpus\n",
            "  [ ] dependency_treebank. Dependency Parsed Treebank\n",
            "  [ ] dolch............... Dolch Word List\n",
            "  [ ] europarl_raw........ Sample European Parliament Proceedings Parallel\n",
            "                           Corpus\n",
            "  [ ] floresta............ Portuguese Treebank\n",
            "  [ ] framenet_v15........ FrameNet 1.5\n",
            "  [ ] framenet_v17........ FrameNet 1.7\n",
            "  [ ] gazetteers.......... Gazeteer Lists\n",
            "  [ ] genesis............. Genesis Corpus\n",
            "  [ ] gutenberg........... Project Gutenberg Selections\n",
            "  [ ] ieer................ NIST IE-ER DATA SAMPLE\n",
            "  [ ] inaugural........... C-Span Inaugural Address Corpus\n",
            "  [ ] indian.............. Indian Language POS-Tagged Corpus\n",
            "  [ ] jeita............... JEITA Public Morphologically Tagged Corpus (in\n",
            "                           ChaSen format)\n",
            "  [ ] kimmo............... PC-KIMMO Data Files\n",
            "  [ ] knbc................ KNB Corpus (Annotated blog corpus)\n",
            "  [ ] large_grammars...... Large context-free and feature-based grammars\n",
            "                           for parser comparison\n"
          ],
          "name": "stdout"
        },
        {
          "output_type": "stream",
          "text": [
            "Hit Enter to continue: all\n",
            "  [ ] lin_thesaurus....... Lin's Dependency Thesaurus\n",
            "  [ ] mac_morpho.......... MAC-MORPHO: Brazilian Portuguese news text with\n",
            "                           part-of-speech tags\n",
            "  [ ] machado............. Machado de Assis -- Obra Completa\n",
            "  [ ] masc_tagged......... MASC Tagged Corpus\n",
            "  [ ] maxent_ne_chunker... ACE Named Entity Chunker (Maximum entropy)\n",
            "  [ ] maxent_treebank_pos_tagger Treebank Part of Speech Tagger (Maximum entropy)\n",
            "  [ ] moses_sample........ Moses Sample Models\n",
            "  [ ] movie_reviews....... Sentiment Polarity Dataset Version 2.0\n",
            "  [ ] mte_teip5........... MULTEXT-East 1984 annotated corpus 4.0\n",
            "  [ ] mwa_ppdb............ The monolingual word aligner (Sultan et al.\n",
            "                           2015) subset of the Paraphrase Database.\n",
            "  [ ] names............... Names Corpus, Version 1.3 (1994-03-29)\n",
            "  [ ] nombank.1.0......... NomBank Corpus 1.0\n",
            "  [ ] nonbreaking_prefixes Non-Breaking Prefixes (Moses Decoder)\n",
            "  [ ] nps_chat............ NPS Chat\n",
            "  [ ] omw................. Open Multilingual Wordnet\n",
            "  [ ] opinion_lexicon..... Opinion Lexicon\n",
            "  [ ] panlex_swadesh...... PanLex Swadesh Corpora\n",
            "  [ ] paradigms........... Paradigm Corpus\n",
            "  [ ] pe08................ Cross-Framework and Cross-Domain Parser\n",
            "                           Evaluation Shared Task\n",
            "Hit Enter to continue: \n",
            "  [ ] perluniprops........ perluniprops: Index of Unicode Version 7.0.0\n",
            "                           character properties in Perl\n",
            "  [ ] pil................. The Patient Information Leaflet (PIL) Corpus\n",
            "  [ ] pl196x.............. Polish language of the XX century sixties\n",
            "  [ ] porter_test......... Porter Stemmer Test Files\n",
            "  [ ] ppattach............ Prepositional Phrase Attachment Corpus\n",
            "  [ ] problem_reports..... Problem Report Corpus\n",
            "  [ ] product_reviews_1... Product Reviews (5 Products)\n",
            "  [ ] product_reviews_2... Product Reviews (9 Products)\n",
            "  [ ] propbank............ Proposition Bank Corpus 1.0\n",
            "  [ ] pros_cons........... Pros and Cons\n",
            "  [ ] ptb................. Penn Treebank\n",
            "  [ ] punkt............... Punkt Tokenizer Models\n",
            "  [ ] qc.................. Experimental Data for Question Classification\n",
            "  [ ] reuters............. The Reuters-21578 benchmark corpus, ApteMod\n",
            "                           version\n",
            "  [ ] rslp................ RSLP Stemmer (Removedor de Sufixos da Lingua\n",
            "                           Portuguesa)\n",
            "  [ ] rte................. PASCAL RTE Challenges 1, 2, and 3\n",
            "  [ ] sample_grammars..... Sample Grammars\n",
            "  [ ] semcor.............. SemCor 3.0\n",
            "Hit Enter to continue: \n",
            "  [ ] senseval............ SENSEVAL 2 Corpus: Sense Tagged Text\n",
            "  [ ] sentence_polarity... Sentence Polarity Dataset v1.0\n",
            "  [ ] sentiwordnet........ SentiWordNet\n",
            "  [ ] shakespeare......... Shakespeare XML Corpus Sample\n",
            "  [ ] sinica_treebank..... Sinica Treebank Corpus Sample\n",
            "  [ ] smultron............ SMULTRON Corpus Sample\n",
            "  [ ] snowball_data....... Snowball Data\n",
            "  [ ] spanish_grammars.... Grammars for Spanish\n",
            "  [ ] state_union......... C-Span State of the Union Address Corpus\n",
            "  [ ] stopwords........... Stopwords Corpus\n",
            "  [ ] subjectivity........ Subjectivity Dataset v1.0\n",
            "  [ ] swadesh............. Swadesh Wordlists\n",
            "  [ ] switchboard......... Switchboard Corpus Sample\n",
            "  [ ] tagsets............. Help on Tagsets\n",
            "  [ ] timit............... TIMIT Corpus Sample\n",
            "  [ ] toolbox............. Toolbox Sample Files\n",
            "  [ ] treebank............ Penn Treebank Sample\n",
            "  [ ] twitter_samples..... Twitter Samples\n",
            "  [ ] udhr2............... Universal Declaration of Human Rights Corpus\n",
            "                           (Unicode Version)\n",
            "  [ ] udhr................ Universal Declaration of Human Rights Corpus\n",
            "Hit Enter to continue: \n",
            "  [ ] unicode_samples..... Unicode Samples\n",
            "  [ ] universal_tagset.... Mappings to the Universal Part-of-Speech Tagset\n",
            "  [ ] universal_treebanks_v20 Universal Treebanks Version 2.0\n",
            "  [ ] vader_lexicon....... VADER Sentiment Lexicon\n",
            "  [ ] verbnet............. VerbNet Lexicon, Version 2.1\n",
            "  [ ] webtext............. Web Text Corpus\n",
            "  [ ] wmt15_eval.......... Evaluation data from WMT15\n",
            "  [ ] word2vec_sample..... Word2Vec Sample\n",
            "  [ ] wordnet............. WordNet\n",
            "  [ ] wordnet_ic.......... WordNet-InfoContent\n",
            "  [ ] words............... Word Lists\n",
            "  [ ] ycoe................ York-Toronto-Helsinki Parsed Corpus of Old\n",
            "                           English Prose\n",
            "\n",
            "Collections:\n",
            "  [ ] all-corpora......... All the corpora\n",
            "  [ ] all-nltk............ All packages available on nltk_data gh-pages\n",
            "                           branch\n",
            "  [ ] all................. All packages\n",
            "  [ ] book................ Everything used in the NLTK Book\n",
            "  [ ] popular............. Popular packages\n",
            "  [ ] tests............... Packages for running tests\n",
            "Hit Enter to continue: all\n",
            "  [ ] third-party......... Third-party data packages\n",
            "\n",
            "([*] marks installed packages)\n",
            "\n",
            "Download which package (l=list; x=cancel)?\n",
            "  Identifier> all\n",
            "    Downloading collection 'all'\n",
            "       | \n",
            "       | Downloading package abc to /content/nltk_data...\n",
            "       |   Unzipping corpora/abc.zip.\n",
            "       | Downloading package alpino to /content/nltk_data...\n",
            "       |   Unzipping corpora/alpino.zip.\n",
            "       | Downloading package biocreative_ppi to /content/nltk_data...\n",
            "       |   Unzipping corpora/biocreative_ppi.zip.\n",
            "       | Downloading package brown to /content/nltk_data...\n",
            "       |   Unzipping corpora/brown.zip.\n",
            "       | Downloading package brown_tei to /content/nltk_data...\n",
            "       |   Unzipping corpora/brown_tei.zip.\n",
            "       | Downloading package cess_cat to /content/nltk_data...\n",
            "       |   Unzipping corpora/cess_cat.zip.\n",
            "       | Downloading package cess_esp to /content/nltk_data...\n",
            "       |   Unzipping corpora/cess_esp.zip.\n",
            "       | Downloading package chat80 to /content/nltk_data...\n",
            "       |   Unzipping corpora/chat80.zip.\n",
            "       | Downloading package city_database to /content/nltk_data...\n",
            "       |   Unzipping corpora/city_database.zip.\n",
            "       | Downloading package cmudict to /content/nltk_data...\n",
            "       |   Unzipping corpora/cmudict.zip.\n",
            "       | Downloading package comparative_sentences to\n",
            "       |     /content/nltk_data...\n",
            "       |   Unzipping corpora/comparative_sentences.zip.\n",
            "       | Downloading package comtrans to /content/nltk_data...\n"
          ],
          "name": "stdout"
        },
        {
          "output_type": "stream",
          "text": [
            "       | Downloading package conll2000 to /content/nltk_data...\n",
            "       |   Unzipping corpora/conll2000.zip.\n",
            "       | Downloading package conll2002 to /content/nltk_data...\n",
            "       |   Unzipping corpora/conll2002.zip.\n",
            "       | Downloading package conll2007 to /content/nltk_data...\n",
            "       | Downloading package crubadan to /content/nltk_data...\n",
            "       |   Unzipping corpora/crubadan.zip.\n",
            "       | Downloading package dependency_treebank to\n",
            "       |     /content/nltk_data...\n",
            "       |   Unzipping corpora/dependency_treebank.zip.\n",
            "       | Downloading package dolch to /content/nltk_data...\n",
            "       |   Unzipping corpora/dolch.zip.\n",
            "       | Downloading package europarl_raw to /content/nltk_data...\n",
            "       |   Unzipping corpora/europarl_raw.zip.\n",
            "       | Downloading package floresta to /content/nltk_data...\n",
            "       |   Unzipping corpora/floresta.zip.\n",
            "       | Downloading package framenet_v15 to /content/nltk_data...\n",
            "       |   Unzipping corpora/framenet_v15.zip.\n",
            "       | Downloading package framenet_v17 to /content/nltk_data...\n",
            "       |   Unzipping corpora/framenet_v17.zip.\n",
            "       | Downloading package gazetteers to /content/nltk_data...\n",
            "       |   Unzipping corpora/gazetteers.zip.\n",
            "       | Downloading package genesis to /content/nltk_data...\n",
            "       |   Unzipping corpora/genesis.zip.\n",
            "       | Downloading package gutenberg to /content/nltk_data...\n",
            "       |   Unzipping corpora/gutenberg.zip.\n",
            "       | Downloading package ieer to /content/nltk_data...\n",
            "       |   Unzipping corpora/ieer.zip.\n",
            "       | Downloading package inaugural to /content/nltk_data...\n",
            "       |   Unzipping corpora/inaugural.zip.\n",
            "       | Downloading package indian to /content/nltk_data...\n",
            "       |   Unzipping corpora/indian.zip.\n",
            "       | Downloading package jeita to /content/nltk_data...\n",
            "       | Downloading package kimmo to /content/nltk_data...\n",
            "       |   Unzipping corpora/kimmo.zip.\n",
            "       | Downloading package knbc to /content/nltk_data...\n",
            "       | Downloading package lin_thesaurus to /content/nltk_data...\n",
            "       |   Unzipping corpora/lin_thesaurus.zip.\n",
            "       | Downloading package mac_morpho to /content/nltk_data...\n",
            "       |   Unzipping corpora/mac_morpho.zip.\n",
            "       | Downloading package machado to /content/nltk_data...\n",
            "       | Downloading package masc_tagged to /content/nltk_data...\n",
            "       | Downloading package moses_sample to /content/nltk_data...\n",
            "       |   Unzipping models/moses_sample.zip.\n",
            "       | Downloading package movie_reviews to /content/nltk_data...\n",
            "       |   Unzipping corpora/movie_reviews.zip.\n",
            "       | Downloading package names to /content/nltk_data...\n",
            "       |   Unzipping corpora/names.zip.\n",
            "       | Downloading package nombank.1.0 to /content/nltk_data...\n",
            "       | Downloading package nps_chat to /content/nltk_data...\n",
            "       |   Unzipping corpora/nps_chat.zip.\n",
            "       | Downloading package omw to /content/nltk_data...\n",
            "       |   Unzipping corpora/omw.zip.\n",
            "       | Downloading package opinion_lexicon to /content/nltk_data...\n",
            "       |   Unzipping corpora/opinion_lexicon.zip.\n",
            "       | Downloading package paradigms to /content/nltk_data...\n",
            "       |   Unzipping corpora/paradigms.zip.\n",
            "       | Downloading package pil to /content/nltk_data...\n",
            "       |   Unzipping corpora/pil.zip.\n",
            "       | Downloading package pl196x to /content/nltk_data...\n",
            "       |   Unzipping corpora/pl196x.zip.\n",
            "       | Downloading package ppattach to /content/nltk_data...\n",
            "       |   Unzipping corpora/ppattach.zip.\n",
            "       | Downloading package problem_reports to /content/nltk_data...\n",
            "       |   Unzipping corpora/problem_reports.zip.\n",
            "       | Downloading package propbank to /content/nltk_data...\n",
            "       | Downloading package ptb to /content/nltk_data...\n",
            "       |   Unzipping corpora/ptb.zip.\n",
            "       | Downloading package product_reviews_1 to\n",
            "       |     /content/nltk_data...\n",
            "       |   Unzipping corpora/product_reviews_1.zip.\n",
            "       | Downloading package product_reviews_2 to\n",
            "       |     /content/nltk_data...\n",
            "       |   Unzipping corpora/product_reviews_2.zip.\n",
            "       | Downloading package pros_cons to /content/nltk_data...\n",
            "       |   Unzipping corpora/pros_cons.zip.\n",
            "       | Downloading package qc to /content/nltk_data...\n",
            "       |   Unzipping corpora/qc.zip.\n",
            "       | Downloading package reuters to /content/nltk_data...\n",
            "       | Downloading package rte to /content/nltk_data...\n",
            "       |   Unzipping corpora/rte.zip.\n",
            "       | Downloading package semcor to /content/nltk_data...\n",
            "       | Downloading package senseval to /content/nltk_data...\n",
            "       |   Unzipping corpora/senseval.zip.\n",
            "       | Downloading package sentiwordnet to /content/nltk_data...\n",
            "       |   Unzipping corpora/sentiwordnet.zip.\n",
            "       | Downloading package sentence_polarity to\n",
            "       |     /content/nltk_data...\n",
            "       |   Unzipping corpora/sentence_polarity.zip.\n",
            "       | Downloading package shakespeare to /content/nltk_data...\n",
            "       |   Unzipping corpora/shakespeare.zip.\n",
            "       | Downloading package sinica_treebank to /content/nltk_data...\n",
            "       |   Unzipping corpora/sinica_treebank.zip.\n",
            "       | Downloading package smultron to /content/nltk_data...\n",
            "       |   Unzipping corpora/smultron.zip.\n",
            "       | Downloading package state_union to /content/nltk_data...\n"
          ],
          "name": "stdout"
        },
        {
          "output_type": "stream",
          "text": [
            "       |   Unzipping corpora/state_union.zip.\n",
            "       | Downloading package stopwords to /content/nltk_data...\n",
            "       |   Unzipping corpora/stopwords.zip.\n",
            "       | Downloading package subjectivity to /content/nltk_data...\n",
            "       |   Unzipping corpora/subjectivity.zip.\n",
            "       | Downloading package swadesh to /content/nltk_data...\n",
            "       |   Unzipping corpora/swadesh.zip.\n",
            "       | Downloading package switchboard to /content/nltk_data...\n",
            "       |   Unzipping corpora/switchboard.zip.\n",
            "       | Downloading package timit to /content/nltk_data...\n",
            "       |   Unzipping corpora/timit.zip.\n",
            "       | Downloading package toolbox to /content/nltk_data...\n",
            "       |   Unzipping corpora/toolbox.zip.\n",
            "       | Downloading package treebank to /content/nltk_data...\n",
            "       |   Unzipping corpora/treebank.zip.\n",
            "       | Downloading package twitter_samples to /content/nltk_data...\n",
            "       |   Unzipping corpora/twitter_samples.zip.\n",
            "       | Downloading package udhr to /content/nltk_data...\n",
            "       |   Unzipping corpora/udhr.zip.\n",
            "       | Downloading package udhr2 to /content/nltk_data...\n",
            "       |   Unzipping corpora/udhr2.zip.\n",
            "       | Downloading package unicode_samples to /content/nltk_data...\n",
            "       |   Unzipping corpora/unicode_samples.zip.\n",
            "       | Downloading package universal_treebanks_v20 to\n",
            "       |     /content/nltk_data...\n",
            "       | Downloading package verbnet to /content/nltk_data...\n",
            "       |   Unzipping corpora/verbnet.zip.\n",
            "       | Downloading package webtext to /content/nltk_data...\n",
            "       |   Unzipping corpora/webtext.zip.\n",
            "       | Downloading package wordnet to /content/nltk_data...\n",
            "       |   Unzipping corpora/wordnet.zip.\n",
            "       | Downloading package wordnet_ic to /content/nltk_data...\n",
            "       |   Unzipping corpora/wordnet_ic.zip.\n",
            "       | Downloading package words to /content/nltk_data...\n",
            "       |   Unzipping corpora/words.zip.\n",
            "       | Downloading package ycoe to /content/nltk_data...\n",
            "       |   Unzipping corpora/ycoe.zip.\n",
            "       | Downloading package rslp to /content/nltk_data...\n",
            "       |   Unzipping stemmers/rslp.zip.\n",
            "       | Downloading package maxent_treebank_pos_tagger to\n",
            "       |     /content/nltk_data...\n",
            "       |   Unzipping taggers/maxent_treebank_pos_tagger.zip.\n",
            "       | Downloading package universal_tagset to /content/nltk_data...\n",
            "       |   Unzipping taggers/universal_tagset.zip.\n",
            "       | Downloading package maxent_ne_chunker to\n",
            "       |     /content/nltk_data...\n",
            "       |   Unzipping chunkers/maxent_ne_chunker.zip.\n",
            "       | Downloading package punkt to /content/nltk_data...\n",
            "       |   Unzipping tokenizers/punkt.zip.\n",
            "       | Downloading package book_grammars to /content/nltk_data...\n",
            "       |   Unzipping grammars/book_grammars.zip.\n",
            "       | Downloading package sample_grammars to /content/nltk_data...\n",
            "       |   Unzipping grammars/sample_grammars.zip.\n",
            "       | Downloading package spanish_grammars to /content/nltk_data...\n",
            "       |   Unzipping grammars/spanish_grammars.zip.\n",
            "       | Downloading package basque_grammars to /content/nltk_data...\n",
            "       |   Unzipping grammars/basque_grammars.zip.\n",
            "       | Downloading package large_grammars to /content/nltk_data...\n",
            "       |   Unzipping grammars/large_grammars.zip.\n",
            "       | Downloading package tagsets to /content/nltk_data...\n",
            "       |   Unzipping help/tagsets.zip.\n",
            "       | Downloading package snowball_data to /content/nltk_data...\n",
            "       | Downloading package bllip_wsj_no_aux to /content/nltk_data...\n",
            "       |   Unzipping models/bllip_wsj_no_aux.zip.\n",
            "       | Downloading package word2vec_sample to /content/nltk_data...\n",
            "       |   Unzipping models/word2vec_sample.zip.\n",
            "       | Downloading package panlex_swadesh to /content/nltk_data...\n",
            "       | Downloading package mte_teip5 to /content/nltk_data...\n",
            "       |   Unzipping corpora/mte_teip5.zip.\n",
            "       | Downloading package averaged_perceptron_tagger to\n",
            "       |     /content/nltk_data...\n",
            "       |   Unzipping taggers/averaged_perceptron_tagger.zip.\n",
            "       | Downloading package perluniprops to /content/nltk_data...\n",
            "       |   Unzipping misc/perluniprops.zip.\n",
            "       | Downloading package nonbreaking_prefixes to\n",
            "       |     /content/nltk_data...\n",
            "       |   Unzipping corpora/nonbreaking_prefixes.zip.\n",
            "       | Downloading package vader_lexicon to /content/nltk_data...\n",
            "       | Downloading package porter_test to /content/nltk_data...\n",
            "       |   Unzipping stemmers/porter_test.zip.\n",
            "       | Downloading package wmt15_eval to /content/nltk_data...\n",
            "       |   Unzipping models/wmt15_eval.zip.\n",
            "       | Downloading package mwa_ppdb to /content/nltk_data...\n",
            "       |   Unzipping misc/mwa_ppdb.zip.\n",
            "       | \n",
            "     Done downloading collection all\n",
            "\n",
            "---------------------------------------------------------------------------\n",
            "    d) Download   l) List    u) Update   c) Config   h) Help   q) Quit\n",
            "---------------------------------------------------------------------------\n",
            "Downloader> q\n"
          ],
          "name": "stdout"
        }
      ]
    },
    {
      "metadata": {
        "id": "JpqcmoGLbG8R",
        "colab_type": "code",
        "colab": {
          "autoexec": {
            "startup": false,
            "wait_interval": 0
          }
        }
      },
      "cell_type": "code",
      "source": [
        "def clean_review(raw_review,removestops=False):\n",
        "  text = BeautifulSoup(raw_review,\"html5lib\").get_text()\n",
        "  \n",
        "  letters_only=re.sub(\"[^a-zA-Z]\",\" \",text)\n",
        "  letters_only=re.sub('\\s+',' ', letters_only)\n",
        "  \n",
        "  \n",
        "  return letters_only"
      ],
      "execution_count": 0,
      "outputs": []
    },
    {
      "metadata": {
        "id": "vXa_8iXVdhAf",
        "colab_type": "code",
        "colab": {
          "autoexec": {
            "startup": false,
            "wait_interval": 0
          },
          "output_extras": [
            {}
          ],
          "base_uri": "https://localhost:8080/",
          "height": 306
        },
        "outputId": "c7c2a35e-a040-4092-9733-dfabdcf46857",
        "executionInfo": {
          "status": "ok",
          "timestamp": 1518010768356,
          "user_tz": -330,
          "elapsed": 484005,
          "user": {
            "displayName": "prabhukiran g",
            "photoUrl": "//lh4.googleusercontent.com/-BYx7PrXEoDk/AAAAAAAAAAI/AAAAAAAAHQ4/Rp2XJAt4a9w/s50-c-k-no/photo.jpg",
            "userId": "111602092102230767926"
          }
        }
      },
      "cell_type": "code",
      "source": [
        "train_text=train.comment_text.apply(lambda x: clean_review(x))\n",
        "test_text=test.comment_text.apply(lambda x: clean_review(x))"
      ],
      "execution_count": 0,
      "outputs": [
        {
          "output_type": "stream",
          "text": [
            "/usr/local/lib/python3.6/dist-packages/bs4/__init__.py:282: UserWarning: \"http://en.wikipedia.org/wiki/Wikipedia_talk:No_original_research/archive15#YouTube_art_as_primary_source\" looks like a URL. Beautiful Soup is not an HTTP client. You should probably use an HTTP client like requests to get the document behind the URL, and feed that document to Beautiful Soup.\n",
            "  ' that document to Beautiful Soup.' % decoded_markup\n",
            "/usr/local/lib/python3.6/dist-packages/bs4/__init__.py:282: UserWarning: \"http://finance.yahoo.com/news/7-fascinating-nuggets-another-bewildering-150348488.html\" looks like a URL. Beautiful Soup is not an HTTP client. You should probably use an HTTP client like requests to get the document behind the URL, and feed that document to Beautiful Soup.\n",
            "  ' that document to Beautiful Soup.' % decoded_markup\n",
            "/usr/local/lib/python3.6/dist-packages/bs4/__init__.py:282: UserWarning: \"http://en.wikipedia.org/wiki/Wikipedia:ELYES\" looks like a URL. Beautiful Soup is not an HTTP client. You should probably use an HTTP client like requests to get the document behind the URL, and feed that document to Beautiful Soup.\n",
            "  ' that document to Beautiful Soup.' % decoded_markup\n",
            "/usr/local/lib/python3.6/dist-packages/bs4/__init__.py:282: UserWarning: \"http://www.haaretz.com/news/diplomacy-defense/2-279-calories-per-person-how-israel-made-sure-gaza-didn-t-starve.premium-1.470419\" looks like a URL. Beautiful Soup is not an HTTP client. You should probably use an HTTP client like requests to get the document behind the URL, and feed that document to Beautiful Soup.\n",
            "  ' that document to Beautiful Soup.' % decoded_markup\n",
            "/usr/local/lib/python3.6/dist-packages/bs4/__init__.py:282: UserWarning: \"http://en.wikipedia.org/wiki/Half-Life_%28series%29\" looks like a URL. Beautiful Soup is not an HTTP client. You should probably use an HTTP client like requests to get the document behind the URL, and feed that document to Beautiful Soup.\n",
            "  ' that document to Beautiful Soup.' % decoded_markup\n",
            "/usr/local/lib/python3.6/dist-packages/bs4/__init__.py:282: UserWarning: \"http://www.google.ca/search?hl=en&source;=hp&q;=%22book+identifier%22+edu.ca&btnG;=Google+Search&meta;=cr%3DcountryCA&aq;=f&oq;=\" looks like a URL. Beautiful Soup is not an HTTP client. You should probably use an HTTP client like requests to get the document behind the URL, and feed that document to Beautiful Soup.\n",
            "  ' that document to Beautiful Soup.' % decoded_markup\n",
            "/usr/local/lib/python3.6/dist-packages/bs4/__init__.py:282: UserWarning: \"http://es.wikipedia.org/wiki/Usuario_Discusi%C3%B3n:Sarah_W.\" looks like a URL. Beautiful Soup is not an HTTP client. You should probably use an HTTP client like requests to get the document behind the URL, and feed that document to Beautiful Soup.\n",
            "  ' that document to Beautiful Soup.' % decoded_markup\n",
            "/usr/local/lib/python3.6/dist-packages/bs4/__init__.py:282: UserWarning: \"http://en.wikipedia.org/wiki/Rayleigh%E2%80%93B%C3%A9nard_convection\" looks like a URL. Beautiful Soup is not an HTTP client. You should probably use an HTTP client like requests to get the document behind the URL, and feed that document to Beautiful Soup.\n",
            "  ' that document to Beautiful Soup.' % decoded_markup\n"
          ],
          "name": "stderr"
        }
      ]
    },
    {
      "metadata": {
        "id": "su4fAl7JEXy9",
        "colab_type": "code",
        "colab": {
          "autoexec": {
            "startup": false,
            "wait_interval": 0
          }
        }
      },
      "cell_type": "code",
      "source": [
        "from keras.preprocessing.text import Tokenizer\n",
        "from keras.preprocessing.sequence import pad_sequences\n",
        "\n",
        "sentences_train=train_text.values\n",
        "sentences_test=test_text.values\n",
        "list_classes = [\"toxic\", \"severe_toxic\", \"obscene\", \"threat\", \"insult\", \"identity_hate\"]\n",
        "train_labels=train[list_classes].values"
      ],
      "execution_count": 0,
      "outputs": []
    },
    {
      "metadata": {
        "id": "rfMNqzwyHAJV",
        "colab_type": "code",
        "colab": {
          "autoexec": {
            "startup": false,
            "wait_interval": 0
          },
          "output_extras": [
            {}
          ],
          "base_uri": "https://localhost:8080/",
          "height": 51
        },
        "outputId": "f3638b4e-2d12-4845-e653-09baadb88105",
        "executionInfo": {
          "status": "ok",
          "timestamp": 1518010846398,
          "user_tz": -330,
          "elapsed": 971,
          "user": {
            "displayName": "prabhukiran g",
            "photoUrl": "//lh4.googleusercontent.com/-BYx7PrXEoDk/AAAAAAAAAAI/AAAAAAAAHQ4/Rp2XJAt4a9w/s50-c-k-no/photo.jpg",
            "userId": "111602092102230767926"
          }
        }
      },
      "cell_type": "code",
      "source": [
        "#sentences_train[1:5]\n",
        "#train_labels[1:5],sentences_test.shape\n",
        "sentences_train[1],sentences_test[1]"
      ],
      "execution_count": 0,
      "outputs": [
        {
          "output_type": "execute_result",
          "data": {
            "text/plain": [
              "('D aww He matches this background colour I m seemingly stuck with Thanks talk January UTC ',\n",
              " ' From RfC The title is fine as it is IMO ')"
            ]
          },
          "metadata": {
            "tags": []
          },
          "execution_count": 177
        }
      ]
    },
    {
      "metadata": {
        "id": "X59RcEFnHOkl",
        "colab_type": "code",
        "colab": {
          "autoexec": {
            "startup": false,
            "wait_interval": 0
          }
        }
      },
      "cell_type": "code",
      "source": [
        "max_features=20000\n",
        "tokenizer=Tokenizer(num_words=max_features)\n",
        "tokenizer.fit_on_texts(list(list(sentences_train)))\n",
        "list_tokenized_train=tokenizer.texts_to_sequences(sentences_train)\n",
        "list_tokenized_test=tokenizer.texts_to_sequences(sentences_test)"
      ],
      "execution_count": 0,
      "outputs": []
    },
    {
      "metadata": {
        "id": "6GDnfv7nIqwX",
        "colab_type": "code",
        "colab": {
          "autoexec": {
            "startup": false,
            "wait_interval": 0
          },
          "output_extras": [
            {}
          ],
          "base_uri": "https://localhost:8080/",
          "height": 34
        },
        "outputId": "fcfdd20a-40ca-405c-a20d-713afac83479",
        "executionInfo": {
          "status": "ok",
          "timestamp": 1518001100413,
          "user_tz": -330,
          "elapsed": 1519,
          "user": {
            "displayName": "prabhukiran g",
            "photoUrl": "//lh4.googleusercontent.com/-BYx7PrXEoDk/AAAAAAAAAAI/AAAAAAAAHQ4/Rp2XJAt4a9w/s50-c-k-no/photo.jpg",
            "userId": "111602092102230767926"
          }
        }
      },
      "cell_type": "code",
      "source": [
        "len(list_tokenized_test),test.shape"
      ],
      "execution_count": 0,
      "outputs": [
        {
          "output_type": "execute_result",
          "data": {
            "text/plain": [
              "(153164, (153164, 2))"
            ]
          },
          "metadata": {
            "tags": []
          },
          "execution_count": 137
        }
      ]
    },
    {
      "metadata": {
        "id": "0ZaCyDGy6q-s",
        "colab_type": "code",
        "colab": {
          "autoexec": {
            "startup": false,
            "wait_interval": 0
          },
          "output_extras": [
            {}
          ],
          "base_uri": "https://localhost:8080/",
          "height": 34
        },
        "outputId": "b81b4b46-981b-4326-ca78-4f7bb3cdfab3",
        "executionInfo": {
          "status": "ok",
          "timestamp": 1518012049186,
          "user_tz": -330,
          "elapsed": 1096,
          "user": {
            "displayName": "prabhukiran g",
            "photoUrl": "//lh4.googleusercontent.com/-BYx7PrXEoDk/AAAAAAAAAAI/AAAAAAAAHQ4/Rp2XJAt4a9w/s50-c-k-no/photo.jpg",
            "userId": "111602092102230767926"
          }
        }
      },
      "cell_type": "code",
      "source": [
        "list_tokenized_train[1]"
      ],
      "execution_count": 0,
      "outputs": [
        {
          "output_type": "execute_result",
          "data": {
            "text/plain": [
              "[145, 15894, 51, 2509, 13, 544, 3613, 3, 69, 4312, 2598, 23, 96, 38, 944, 183]"
            ]
          },
          "metadata": {
            "tags": []
          },
          "execution_count": 186
        }
      ]
    },
    {
      "metadata": {
        "id": "En8lzlJtKyP-",
        "colab_type": "code",
        "colab": {
          "autoexec": {
            "startup": false,
            "wait_interval": 0
          }
        }
      },
      "cell_type": "code",
      "source": [
        "word_index=tokenizer.word_index\n",
        "#word_index"
      ],
      "execution_count": 0,
      "outputs": []
    },
    {
      "metadata": {
        "id": "Di0U5flOa9jD",
        "colab_type": "code",
        "colab": {
          "autoexec": {
            "startup": false,
            "wait_interval": 0
          },
          "output_extras": [
            {}
          ],
          "base_uri": "https://localhost:8080/",
          "height": 265
        },
        "outputId": "0346b009-a427-45dd-f67f-261e378f0da5",
        "executionInfo": {
          "status": "ok",
          "timestamp": 1517992798296,
          "user_tz": -330,
          "elapsed": 1912,
          "user": {
            "displayName": "prabhukiran g",
            "photoUrl": "//lh4.googleusercontent.com/-BYx7PrXEoDk/AAAAAAAAAAI/AAAAAAAAHQ4/Rp2XJAt4a9w/s50-c-k-no/photo.jpg",
            "userId": "111602092102230767926"
          }
        }
      },
      "cell_type": "code",
      "source": [
        "totalNumWords = [len(one_comment) for one_comment in list_tokenized_train]\n",
        "plt.hist(totalNumWords,bins = np.arange(0,410,10))#[0,50,100,150,200,250,300,350,400])#,450,500,550,600,650,700,750,800,850,900])\n",
        "plt.show()"
      ],
      "execution_count": 0,
      "outputs": [
        {
          "output_type": "display_data",
          "data": {
            "image/png": "[encoded data removed]",
            "text/plain": [
              "<matplotlib.figure.Figure at 0x7fd6a78ee438>"
            ]
          },
          "metadata": {
            "tags": []
          }
        }
      ]
    },
    {
      "metadata": {
        "id": "PL1NNAATag0Q",
        "colab_type": "code",
        "colab": {
          "autoexec": {
            "startup": false,
            "wait_interval": 0
          }
        }
      },
      "cell_type": "code",
      "source": [
        "maxlen = 200\n",
        "#X_train = pad_sequences(list_tokenized_train, maxlen=maxlen)\n",
        "X_test = pad_sequences(list_tokenized_test, maxlen=maxlen)"
      ],
      "execution_count": 0,
      "outputs": []
    },
    {
      "metadata": {
        "id": "OPT6XAxNayQ2",
        "colab_type": "code",
        "colab": {
          "autoexec": {
            "startup": false,
            "wait_interval": 0
          },
          "output_extras": [
            {}
          ],
          "base_uri": "https://localhost:8080/",
          "height": 67
        },
        "outputId": "66e47598-b35a-4ab1-9668-540f5be4af98",
        "executionInfo": {
          "status": "ok",
          "timestamp": 1518000741403,
          "user_tz": -330,
          "elapsed": 1398,
          "user": {
            "displayName": "prabhukiran g",
            "photoUrl": "//lh4.googleusercontent.com/-BYx7PrXEoDk/AAAAAAAAAAI/AAAAAAAAHQ4/Rp2XJAt4a9w/s50-c-k-no/photo.jpg",
            "userId": "111602092102230767926"
          }
        }
      },
      "cell_type": "code",
      "source": [
        "#labels = keras.utils.to_categorical(np.asarray(train_labels))\n",
        "labels=train_labels\n",
        "print('Shape of data tensor:', X_train.shape)\n",
        "print('Shape of label tensor:', labels.shape)\n",
        "print('Shape of label tensor:', X_test.shape)"
      ],
      "execution_count": 0,
      "outputs": [
        {
          "output_type": "stream",
          "text": [
            "Shape of data tensor: (159571, 200)\n",
            "Shape of label tensor: (159571, 6)\n",
            "Shape of label tensor: (153164, 200)\n"
          ],
          "name": "stdout"
        }
      ]
    },
    {
      "metadata": {
        "id": "4mMYXpGba6Fb",
        "colab_type": "code",
        "colab": {
          "autoexec": {
            "startup": false,
            "wait_interval": 0
          }
        }
      },
      "cell_type": "code",
      "source": [
        "# split the data into a training set and a validation set\n",
        "indices = np.arange(X_train.shape[0])\n",
        "np.random.shuffle(indices)\n",
        "data = X_train[indices]\n",
        "labels = labels[indices]\n",
        "nb_validation_samples = int(0.1 * data.shape[0])\n",
        "\n",
        "x_train = data[:-nb_validation_samples]\n",
        "y_train = labels[:-nb_validation_samples]\n",
        "x_val = data[-nb_validation_samples:]\n",
        "y_val = labels[-nb_validation_samples:]"
      ],
      "execution_count": 0,
      "outputs": []
    },
    {
      "metadata": {
        "id": "1o4YyVaIb_pX",
        "colab_type": "code",
        "colab": {
          "autoexec": {
            "startup": false,
            "wait_interval": 0
          },
          "output_extras": [
            {}
          ],
          "base_uri": "https://localhost:8080/",
          "height": 34
        },
        "outputId": "68ac28e1-03ad-41d7-92d4-46255235b5c0",
        "executionInfo": {
          "status": "ok",
          "timestamp": 1517998174763,
          "user_tz": -330,
          "elapsed": 68161,
          "user": {
            "displayName": "prabhukiran g",
            "photoUrl": "//lh4.googleusercontent.com/-BYx7PrXEoDk/AAAAAAAAAAI/AAAAAAAAHQ4/Rp2XJAt4a9w/s50-c-k-no/photo.jpg",
            "userId": "111602092102230767926"
          }
        }
      },
      "cell_type": "code",
      "source": [
        "embeddings_index = {}\n",
        "f = open(os.path.join('glove.twitter.27B.200d.txt'))\n",
        "for line in f:\n",
        "    values = line.split()\n",
        "    word = values[0]\n",
        "    coefs = np.asarray(values[1:], dtype='float32')\n",
        "    embeddings_index[word] = coefs\n",
        "f.close()\n",
        "\n",
        "print('Found %s word vectors.' % len(embeddings_index))"
      ],
      "execution_count": 0,
      "outputs": [
        {
          "output_type": "stream",
          "text": [
            "Found 1193514 word vectors.\n"
          ],
          "name": "stdout"
        }
      ]
    },
    {
      "metadata": {
        "id": "PP41Ate4e2dL",
        "colab_type": "code",
        "colab": {
          "autoexec": {
            "startup": false,
            "wait_interval": 0
          }
        }
      },
      "cell_type": "code",
      "source": [
        "EMBEDDING_DIM=200\n",
        "embedding_matrix = np.zeros((len(word_index) + 1, EMBEDDING_DIM))\n",
        "for word, i in word_index.items():\n",
        "    embedding_vector = embeddings_index.get(word)\n",
        "    if embedding_vector is not None:\n",
        "        # words not found in embedding index will be all-zeros.\n",
        "        embedding_matrix[i] = embedding_vector"
      ],
      "execution_count": 0,
      "outputs": []
    },
    {
      "metadata": {
        "id": "rYkfQoMfu_Ib",
        "colab_type": "code",
        "colab": {
          "autoexec": {
            "startup": false,
            "wait_interval": 0
          },
          "output_extras": [
            {}
          ],
          "base_uri": "https://localhost:8080/",
          "height": 34
        },
        "outputId": "829a90e2-d38e-4fdc-f903-fff3d9fdb735",
        "executionInfo": {
          "status": "ok",
          "timestamp": 1517998205814,
          "user_tz": -330,
          "elapsed": 922,
          "user": {
            "displayName": "prabhukiran g",
            "photoUrl": "//lh4.googleusercontent.com/-BYx7PrXEoDk/AAAAAAAAAAI/AAAAAAAAHQ4/Rp2XJAt4a9w/s50-c-k-no/photo.jpg",
            "userId": "111602092102230767926"
          }
        }
      },
      "cell_type": "code",
      "source": [
        "embedding_matrix.shape"
      ],
      "execution_count": 0,
      "outputs": [
        {
          "output_type": "execute_result",
          "data": {
            "text/plain": [
              "(210338, 200)"
            ]
          },
          "metadata": {
            "tags": []
          },
          "execution_count": 91
        }
      ]
    },
    {
      "metadata": {
        "id": "SmV03RYzfMql",
        "colab_type": "code",
        "colab": {
          "autoexec": {
            "startup": false,
            "wait_interval": 0
          }
        }
      },
      "cell_type": "code",
      "source": [
        "from keras.layers import Embedding\n",
        "\n",
        "embedding_layer = Embedding(len(word_index) + 1,\n",
        "                            EMBEDDING_DIM,\n",
        "                            weights=[embedding_matrix],\n",
        "                            input_length=maxlen,\n",
        "                            trainable=False)"
      ],
      "execution_count": 0,
      "outputs": []
    },
    {
      "metadata": {
        "id": "CZ_jkBImuQ-u",
        "colab_type": "code",
        "colab": {
          "autoexec": {
            "startup": false,
            "wait_interval": 0
          },
          "output_extras": [
            {}
          ],
          "base_uri": "https://localhost:8080/",
          "height": 34
        },
        "outputId": "2f3cc4a6-3c59-42c0-e526-b984644fe8ad",
        "executionInfo": {
          "status": "ok",
          "timestamp": 1517998209680,
          "user_tz": -330,
          "elapsed": 1143,
          "user": {
            "displayName": "prabhukiran g",
            "photoUrl": "//lh4.googleusercontent.com/-BYx7PrXEoDk/AAAAAAAAAAI/AAAAAAAAHQ4/Rp2XJAt4a9w/s50-c-k-no/photo.jpg",
            "userId": "111602092102230767926"
          }
        }
      },
      "cell_type": "code",
      "source": [
        "x_train.shape"
      ],
      "execution_count": 0,
      "outputs": [
        {
          "output_type": "execute_result",
          "data": {
            "text/plain": [
              "(143614, 200)"
            ]
          },
          "metadata": {
            "tags": []
          },
          "execution_count": 93
        }
      ]
    },
    {
      "metadata": {
        "id": "G7yZ5bKYsQjx",
        "colab_type": "code",
        "colab": {
          "autoexec": {
            "startup": false,
            "wait_interval": 0
          },
          "output_extras": [
            {}
          ],
          "base_uri": "https://localhost:8080/",
          "height": 34
        },
        "outputId": "aaa0521b-59f9-4b35-fe00-254b24d6d595",
        "executionInfo": {
          "status": "ok",
          "timestamp": 1517998211099,
          "user_tz": -330,
          "elapsed": 954,
          "user": {
            "displayName": "prabhukiran g",
            "photoUrl": "//lh4.googleusercontent.com/-BYx7PrXEoDk/AAAAAAAAAAI/AAAAAAAAHQ4/Rp2XJAt4a9w/s50-c-k-no/photo.jpg",
            "userId": "111602092102230767926"
          }
        }
      },
      "cell_type": "code",
      "source": [
        "y_train.shape"
      ],
      "execution_count": 0,
      "outputs": [
        {
          "output_type": "execute_result",
          "data": {
            "text/plain": [
              "(143614, 6)"
            ]
          },
          "metadata": {
            "tags": []
          },
          "execution_count": 94
        }
      ]
    },
    {
      "metadata": {
        "id": "OSxOdaiPfaPd",
        "colab_type": "code",
        "colab": {
          "autoexec": {
            "startup": false,
            "wait_interval": 0
          }
        }
      },
      "cell_type": "code",
      "source": [
        "from keras.models import Model\n",
        "from keras.layers import Input, Dense\n",
        "import matplotlib.pyplot as plt\n",
        "\n",
        "import keras\n",
        "from keras import optimizers\n",
        "from keras import backend as K\n",
        "from keras import regularizers\n",
        "from keras.models import Sequential\n",
        "from keras.layers import Dense, Activation, Dropout, Flatten\n",
        "from keras.layers import Bidirectional, MaxPooling1D, MaxPooling2D, Reshape, Flatten, concatenate, BatchNormalization\n",
        "from keras.layers import Embedding, Conv1D, MaxPooling1D, GlobalMaxPooling1D \n",
        "from keras.utils import plot_model\n",
        "\n",
        "sequence_input = Input(shape=(maxlen,), dtype='int32')\n",
        "embedded_sequences = embedding_layer(sequence_input)\n",
        "\n",
        "x1 = Conv1D(128, 2, activation='relu')(embedded_sequences)\n",
        "x1 = MaxPooling1D(2)(x1)\n",
        "x1 = Conv1D(128, 2, activation='relu')(x1)\n",
        "x1 = MaxPooling1D(2)(x1)\n",
        "x1 = Flatten()(x1)\n",
        "x1 = Dense(128, activation='relu')(x1)\n",
        "\n",
        "x2 = Conv1D(128, 3, activation='relu')(embedded_sequences)\n",
        "x2 = MaxPooling1D(3)(x2)\n",
        "x2 = Conv1D(128, 3, activation='relu')(x2)\n",
        "x2 = MaxPooling1D(3)(x2)\n",
        "x2 = Flatten()(x2)\n",
        "x2 = Dense(128, activation='relu')(x2)\n",
        "\n",
        "x3 = Conv1D(128, 4, activation='relu')(embedded_sequences)\n",
        "x3 = MaxPooling1D(4)(x3)\n",
        "x3 = Conv1D(128, 4, activation='relu')(x3)\n",
        "x3 = MaxPooling1D(4)(x3)\n",
        "x3 = Flatten()(x3)\n",
        "x3 = Dense(128, activation='relu')(x3)\n",
        "\n",
        "x4 = Conv1D(128, 5, activation='relu')(embedded_sequences)\n",
        "x4 = MaxPooling1D(5)(x4)\n",
        "x4 = Conv1D(128, 5, activation='relu')(x4)\n",
        "x4 = MaxPooling1D(5)(x4)\n",
        "x4 = Flatten()(x4)\n",
        "x4 = Dense(128, activation='relu')(x4)\n",
        "\n",
        "x5 = Conv1D(128, 6, activation='relu')(embedded_sequences)\n",
        "x5 = MaxPooling1D(6)(x5)\n",
        "x5 = Conv1D(128, 6, activation='relu')(x5)\n",
        "x5 = MaxPooling1D(6)(x5)\n",
        "x5 = Flatten()(x5)\n",
        "x5 = Dense(128, activation='relu')(x5)\n",
        "\n",
        "x = concatenate([x1, x2, x3, x4, x5])\n",
        "\n",
        "preds = Dense(6, activation='sigmoid')(x)\n",
        "\n",
        "model = Model(sequence_input, preds)\n"
      ],
      "execution_count": 0,
      "outputs": []
    },
    {
      "metadata": {
        "id": "EKx5to_gpSnD",
        "colab_type": "code",
        "colab": {
          "autoexec": {
            "startup": false,
            "wait_interval": 0
          },
          "output_extras": [
            {}
          ],
          "base_uri": "https://localhost:8080/",
          "height": 1344
        },
        "outputId": "571e1e70-4ba0-404d-ef04-b1608e345c38",
        "executionInfo": {
          "status": "ok",
          "timestamp": 1518004547817,
          "user_tz": -330,
          "elapsed": 1302,
          "user": {
            "displayName": "prabhukiran g",
            "photoUrl": "//lh4.googleusercontent.com/-BYx7PrXEoDk/AAAAAAAAAAI/AAAAAAAAHQ4/Rp2XJAt4a9w/s50-c-k-no/photo.jpg",
            "userId": "111602092102230767926"
          }
        }
      },
      "cell_type": "code",
      "source": [
        "model.summary()"
      ],
      "execution_count": 0,
      "outputs": [
        {
          "output_type": "stream",
          "text": [
            "__________________________________________________________________________________________________\n",
            "Layer (type)                    Output Shape         Param #     Connected to                     \n",
            "==================================================================================================\n",
            "input_12 (InputLayer)           (None, 200)          0                                            \n",
            "__________________________________________________________________________________________________\n",
            "embedding_2 (Embedding)         (None, 200, 200)     42067600    input_12[0][0]                   \n",
            "__________________________________________________________________________________________________\n",
            "conv1d_29 (Conv1D)              (None, 199, 128)     51328       embedding_2[2][0]                \n",
            "__________________________________________________________________________________________________\n",
            "conv1d_31 (Conv1D)              (None, 198, 128)     76928       embedding_2[2][0]                \n",
            "__________________________________________________________________________________________________\n",
            "conv1d_33 (Conv1D)              (None, 197, 128)     102528      embedding_2[2][0]                \n",
            "__________________________________________________________________________________________________\n",
            "conv1d_35 (Conv1D)              (None, 196, 128)     128128      embedding_2[2][0]                \n",
            "__________________________________________________________________________________________________\n",
            "conv1d_37 (Conv1D)              (None, 195, 128)     153728      embedding_2[2][0]                \n",
            "__________________________________________________________________________________________________\n",
            "max_pooling1d_28 (MaxPooling1D) (None, 99, 128)      0           conv1d_29[0][0]                  \n",
            "__________________________________________________________________________________________________\n",
            "max_pooling1d_30 (MaxPooling1D) (None, 66, 128)      0           conv1d_31[0][0]                  \n",
            "__________________________________________________________________________________________________\n",
            "max_pooling1d_32 (MaxPooling1D) (None, 49, 128)      0           conv1d_33[0][0]                  \n",
            "__________________________________________________________________________________________________\n",
            "max_pooling1d_34 (MaxPooling1D) (None, 39, 128)      0           conv1d_35[0][0]                  \n",
            "__________________________________________________________________________________________________\n",
            "max_pooling1d_36 (MaxPooling1D) (None, 32, 128)      0           conv1d_37[0][0]                  \n",
            "__________________________________________________________________________________________________\n",
            "conv1d_30 (Conv1D)              (None, 98, 128)      32896       max_pooling1d_28[0][0]           \n",
            "__________________________________________________________________________________________________\n",
            "conv1d_32 (Conv1D)              (None, 64, 128)      49280       max_pooling1d_30[0][0]           \n",
            "__________________________________________________________________________________________________\n",
            "conv1d_34 (Conv1D)              (None, 46, 128)      65664       max_pooling1d_32[0][0]           \n",
            "__________________________________________________________________________________________________\n",
            "conv1d_36 (Conv1D)              (None, 35, 128)      82048       max_pooling1d_34[0][0]           \n",
            "__________________________________________________________________________________________________\n",
            "conv1d_38 (Conv1D)              (None, 27, 128)      98432       max_pooling1d_36[0][0]           \n",
            "__________________________________________________________________________________________________\n",
            "max_pooling1d_29 (MaxPooling1D) (None, 49, 128)      0           conv1d_30[0][0]                  \n",
            "__________________________________________________________________________________________________\n",
            "max_pooling1d_31 (MaxPooling1D) (None, 21, 128)      0           conv1d_32[0][0]                  \n",
            "__________________________________________________________________________________________________\n",
            "max_pooling1d_33 (MaxPooling1D) (None, 11, 128)      0           conv1d_34[0][0]                  \n",
            "__________________________________________________________________________________________________\n",
            "max_pooling1d_35 (MaxPooling1D) (None, 7, 128)       0           conv1d_36[0][0]                  \n",
            "__________________________________________________________________________________________________\n",
            "max_pooling1d_37 (MaxPooling1D) (None, 4, 128)       0           conv1d_38[0][0]                  \n",
            "__________________________________________________________________________________________________\n",
            "flatten_12 (Flatten)            (None, 6272)         0           max_pooling1d_29[0][0]           \n",
            "__________________________________________________________________________________________________\n",
            "flatten_13 (Flatten)            (None, 2688)         0           max_pooling1d_31[0][0]           \n",
            "__________________________________________________________________________________________________\n",
            "flatten_14 (Flatten)            (None, 1408)         0           max_pooling1d_33[0][0]           \n",
            "__________________________________________________________________________________________________\n",
            "flatten_15 (Flatten)            (None, 896)          0           max_pooling1d_35[0][0]           \n",
            "__________________________________________________________________________________________________\n",
            "flatten_16 (Flatten)            (None, 512)          0           max_pooling1d_37[0][0]           \n",
            "__________________________________________________________________________________________________\n",
            "dense_20 (Dense)                (None, 128)          802944      flatten_12[0][0]                 \n",
            "__________________________________________________________________________________________________\n",
            "dense_21 (Dense)                (None, 128)          344192      flatten_13[0][0]                 \n",
            "__________________________________________________________________________________________________\n",
            "dense_22 (Dense)                (None, 128)          180352      flatten_14[0][0]                 \n",
            "__________________________________________________________________________________________________\n",
            "dense_23 (Dense)                (None, 128)          114816      flatten_15[0][0]                 \n",
            "__________________________________________________________________________________________________\n",
            "dense_24 (Dense)                (None, 128)          65664       flatten_16[0][0]                 \n",
            "__________________________________________________________________________________________________\n",
            "concatenate_1 (Concatenate)     (None, 640)          0           dense_20[0][0]                   \n",
            "                                                                 dense_21[0][0]                   \n",
            "                                                                 dense_22[0][0]                   \n",
            "                                                                 dense_23[0][0]                   \n",
            "                                                                 dense_24[0][0]                   \n",
            "__________________________________________________________________________________________________\n",
            "dense_25 (Dense)                (None, 6)            3846        concatenate_1[0][0]              \n",
            "==================================================================================================\n",
            "Total params: 44,420,374\n",
            "Trainable params: 2,352,774\n",
            "Non-trainable params: 42,067,600\n",
            "__________________________________________________________________________________________________\n"
          ],
          "name": "stdout"
        }
      ]
    },
    {
      "metadata": {
        "id": "h9CfmvU7y-xg",
        "colab_type": "code",
        "colab": {
          "autoexec": {
            "startup": false,
            "wait_interval": 0
          }
        }
      },
      "cell_type": "code",
      "source": [
        "adam = optimizers.Adam(lr=0.01, beta_1=0.9, beta_2=0.999, epsilon=1e-08, decay=0.001n)\n",
        "model.compile(loss='binary_crossentropy',\n",
        "              optimizer=adam,\n",
        "              metrics=['accuracy'])"
      ],
      "execution_count": 0,
      "outputs": []
    },
    {
      "metadata": {
        "id": "QFOLcyGAgkr4",
        "colab_type": "code",
        "colab": {
          "autoexec": {
            "startup": false,
            "wait_interval": 0
          },
          "output_extras": [
            {},
            {},
            {},
            {},
            {},
            {},
            {},
            {}
          ],
          "base_uri": "https://localhost:8080/",
          "height": 171
        },
        "outputId": "00b33aa6-07d7-48ef-d4ed-83144ec7168a",
        "executionInfo": {
          "status": "ok",
          "timestamp": 1518006201035,
          "user_tz": -330,
          "elapsed": 359179,
          "user": {
            "displayName": "prabhukiran g",
            "photoUrl": "//lh4.googleusercontent.com/-BYx7PrXEoDk/AAAAAAAAAAI/AAAAAAAAHQ4/Rp2XJAt4a9w/s50-c-k-no/photo.jpg",
            "userId": "111602092102230767926"
          }
        }
      },
      "cell_type": "code",
      "source": [
        "# happy learning!\n",
        "model.fit(x_train, y_train, validation_data=(x_val, y_val),epochs=3, batch_size=64)"
      ],
      "execution_count": 0,
      "outputs": [
        {
          "output_type": "stream",
          "text": [
            "Train on 143614 samples, validate on 15957 samples\n",
            "Epoch 1/3\n",
            " 47424/143614 [========>.....................] - ETA: 1:17 - loss: 0.0518 - acc: 0.9830"
          ],
          "name": "stdout"
        },
        {
          "output_type": "stream",
          "text": [
            "136768/143614 [===========================>..] - ETA: 5s - loss: 0.0448 - acc: 0.9842"
          ],
          "name": "stdout"
        },
        {
          "output_type": "stream",
          "text": [
            "143614/143614 [==============================] - 120s 832us/step - loss: 0.0445 - acc: 0.9842 - val_loss: 0.0682 - val_acc: 0.9791\n",
            "Epoch 2/3\n",
            " 26944/143614 [====>.........................] - ETA: 1:33 - loss: 0.0276 - acc: 0.9894"
          ],
          "name": "stdout"
        },
        {
          "output_type": "stream",
          "text": [
            "114560/143614 [======================>.......] - ETA: 23s - loss: 0.0296 - acc: 0.9890"
          ],
          "name": "stdout"
        },
        {
          "output_type": "stream",
          "text": [
            "143614/143614 [==============================] - 119s 827us/step - loss: 0.0300 - acc: 0.9888 - val_loss: 0.0740 - val_acc: 0.9780\n",
            "Epoch 3/3\n",
            " 18816/143614 [==>...........................] - ETA: 1:39 - loss: 0.0227 - acc: 0.9919"
          ],
          "name": "stdout"
        },
        {
          "output_type": "stream",
          "text": [
            "102592/143614 [====================>.........] - ETA: 32s - loss: 0.0229 - acc: 0.9915"
          ],
          "name": "stdout"
        },
        {
          "output_type": "stream",
          "text": [
            "143614/143614 [==============================] - 119s 828us/step - loss: 0.0235 - acc: 0.9912 - val_loss: 0.0890 - val_acc: 0.9784\n"
          ],
          "name": "stdout"
        },
        {
          "output_type": "execute_result",
          "data": {
            "text/plain": [
              "<keras.callbacks.History at 0x7fd6abec6ac8>"
            ]
          },
          "metadata": {
            "tags": []
          },
          "execution_count": 169
        }
      ]
    },
    {
      "metadata": {
        "id": "Fj628oxsweM9",
        "colab_type": "code",
        "colab": {
          "autoexec": {
            "startup": false,
            "wait_interval": 0
          },
          "output_extras": [
            {},
            {},
            {},
            {},
            {},
            {},
            {},
            {},
            {},
            {},
            {}
          ],
          "base_uri": "https://localhost:8080/",
          "height": 407
        },
        "outputId": "0ae35934-e6ac-474a-f32f-5ce40a170fe0",
        "executionInfo": {
          "status": "ok",
          "timestamp": 1517998772195,
          "user_tz": -330,
          "elapsed": 330173,
          "user": {
            "displayName": "prabhukiran g",
            "photoUrl": "//lh4.googleusercontent.com/-BYx7PrXEoDk/AAAAAAAAAAI/AAAAAAAAHQ4/Rp2XJAt4a9w/s50-c-k-no/photo.jpg",
            "userId": "111602092102230767926"
          }
        }
      },
      "cell_type": "code",
      "source": [
        "#model.fit(x_train, y_train, validation_data=(x_val, y_val),epochs=10, batch_size=64)"
      ],
      "execution_count": 0,
      "outputs": [
        {
          "output_type": "stream",
          "text": [
            "Train on 143614 samples, validate on 15957 samples\n",
            "Epoch 1/10\n",
            "143614/143614 [==============================] - 33s 232us/step - loss: 0.0489 - acc: 0.9821 - val_loss: 0.0579 - val_acc: 0.9794\n",
            "Epoch 2/10\n",
            " 14144/143614 [=>............................] - ETA: 28s - loss: 0.0403 - acc: 0.9850"
          ],
          "name": "stdout"
        },
        {
          "output_type": "stream",
          "text": [
            "143614/143614 [==============================] - 33s 230us/step - loss: 0.0437 - acc: 0.9834 - val_loss: 0.0604 - val_acc: 0.9794\n",
            "Epoch 3/10\n",
            " 63104/143614 [============>.................] - ETA: 17s - loss: 0.0373 - acc: 0.9852"
          ],
          "name": "stdout"
        },
        {
          "output_type": "stream",
          "text": [
            "143614/143614 [==============================] - 33s 230us/step - loss: 0.0385 - acc: 0.9849 - val_loss: 0.0624 - val_acc: 0.9793\n",
            "Epoch 4/10\n",
            " 81856/143614 [================>.............] - ETA: 13s - loss: 0.0330 - acc: 0.9869"
          ],
          "name": "stdout"
        },
        {
          "output_type": "stream",
          "text": [
            "143614/143614 [==============================] - 33s 229us/step - loss: 0.0342 - acc: 0.9864 - val_loss: 0.0733 - val_acc: 0.9792\n",
            "Epoch 5/10\n",
            " 89088/143614 [=================>............] - ETA: 12s - loss: 0.0294 - acc: 0.9883"
          ],
          "name": "stdout"
        },
        {
          "output_type": "stream",
          "text": [
            "143614/143614 [==============================] - 33s 229us/step - loss: 0.0305 - acc: 0.9877 - val_loss: 0.0744 - val_acc: 0.9787\n",
            "Epoch 6/10\n",
            " 91584/143614 [==================>...........] - ETA: 11s - loss: 0.0267 - acc: 0.9892"
          ],
          "name": "stdout"
        },
        {
          "output_type": "stream",
          "text": [
            "143614/143614 [==============================] - 33s 229us/step - loss: 0.0274 - acc: 0.9889 - val_loss: 0.0810 - val_acc: 0.9776\n",
            "Epoch 7/10\n",
            " 92544/143614 [==================>...........] - ETA: 11s - loss: 0.0241 - acc: 0.9901"
          ],
          "name": "stdout"
        },
        {
          "output_type": "stream",
          "text": [
            "143614/143614 [==============================] - 33s 229us/step - loss: 0.0249 - acc: 0.9898 - val_loss: 0.0888 - val_acc: 0.9779\n",
            "Epoch 8/10\n",
            " 92992/143614 [==================>...........] - ETA: 11s - loss: 0.0219 - acc: 0.9911"
          ],
          "name": "stdout"
        },
        {
          "output_type": "stream",
          "text": [
            "143614/143614 [==============================] - 33s 228us/step - loss: 0.0227 - acc: 0.9908 - val_loss: 0.1046 - val_acc: 0.9778\n",
            "Epoch 9/10\n",
            " 93184/143614 [==================>...........] - ETA: 11s - loss: 0.0198 - acc: 0.9920"
          ],
          "name": "stdout"
        },
        {
          "output_type": "stream",
          "text": [
            "143614/143614 [==============================] - 33s 229us/step - loss: 0.0206 - acc: 0.9917 - val_loss: 0.1023 - val_acc: 0.9767\n",
            "Epoch 10/10\n",
            " 92736/143614 [==================>...........] - ETA: 11s - loss: 0.0182 - acc: 0.9926"
          ],
          "name": "stdout"
        },
        {
          "output_type": "stream",
          "text": [
            "143614/143614 [==============================] - 33s 228us/step - loss: 0.0187 - acc: 0.9923 - val_loss: 0.1046 - val_acc: 0.9761\n"
          ],
          "name": "stdout"
        },
        {
          "output_type": "execute_result",
          "data": {
            "text/plain": [
              "<keras.callbacks.History at 0x7fd6924ee2e8>"
            ]
          },
          "metadata": {
            "tags": []
          },
          "execution_count": 98
        }
      ]
    },
    {
      "metadata": {
        "id": "CXt8qnEBgjG0",
        "colab_type": "code",
        "colab": {
          "autoexec": {
            "startup": false,
            "wait_interval": 0
          },
          "output_extras": [
            {}
          ],
          "base_uri": "https://localhost:8080/",
          "height": 34
        },
        "outputId": "036093ce-fea9-4b54-b086-2c20dc3ecf9d",
        "executionInfo": {
          "status": "ok",
          "timestamp": 1517999428112,
          "user_tz": -330,
          "elapsed": 8199,
          "user": {
            "displayName": "prabhukiran g",
            "photoUrl": "//lh4.googleusercontent.com/-BYx7PrXEoDk/AAAAAAAAAAI/AAAAAAAAHQ4/Rp2XJAt4a9w/s50-c-k-no/photo.jpg",
            "userId": "111602092102230767926"
          }
        }
      },
      "cell_type": "code",
      "source": [
        "y_test = model.predict([X_test], batch_size=1024, verbose=1)"
      ],
      "execution_count": 0,
      "outputs": [
        {
          "output_type": "stream",
          "text": [
            "153164/153164 [==============================] - 7s 47us/step\n"
          ],
          "name": "stdout"
        }
      ]
    },
    {
      "metadata": {
        "id": "uf-1hqz1yiWl",
        "colab_type": "code",
        "colab": {
          "autoexec": {
            "startup": false,
            "wait_interval": 0
          },
          "output_extras": [
            {}
          ],
          "base_uri": "https://localhost:8080/",
          "height": 336
        },
        "outputId": "70ec40d8-426e-49d8-a101-4deaa62eae2b",
        "executionInfo": {
          "status": "ok",
          "timestamp": 1517999008633,
          "user_tz": -330,
          "elapsed": 996,
          "user": {
            "displayName": "prabhukiran g",
            "photoUrl": "//lh4.googleusercontent.com/-BYx7PrXEoDk/AAAAAAAAAAI/AAAAAAAAHQ4/Rp2XJAt4a9w/s50-c-k-no/photo.jpg",
            "userId": "111602092102230767926"
          }
        }
      },
      "cell_type": "code",
      "source": [
        "y_test[1:20]"
      ],
      "execution_count": 0,
      "outputs": [
        {
          "output_type": "execute_result",
          "data": {
            "text/plain": [
              "array([[0.00001, 0.     , 0.     , 0.     , 0.     , 0.     ],\n",
              "       [0.     , 0.     , 0.     , 0.     , 0.     , 0.     ],\n",
              "       [0.     , 0.     , 0.     , 0.     , 0.     , 0.     ],\n",
              "       [0.00001, 0.     , 0.     , 0.     , 0.     , 0.     ],\n",
              "       [0.     , 0.     , 0.     , 0.     , 0.     , 0.     ],\n",
              "       [0.     , 0.     , 0.     , 0.     , 0.     , 0.     ],\n",
              "       [0.00322, 0.00005, 0.00026, 0.00001, 0.00124, 0.00019],\n",
              "       [0.00611, 0.     , 0.     , 0.     , 0.0001 , 0.     ],\n",
              "       [0.     , 0.     , 0.     , 0.     , 0.     , 0.     ],\n",
              "       [0.31936, 0.00001, 0.30244, 0.     , 0.00139, 0.     ],\n",
              "       [0.53923, 0.     , 0.     , 0.     , 0.00072, 0.     ],\n",
              "       [0.     , 0.     , 0.     , 0.     , 0.     , 0.     ],\n",
              "       [0.     , 0.     , 0.     , 0.     , 0.     , 0.     ],\n",
              "       [0.     , 0.     , 0.     , 0.     , 0.     , 0.     ],\n",
              "       [0.     , 0.     , 0.     , 0.     , 0.     , 0.     ],\n",
              "       [0.00629, 0.00003, 0.00105, 0.     , 0.00039, 0.00014],\n",
              "       [0.     , 0.     , 0.     , 0.     , 0.     , 0.     ],\n",
              "       [0.     , 0.     , 0.     , 0.     , 0.     , 0.     ],\n",
              "       [0.00001, 0.     , 0.     , 0.     , 0.     , 0.     ]], dtype=float32)"
            ]
          },
          "metadata": {
            "tags": []
          },
          "execution_count": 105
        }
      ]
    },
    {
      "metadata": {
        "id": "-mPkQ7UTtgZi",
        "colab_type": "code",
        "colab": {
          "autoexec": {
            "startup": false,
            "wait_interval": 0
          }
        }
      },
      "cell_type": "code",
      "source": [
        "#create a submission\n",
        "submission_df = pd.DataFrame(columns=['id'] + list_classes)\n",
        "submission_df['id'] = test['id'].values \n",
        "submission_df[list_classes] = y_test \n",
        "submission_df.to_csv(\"cnn_sentiment_submission.csv\", index=False)"
      ],
      "execution_count": 0,
      "outputs": []
    },
    {
      "metadata": {
        "id": "fdYX3Gdl2aef",
        "colab_type": "code",
        "colab": {
          "autoexec": {
            "startup": false,
            "wait_interval": 0
          },
          "output_extras": [
            {}
          ],
          "base_uri": "https://localhost:8080/",
          "height": 195
        },
        "outputId": "be388372-cb84-4571-839e-90a9c1431688",
        "executionInfo": {
          "status": "ok",
          "timestamp": 1518002157467,
          "user_tz": -330,
          "elapsed": 1148,
          "user": {
            "displayName": "prabhukiran g",
            "photoUrl": "//lh4.googleusercontent.com/-BYx7PrXEoDk/AAAAAAAAAAI/AAAAAAAAHQ4/Rp2XJAt4a9w/s50-c-k-no/photo.jpg",
            "userId": "111602092102230767926"
          }
        }
      },
      "cell_type": "code",
      "source": [
        "submission_df.head()"
      ],
      "execution_count": 0,
      "outputs": [
        {
          "output_type": "execute_result",
          "data": {
            "text/html": [
              "<div>\n",
              "<style scoped>\n",
              "    .dataframe tbody tr th:only-of-type {\n",
              "        vertical-align: middle;\n",
              "    }\n",
              "\n",
              "    .dataframe tbody tr th {\n",
              "        vertical-align: top;\n",
              "    }\n",
              "\n",
              "    .dataframe thead th {\n",
              "        text-align: right;\n",
              "    }\n",
              "</style>\n",
              "<table border=\"1\" class=\"dataframe\">\n",
              "  <thead>\n",
              "    <tr style=\"text-align: right;\">\n",
              "      <th></th>\n",
              "      <th>id</th>\n",
              "      <th>toxic</th>\n",
              "      <th>severe_toxic</th>\n",
              "      <th>obscene</th>\n",
              "      <th>threat</th>\n",
              "      <th>insult</th>\n",
              "      <th>identity_hate</th>\n",
              "    </tr>\n",
              "  </thead>\n",
              "  <tbody>\n",
              "    <tr>\n",
              "      <th>0</th>\n",
              "      <td>00001cee341fdb12</td>\n",
              "      <td>1</td>\n",
              "      <td>0.000119601</td>\n",
              "      <td>0.999933</td>\n",
              "      <td>9.17122e-12</td>\n",
              "      <td>0.999773</td>\n",
              "      <td>0.00781393</td>\n",
              "    </tr>\n",
              "    <tr>\n",
              "      <th>1</th>\n",
              "      <td>0000247867823ef7</td>\n",
              "      <td>3.01643e-07</td>\n",
              "      <td>7.03983e-15</td>\n",
              "      <td>9.9253e-09</td>\n",
              "      <td>1.36011e-17</td>\n",
              "      <td>5.1405e-10</td>\n",
              "      <td>5.968e-13</td>\n",
              "    </tr>\n",
              "    <tr>\n",
              "      <th>2</th>\n",
              "      <td>00013b17ad220c46</td>\n",
              "      <td>3.74988e-09</td>\n",
              "      <td>7.48721e-21</td>\n",
              "      <td>3.76309e-15</td>\n",
              "      <td>2.25466e-23</td>\n",
              "      <td>1.0955e-13</td>\n",
              "      <td>7.46522e-20</td>\n",
              "    </tr>\n",
              "    <tr>\n",
              "      <th>3</th>\n",
              "      <td>00017563c3f7919a</td>\n",
              "      <td>5.10558e-13</td>\n",
              "      <td>5.35052e-20</td>\n",
              "      <td>9.87273e-14</td>\n",
              "      <td>7.25174e-27</td>\n",
              "      <td>2.81447e-14</td>\n",
              "      <td>9.7746e-19</td>\n",
              "    </tr>\n",
              "    <tr>\n",
              "      <th>4</th>\n",
              "      <td>00017695ad8997eb</td>\n",
              "      <td>1.03652e-08</td>\n",
              "      <td>4.44076e-17</td>\n",
              "      <td>4.15183e-11</td>\n",
              "      <td>1.38802e-19</td>\n",
              "      <td>5.95251e-15</td>\n",
              "      <td>6.9488e-14</td>\n",
              "    </tr>\n",
              "  </tbody>\n",
              "</table>\n",
              "</div>"
            ],
            "text/plain": [
              "                 id        toxic severe_toxic      obscene       threat  \\\n",
              "0  00001cee341fdb12            1  0.000119601     0.999933  9.17122e-12   \n",
              "1  0000247867823ef7  3.01643e-07  7.03983e-15   9.9253e-09  1.36011e-17   \n",
              "2  00013b17ad220c46  3.74988e-09  7.48721e-21  3.76309e-15  2.25466e-23   \n",
              "3  00017563c3f7919a  5.10558e-13  5.35052e-20  9.87273e-14  7.25174e-27   \n",
              "4  00017695ad8997eb  1.03652e-08  4.44076e-17  4.15183e-11  1.38802e-19   \n",
              "\n",
              "        insult identity_hate  \n",
              "0     0.999773    0.00781393  \n",
              "1   5.1405e-10     5.968e-13  \n",
              "2   1.0955e-13   7.46522e-20  \n",
              "3  2.81447e-14    9.7746e-19  \n",
              "4  5.95251e-15    6.9488e-14  "
            ]
          },
          "metadata": {
            "tags": []
          },
          "execution_count": 145
        }
      ]
    },
    {
      "metadata": {
        "id": "husBcoKF5WcV",
        "colab_type": "code",
        "colab": {
          "autoexec": {
            "startup": false,
            "wait_interval": 0
          }
        }
      },
      "cell_type": "code",
      "source": [
        ""
      ],
      "execution_count": 0,
      "outputs": []
    }
  ]
}