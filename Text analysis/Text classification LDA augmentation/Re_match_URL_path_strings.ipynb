{
 "cells": [
  {
   "cell_type": "code",
   "execution_count": 4,
   "metadata": {},
   "outputs": [],
   "source": [
    "import re"
   ]
  },
  {
   "cell_type": "code",
   "execution_count": 5,
   "metadata": {},
   "outputs": [],
   "source": [
    "str_1=\"hello there https://codereview.stackexchange.com/questions/166920/removal-of-duplicate-urls-in-list i am /ab/c world\"\n",
    "str_2=\"hello /a/b_d/c i am world\"\n",
    "str_3=\"/a/b/c\""
   ]
  },
  {
   "cell_type": "code",
   "execution_count": 9,
   "metadata": {},
   "outputs": [],
   "source": [
    "def clean_review_html(raw_data):\n",
    "    text = re.sub(r'(https|http)?:\\/\\/(\\w|\\.|\\/|\\$|\\?|\\-|\\=|\\&|\\%)*\\b',' ', raw_data, flags=re.MULTILINE)\n",
    "    letters_only=re.sub('\\s+',' ', text)\n",
    "    return letters_only\n",
    "\n",
    "def clean_review_path(raw_data):\n",
    "    raw_text = re.sub(r'(/[A-Z0-9a-z]*)?(/[a-z][A-Za-z0-9_-]*)*\\b',' ', raw_data, flags=re.MULTILINE)\n",
    "    letters_only=re.sub('\\s+',' ', raw_text)\n",
    "    return letters_only"
   ]
  },
  {
   "cell_type": "code",
   "execution_count": 10,
   "metadata": {},
   "outputs": [
    {
     "data": {
      "text/plain": [
       "'hello there i am world'"
      ]
     },
     "execution_count": 10,
     "metadata": {},
     "output_type": "execute_result"
    }
   ],
   "source": [
    "clean_review_path(clean_review_html(str_1))"
   ]
  },
  {
   "cell_type": "code",
   "execution_count": 11,
   "metadata": {},
   "outputs": [
    {
     "data": {
      "text/plain": [
       "'hello i am world'"
      ]
     },
     "execution_count": 11,
     "metadata": {},
     "output_type": "execute_result"
    }
   ],
   "source": [
    "clean_review_path(clean_review_html(str_2))"
   ]
  },
  {
   "cell_type": "code",
   "execution_count": null,
   "metadata": {},
   "outputs": [],
   "source": []
  }
 ],
 "metadata": {
  "kernelspec": {
   "display_name": "Python 3",
   "language": "python",
   "name": "python3"
  },
  "language_info": {
   "codemirror_mode": {
    "name": "ipython",
    "version": 3
   },
   "file_extension": ".py",
   "mimetype": "text/x-python",
   "name": "python",
   "nbconvert_exporter": "python",
   "pygments_lexer": "ipython3",
   "version": "3.6.4"
  }
 },
 "nbformat": 4,
 "nbformat_minor": 2
}
