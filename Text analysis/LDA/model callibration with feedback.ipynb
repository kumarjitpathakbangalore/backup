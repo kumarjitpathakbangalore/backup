{
 "cells": [
  {
   "cell_type": "code",
   "execution_count": 34,
   "metadata": {
    "collapsed": true
   },
   "outputs": [],
   "source": [
    "import pandas as pd\n",
    "!conda config --append channels conda-forge\n",
    "#! conda install  imbalanced-learn\n",
    "#from imblearn import under_sampling, over_sampling"
   ]
  },
  {
   "cell_type": "code",
   "execution_count": null,
   "metadata": {
    "collapsed": true
   },
   "outputs": [],
   "source": [
    " conda install -c glemaitre imbalanced-learn\n",
    "    \n",
    "    "
   ]
  },
  {
   "cell_type": "code",
   "execution_count": 19,
   "metadata": {},
   "outputs": [],
   "source": [
    "import numpy as np\n",
    "import pandas as pd\n",
    "from sklearn.ensemble import RandomForestClassifier\n",
    "from sklearn.model_selection import train_test_split\n",
    "from sklearn.metrics import recall_score\n",
    "#from imblearn import under_sampling, over_sampling\n",
    "#from imblearn.over_sampling import SMOTE"
   ]
  },
  {
   "cell_type": "code",
   "execution_count": 26,
   "metadata": {},
   "outputs": [
    {
     "data": {
      "text/plain": [
       "AQPC_t1                      0\n",
       "AQPC_t2                      0\n",
       "AQPC_t3                      0\n",
       "ARC_t1                       0\n",
       "ARC_t2                       0\n",
       "ARC_t3                       0\n",
       "ARCH_t1                      0\n",
       "ARCH_t2                      0\n",
       "ARCH_t3                      0\n",
       "ASM Instance_t1              0\n",
       "ASM Instance_t2              0\n",
       "ASM Instance_t3              0\n",
       "Aborting Process_t1          0\n",
       "Aborting Process_t2          0\n",
       "Aborting Process_t3          0\n",
       "Alter database_t1            0\n",
       "Alter database_t2            0\n",
       "Alter database_t3            0\n",
       "Archival_t1                  0\n",
       "Archival_t2                  0\n",
       "Archival_t3                  0\n",
       "Archived Log entry_t1       21\n",
       "Archived Log entry_t2       27\n",
       "Archived Log entry_t3       27\n",
       "Background Process_t1        0\n",
       "Background Process_t2        0\n",
       "Background Process_t3        0\n",
       "Corrupt Block_t1             0\n",
       "Corrupt Block_t2             0\n",
       "Corrupt Block_t3             0\n",
       "                            ..\n",
       "Shadows Cancelled_t2         0\n",
       "Shadows Cancelled_t3         0\n",
       "Shared IO_t1                 0\n",
       "Shared IO_t2                 0\n",
       "Shared IO_t3                 0\n",
       "Sweep_t1                     0\n",
       "Sweep_t2                     0\n",
       "Sweep_t3                     0\n",
       "TNS_t1                       0\n",
       "TNS_t2                       0\n",
       "TNS_t3                       0\n",
       "Tablespace Encription_t1     0\n",
       "Tablespace Encription_t2     0\n",
       "Tablespace Encription_t3     0\n",
       "Thread log_t1                0\n",
       "Thread log_t2                0\n",
       "Thread log_t3                0\n",
       "Timeout_t1                   0\n",
       "Timeout_t2                   0\n",
       "Timeout_t3                   0\n",
       "Trapped tarnsaction_t1       0\n",
       "Trapped tarnsaction_t2       0\n",
       "Trapped tarnsaction_t3       0\n",
       "archiving disabled_t1        0\n",
       "archiving disabled_t2        0\n",
       "archiving disabled_t3        0\n",
       "minact-scn_t1                0\n",
       "minact-scn_t2                0\n",
       "minact-scn_t3                0\n",
       "fault1                       0\n",
       "Name: 0, Length: 151, dtype: int64"
      ]
     },
     "execution_count": 26,
     "metadata": {},
     "output_type": "execute_result"
    }
   ],
   "source": [
    "faults = pd.read_csv(\"E:/Company_work/latest_code_sherlock/new/final_data_with_fault.csv\")\n",
    "\n",
    "del faults['Date']\n",
    "del faults[\"fault2\"]\n",
    "faults.iloc[0]"
   ]
  },
  {
   "cell_type": "code",
   "execution_count": 27,
   "metadata": {},
   "outputs": [
    {
     "data": {
      "text/plain": [
       "0    81\n",
       "1    12\n",
       "Name: fault1, dtype: int64"
      ]
     },
     "execution_count": 27,
     "metadata": {},
     "output_type": "execute_result"
    }
   ],
   "source": [
    "faults.fault1.value_counts()"
   ]
  },
  {
   "cell_type": "code",
   "execution_count": 28,
   "metadata": {},
   "outputs": [
    {
     "name": "stdout",
     "output_type": "stream",
     "text": [
      "121\n",
      "['ARC_t1', 'ARC_t2', 'ARC_t3', 'ARCH_t1', 'ARCH_t2', 'ARCH_t3', 'ASM Instance_t1', 'ASM Instance_t2', 'ASM Instance_t3', 'Aborting Process_t1', 'Aborting Process_t2', 'Aborting Process_t3', 'Alter database_t1', 'Alter database_t2', 'Alter database_t3', 'Archival_t1', 'Archival_t2', 'Archival_t3', 'Background Process_t1', 'Background Process_t2', 'Background Process_t3', 'Corrupt Block_t1', 'Corrupt Block_t2', 'Corrupt Block_t3', 'Deadlock detected_t1', 'Deadlock detected_t2', 'Deadlock detected_t3', 'Dumping diagnostic_t1', 'Dumping diagnostic_t2', 'Dumping diagnostic_t3', 'Fatal NI_t1', 'Fatal NI_t2', 'Fatal NI_t3', 'GTX Started_t1', 'GTX Started_t2', 'GTX Started_t3', 'Index Unusable_t1', 'Index Unusable_t2', 'Index Unusable_t3', 'Instance Recovery_t1', 'Instance Recovery_t2', 'Instance Recovery_t3', 'Instance Terminated_t1', 'Instance Terminated_t2', 'Instance Terminated_t3', 'Instance others_t1', 'Instance others_t2', 'Instance others_t3', 'KGL Object_t1', 'KGL Object_t2', 'KGL Object_t3', 'LMON_t1', 'LMON_t2', 'LMON_t3', 'License_t1', 'License_t2', 'License_t3', 'Load Monitor_t1', 'Load Monitor_t2', 'Load Monitor_t3', 'Logminer_t1', 'Logminer_t2', 'Logminer_t3', 'Memory Notification_t1', 'Memory Notification_t2', 'Memory Notification_t3', 'No Messaging_t1', 'No Messaging_t2', 'No Messaging_t3', 'ORA_t1', 'ORA_t2', 'ORA_t3', 'Reconfiguration_t1', 'Reconfiguration_t2', 'Reconfiguration_t3', 'Redo Complete_t1', 'Redo Complete_t2', 'Redo Complete_t3', 'Resize Operation_t1', 'Resize Operation_t2', 'Resize Operation_t3', 'Roles exceeded_t1', 'Roles exceeded_t2', 'Roles exceeded_t3', 'SIGSEGV Exception_t1', 'SIGSEGV Exception_t2', 'SIGSEGV Exception_t3', 'SQL Statement_t1', 'SQL Statement_t2', 'SQL Statement_t3', 'Shadows Cancelled_t1', 'Shadows Cancelled_t2', 'Shadows Cancelled_t3', 'Shared IO_t1', 'Shared IO_t2', 'Shared IO_t3', 'Sweep_t1', 'Sweep_t2', 'Sweep_t3', 'TNS_t1', 'TNS_t2', 'TNS_t3', 'Tablespace Encription_t1', 'Tablespace Encription_t2', 'Tablespace Encription_t3', 'Thread log_t1', 'Thread log_t2', 'Thread log_t3', 'Timeout_t1', 'Timeout_t2', 'Timeout_t3', 'Trapped tarnsaction_t1', 'Trapped tarnsaction_t2', 'Trapped tarnsaction_t3', 'archiving disabled_t1', 'archiving disabled_t2', 'archiving disabled_t3', 'minact-scn_t1', 'minact-scn_t2', 'minact-scn_t3', 'fault1']\n"
     ]
    }
   ],
   "source": [
    "cols = [c for c in faults.columns if c.lower()[:4] != 'aqpc']\n",
    "cols = [c for c in cols if c.lower()[:18] != 'archived log entry']\n",
    "cols = [c for c in cols if c.lower()[:14] != 'errors in file']\n",
    "cols = [c for c in cols if c.lower()[:4] != 'ksfv']\n",
    "cols = [c for c in cols if c.lower()[:12] != 'kill session']\n",
    "cols = [c for c in cols if c.lower()[:11] != 'lgwr switch']\n",
    "cols = [c for c in cols if c.lower()[:4] != 'mark']\n",
    "cols = [c for c in cols if c.lower()[:14] != 'nfs permission']\n",
    "cols = [c for c in cols if c.lower()[:6] != 'others']\n",
    "cols = [c for c in cols if c.lower()[:9] != 'partition']\n",
    "print(len(cols))\n",
    "print(cols)"
   ]
  },
  {
   "cell_type": "code",
   "execution_count": 29,
   "metadata": {},
   "outputs": [
    {
     "name": "stdout",
     "output_type": "stream",
     "text": [
      "Index(['ARC_t1', 'ARC_t2', 'ARC_t3', 'ARCH_t1', 'ARCH_t2', 'ARCH_t3',\n",
      "       'ASM Instance_t1', 'ASM Instance_t2', 'ASM Instance_t3',\n",
      "       'Aborting Process_t1',\n",
      "       ...\n",
      "       'Trapped tarnsaction_t1', 'Trapped tarnsaction_t2',\n",
      "       'Trapped tarnsaction_t3', 'archiving disabled_t1',\n",
      "       'archiving disabled_t2', 'archiving disabled_t3', 'minact-scn_t1',\n",
      "       'minact-scn_t2', 'minact-scn_t3', 'fault1'],\n",
      "      dtype='object', length=121)\n"
     ]
    }
   ],
   "source": [
    "faults = faults[cols]\n",
    "print(faults.columns)"
   ]
  },
  {
   "cell_type": "code",
   "execution_count": 30,
   "metadata": {},
   "outputs": [
    {
     "data": {
      "text/plain": [
       "RandomForestClassifier(bootstrap=True, class_weight=None, criterion='gini',\n",
       "            max_depth=None, max_features='auto', max_leaf_nodes=None,\n",
       "            min_impurity_decrease=0.0, min_impurity_split=None,\n",
       "            min_samples_leaf=1, min_samples_split=2,\n",
       "            min_weight_fraction_leaf=0.0, n_estimators=20, n_jobs=1,\n",
       "            oob_score=False, random_state=12, verbose=0, warm_start=False)"
      ]
     },
     "execution_count": 30,
     "metadata": {},
     "output_type": "execute_result"
    }
   ],
   "source": [
    "y = faults.pop('fault1')\n",
    "#_ = clean_data.pop('fault2')\n",
    "X = faults\n",
    "\n",
    "#sm = SMOTE(random_state=12, ratio = 1.0)\n",
    "#x_res, y_res = sm.fit_sample(training_features, training_target)\n",
    "#print training_target.value_counts(), np.bincount(y_res)\n",
    "\n",
    "X = X.as_matrix()\n",
    "y = y.as_matrix()\n",
    "model1 = RandomForestClassifier(n_estimators = 20, random_state=12)\n",
    "model1.fit(X,y)"
   ]
  },
  {
   "cell_type": "code",
   "execution_count": 31,
   "metadata": {},
   "outputs": [
    {
     "data": {
      "text/plain": [
       "array([[81,  0],\n",
       "       [ 1, 11]], dtype=int64)"
      ]
     },
     "execution_count": 31,
     "metadata": {},
     "output_type": "execute_result"
    }
   ],
   "source": [
    "fault1_pred = model1.predict(X)\n",
    "from sklearn.metrics import confusion_matrix\n",
    "confusion_matrix(y, fault1_pred)"
   ]
  },
  {
   "cell_type": "code",
   "execution_count": 33,
   "metadata": {},
   "outputs": [
    {
     "name": "stdout",
     "output_type": "stream",
     "text": [
      "Feature ranking:\n",
      "1. feature 27 (0.091754)\n",
      "2. feature 115 (0.080019)\n",
      "3. feature 28 (0.069398)\n",
      "4. feature 29 (0.061890)\n",
      "5. feature 114 (0.059985)\n",
      "6. feature 30 (0.056955)\n",
      "7. feature 116 (0.049893)\n",
      "8. feature 77 (0.048426)\n",
      "9. feature 75 (0.030462)\n",
      "10. feature 43 (0.028924)\n",
      "11. feature 56 (0.024355)\n",
      "12. feature 31 (0.021466)\n",
      "13. feature 44 (0.021143)\n",
      "14. feature 24 (0.019003)\n",
      "15. feature 74 (0.018866)\n",
      "16. feature 76 (0.017385)\n",
      "17. feature 100 (0.017275)\n",
      "18. feature 42 (0.016278)\n",
      "19. feature 20 (0.015911)\n",
      "20. feature 15 (0.015347)\n",
      "21. feature 41 (0.013120)\n",
      "22. feature 11 (0.012239)\n",
      "23. feature 91 (0.011552)\n",
      "24. feature 55 (0.011551)\n",
      "25. feature 14 (0.010623)\n",
      "26. feature 17 (0.010495)\n",
      "27. feature 16 (0.010285)\n",
      "28. feature 110 (0.009405)\n",
      "29. feature 59 (0.008487)\n",
      "30. feature 71 (0.007927)\n",
      "31. feature 6 (0.007198)\n",
      "32. feature 8 (0.006826)\n",
      "33. feature 109 (0.006246)\n",
      "34. feature 18 (0.005577)\n",
      "35. feature 92 (0.005384)\n",
      "36. feature 118 (0.005310)\n",
      "37. feature 45 (0.004884)\n",
      "38. feature 40 (0.004827)\n",
      "39. feature 32 (0.004397)\n",
      "40. feature 46 (0.004330)\n",
      "41. feature 96 (0.003795)\n",
      "42. feature 39 (0.003733)\n",
      "43. feature 106 (0.003668)\n",
      "44. feature 107 (0.003588)\n",
      "45. feature 58 (0.003520)\n",
      "46. feature 9 (0.003419)\n",
      "47. feature 103 (0.003416)\n",
      "48. feature 80 (0.003353)\n",
      "49. feature 7 (0.003344)\n",
      "50. feature 102 (0.003312)\n",
      "51. feature 19 (0.003279)\n",
      "52. feature 5 (0.003256)\n",
      "53. feature 81 (0.003153)\n",
      "54. feature 101 (0.002833)\n",
      "55. feature 10 (0.002680)\n",
      "56. feature 73 (0.002650)\n",
      "57. feature 83 (0.002333)\n",
      "58. feature 47 (0.002319)\n",
      "59. feature 37 (0.001751)\n",
      "60. feature 99 (0.001739)\n",
      "61. feature 108 (0.001722)\n",
      "62. feature 117 (0.001498)\n",
      "63. feature 23 (0.001401)\n",
      "64. feature 79 (0.001319)\n",
      "65. feature 38 (0.001262)\n",
      "66. feature 25 (0.001105)\n",
      "67. feature 3 (0.001105)\n",
      "68. feature 94 (0.000994)\n",
      "69. feature 90 (0.000757)\n",
      "70. feature 36 (0.000756)\n",
      "71. feature 119 (0.000554)\n",
      "72. feature 57 (0.000500)\n",
      "73. feature 13 (0.000469)\n",
      "74. feature 70 (0.000022)\n",
      "75. feature 48 (0.000000)\n",
      "76. feature 95 (0.000000)\n",
      "77. feature 84 (0.000000)\n",
      "78. feature 85 (0.000000)\n",
      "79. feature 86 (0.000000)\n",
      "80. feature 87 (0.000000)\n",
      "81. feature 88 (0.000000)\n",
      "82. feature 89 (0.000000)\n",
      "83. feature 93 (0.000000)\n",
      "84. feature 12 (0.000000)\n",
      "85. feature 97 (0.000000)\n",
      "86. feature 22 (0.000000)\n",
      "87. feature 98 (0.000000)\n",
      "88. feature 104 (0.000000)\n",
      "89. feature 105 (0.000000)\n",
      "90. feature 111 (0.000000)\n",
      "91. feature 112 (0.000000)\n",
      "92. feature 4 (0.000000)\n",
      "93. feature 113 (0.000000)\n",
      "94. feature 2 (0.000000)\n",
      "95. feature 1 (0.000000)\n",
      "96. feature 21 (0.000000)\n",
      "97. feature 78 (0.000000)\n",
      "98. feature 82 (0.000000)\n",
      "99. feature 64 (0.000000)\n",
      "100. feature 50 (0.000000)\n",
      "101. feature 51 (0.000000)\n",
      "102. feature 52 (0.000000)\n",
      "103. feature 53 (0.000000)\n",
      "104. feature 54 (0.000000)\n",
      "105. feature 60 (0.000000)\n",
      "106. feature 61 (0.000000)\n",
      "107. feature 62 (0.000000)\n",
      "108. feature 63 (0.000000)\n",
      "109. feature 35 (0.000000)\n",
      "110. feature 49 (0.000000)\n",
      "111. feature 34 (0.000000)\n",
      "112. feature 33 (0.000000)\n",
      "113. feature 65 (0.000000)\n",
      "114. feature 66 (0.000000)\n",
      "115. feature 67 (0.000000)\n",
      "116. feature 68 (0.000000)\n",
      "117. feature 69 (0.000000)\n",
      "118. feature 26 (0.000000)\n",
      "119. feature 72 (0.000000)\n",
      "120. feature 0 (0.000000)\n"
     ]
    },
    {
     "data": {
      "image/png": "[encoded data removed]",
      "text/plain": [
       "<matplotlib.figure.Figure at 0xb633048>"
      ]
     },
     "metadata": {},
     "output_type": "display_data"
    }
   ],
   "source": [
    "import matplotlib.pyplot as plt\n",
    "importances = model1.feature_importances_\n",
    "std = np.std([tree.feature_importances_ for tree in model1.estimators_],\n",
    "             axis=0)\n",
    "indices = np.argsort(importances)[::-1]\n",
    "\n",
    "# Print the feature ranking\n",
    "print(\"Feature ranking:\")\n",
    "\n",
    "for f in range(X.shape[1]):\n",
    "    print(\"%d. feature %d (%f)\" % (f + 1, indices[f], importances[indices[f]]))\n",
    "\n",
    "# Plot the feature importances of the forest\n",
    "plt.figure()\n",
    "plt.title(\"Feature importances\")\n",
    "plt.bar(range(X.shape[1]), importances[indices],\n",
    "       color=\"r\", yerr=std[indices], align=\"center\")\n",
    "plt.xticks(range(X.shape[1]), indices)\n",
    "plt.xlim([-1, X.shape[1]])\n",
    "plt.show()"
   ]
  },
  {
   "cell_type": "code",
   "execution_count": 36,
   "metadata": {},
   "outputs": [
    {
     "ename": "TypeError",
     "evalue": "'FrozenList' object is not callable",
     "output_type": "error",
     "traceback": [
      "\u001b[1;31m---------------------------------------------------------------------------\u001b[0m",
      "\u001b[1;31mTypeError\u001b[0m                                 Traceback (most recent call last)",
      "\u001b[1;32m<ipython-input-36-b61955b933f6>\u001b[0m in \u001b[0;36m<module>\u001b[1;34m()\u001b[0m\n\u001b[1;32m----> 1\u001b[1;33m \u001b[0mfaults\u001b[0m\u001b[1;33m.\u001b[0m\u001b[0mcolumns\u001b[0m\u001b[1;33m.\u001b[0m\u001b[0mnames\u001b[0m\u001b[1;33m(\u001b[0m\u001b[1;33m)\u001b[0m\u001b[1;33m\u001b[0m\u001b[0m\n\u001b[0m",
      "\u001b[1;31mTypeError\u001b[0m: 'FrozenList' object is not callable"
     ]
    }
   ],
   "source": []
  },
  {
   "cell_type": "code",
   "execution_count": null,
   "metadata": {
    "collapsed": true
   },
   "outputs": [],
   "source": []
  }
 ],
 "metadata": {
  "kernelspec": {
   "display_name": "Python 3",
   "language": "python",
   "name": "python3"
  },
  "language_info": {
   "codemirror_mode": {
    "name": "ipython",
    "version": 3
   },
   "file_extension": ".py",
   "mimetype": "text/x-python",
   "name": "python",
   "nbconvert_exporter": "python",
   "pygments_lexer": "ipython3",
   "version": "3.5.4"
  }
 },
 "nbformat": 4,
 "nbformat_minor": 2
}
