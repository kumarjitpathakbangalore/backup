{
 "cells": [
  {
   "cell_type": "code",
   "execution_count": 1,
   "metadata": {
    "collapsed": false
   },
   "outputs": [
    {
     "name": "stderr",
     "output_type": "stream",
     "text": [
      "C:\\Program Files\\Anaconda2\\lib\\site-packages\\sklearn\\cross_validation.py:44: DeprecationWarning: This module was deprecated in version 0.18 in favor of the model_selection module into which all the refactored classes and functions are moved. Also note that the interface of the new CV iterators are different from that of this module. This module will be removed in 0.20.\n",
      "  \"This module will be removed in 0.20.\", DeprecationWarning)\n"
     ]
    }
   ],
   "source": [
    "import os\n",
    "import os\n",
    "import numpy as np \n",
    "import scipy as sp \n",
    "import matplotlib as mpl \n",
    "import matplotlib.cm as cm \n",
    "import matplotlib.pyplot as plt \n",
    "import pandas as pd \n",
    "import nltk\n",
    "import re\n",
    "import csv\n",
    "from nltk.corpus import stopwords\n",
    "from sklearn.feature_extraction.text import CountVectorizer\n",
    "from sklearn.naive_bayes import MultinomialNB\n",
    "from sklearn.naive_bayes import GaussianNB\n",
    "from sklearn.metrics import accuracy_score\n",
    "from sklearn.cross_validation import train_test_split\n",
    "from sklearn.linear_model import SGDClassifier\n",
    "from scipy.sparse import hstack\n",
    "from sklearn.metrics import confusion_matrix\n",
    "from time import time\n",
    "\n",
    "pd.set_option('display.width', 500)\n",
    "pd.set_option('display.max_columns', 100)\n",
    "pd.set_option('display.notebook_repr_html', True)\n",
    "\n",
    "%matplotlib inline"
   ]
  },
  {
   "cell_type": "code",
   "execution_count": 2,
   "metadata": {
    "collapsed": true
   },
   "outputs": [],
   "source": [
    "class_dataset = pd.read_csv('REDW_Raw_sa.csv')"
   ]
  },
  {
   "cell_type": "code",
   "execution_count": 3,
   "metadata": {
    "collapsed": false
   },
   "outputs": [
    {
     "data": {
      "text/plain": [
       "(249196, 6)"
      ]
     },
     "execution_count": 3,
     "metadata": {},
     "output_type": "execute_result"
    }
   ],
   "source": [
    "class_dataset.shape"
   ]
  },
  {
   "cell_type": "code",
   "execution_count": 4,
   "metadata": {
    "collapsed": false
   },
   "outputs": [
    {
     "data": {
      "text/html": [
       "<div>\n",
       "<table border=\"1\" class=\"dataframe\">\n",
       "  <thead>\n",
       "    <tr style=\"text-align: right;\">\n",
       "      <th></th>\n",
       "      <th>Unnamed: 0</th>\n",
       "      <th>Date</th>\n",
       "      <th>Comments</th>\n",
       "      <th>class</th>\n",
       "      <th>Timesatmp</th>\n",
       "      <th>date1</th>\n",
       "    </tr>\n",
       "  </thead>\n",
       "  <tbody>\n",
       "    <tr>\n",
       "      <th>0</th>\n",
       "      <td>1</td>\n",
       "      <td>Wed Mar 22 11:26:19 2017_1837642</td>\n",
       "      <td>Thread 5 advanced to log sequence 28271 (LGWR ...</td>\n",
       "      <td>LGWR switch</td>\n",
       "      <td>Wed Mar 22 11:26:19 2017</td>\n",
       "      <td>2017-03-22 11:26:19</td>\n",
       "    </tr>\n",
       "    <tr>\n",
       "      <th>1</th>\n",
       "      <td>2</td>\n",
       "      <td>Wed Sep 28 08:34:45 2016_704018</td>\n",
       "      <td>Archived Log entry 80694 added for thread 5 se...</td>\n",
       "      <td>Archived_thread_error</td>\n",
       "      <td>Wed Sep 28 08:34:45 2016</td>\n",
       "      <td>2016-09-28 08:34:45</td>\n",
       "    </tr>\n",
       "    <tr>\n",
       "      <th>2</th>\n",
       "      <td>3</td>\n",
       "      <td>Mon Jul 11 14:01:48 2016_246776</td>\n",
       "      <td>diag_adl:Some indexes or index [sub]partitions...</td>\n",
       "      <td>Diagonal Adl error</td>\n",
       "      <td>Mon Jul 11 14:01:48 2016</td>\n",
       "      <td>2016-07-11 14:01:48</td>\n",
       "    </tr>\n",
       "    <tr>\n",
       "      <th>3</th>\n",
       "      <td>4</td>\n",
       "      <td>Mon Apr 17 09:14:58 2017_2040135</td>\n",
       "      <td>**********************************************...</td>\n",
       "      <td>Tns Error</td>\n",
       "      <td>Mon Apr 17 09:14:58 2017</td>\n",
       "      <td>2017-04-17 09:14:58</td>\n",
       "    </tr>\n",
       "    <tr>\n",
       "      <th>4</th>\n",
       "      <td>5</td>\n",
       "      <td>Thu Sep 29 15:20:17 2016_719382</td>\n",
       "      <td>**********************************************...</td>\n",
       "      <td>Tns Error</td>\n",
       "      <td>Thu Sep 29 15:20:17 2016</td>\n",
       "      <td>2016-09-29 15:20:17</td>\n",
       "    </tr>\n",
       "  </tbody>\n",
       "</table>\n",
       "</div>"
      ],
      "text/plain": [
       "   Unnamed: 0                              Date                                           Comments                  class                 Timesatmp                date1\n",
       "0           1  Wed Mar 22 11:26:19 2017_1837642  Thread 5 advanced to log sequence 28271 (LGWR ...            LGWR switch  Wed Mar 22 11:26:19 2017  2017-03-22 11:26:19\n",
       "1           2   Wed Sep 28 08:34:45 2016_704018  Archived Log entry 80694 added for thread 5 se...  Archived_thread_error  Wed Sep 28 08:34:45 2016  2016-09-28 08:34:45\n",
       "2           3   Mon Jul 11 14:01:48 2016_246776  diag_adl:Some indexes or index [sub]partitions...     Diagonal Adl error  Mon Jul 11 14:01:48 2016  2016-07-11 14:01:48\n",
       "3           4  Mon Apr 17 09:14:58 2017_2040135  **********************************************...              Tns Error  Mon Apr 17 09:14:58 2017  2017-04-17 09:14:58\n",
       "4           5   Thu Sep 29 15:20:17 2016_719382  **********************************************...              Tns Error  Thu Sep 29 15:20:17 2016  2016-09-29 15:20:17"
      ]
     },
     "execution_count": 4,
     "metadata": {},
     "output_type": "execute_result"
    }
   ],
   "source": [
    "class_dataset.head()"
   ]
  },
  {
   "cell_type": "code",
   "execution_count": 7,
   "metadata": {
    "collapsed": false
   },
   "outputs": [],
   "source": [
    "stop = set(stopwords.words('english'))"
   ]
  },
  {
   "cell_type": "code",
   "execution_count": 8,
   "metadata": {
    "collapsed": false
   },
   "outputs": [],
   "source": [
    "doc_complete = class_dataset['Comments'].tolist()"
   ]
  },
  {
   "cell_type": "code",
   "execution_count": 9,
   "metadata": {
    "collapsed": false
   },
   "outputs": [
    {
     "data": {
      "text/plain": [
       "(249196, 6)"
      ]
     },
     "execution_count": 9,
     "metadata": {},
     "output_type": "execute_result"
    }
   ],
   "source": [
    "class_dataset.shape"
   ]
  },
  {
   "cell_type": "code",
   "execution_count": 10,
   "metadata": {
    "collapsed": false
   },
   "outputs": [
    {
     "data": {
      "text/plain": [
       "249196"
      ]
     },
     "execution_count": 10,
     "metadata": {},
     "output_type": "execute_result"
    }
   ],
   "source": [
    "len(doc_complete)"
   ]
  },
  {
   "cell_type": "code",
   "execution_count": 51,
   "metadata": {
    "collapsed": false
   },
   "outputs": [],
   "source": [
    "def clean(doc):\n",
    "    doc = \" \".join([i.replace('*', '') for i in doc.lower().split()])\n",
    "    doc = \" \".join([i.replace(':', ' ') for i in doc.split()])\n",
    "    doc = \" \".join([i.replace('.', ' ') for i in doc.split()])\n",
    "    doc = \" \".join([i.replace('=', '') for i in doc.split()])\n",
    "    doc = \" \".join([i.replace('/', ' ') for i in doc.split()])\n",
    "    doc = \" \".join([i.replace(')', ' ') for i in doc.split()])\n",
    "    doc = \" \".join([i.replace('(', ' ') for i in doc.split()])\n",
    "    doc = \" \".join([i.replace('\"', ' ') for i in doc.split()])\n",
    "    doc = \" \".join([i.replace('-', ' ') for i in doc.split()])\n",
    "    doc = \" \".join([i.replace('_', ' ') for i in doc.split()])\n",
    "    doc = \" \".join([i for i in doc.split() if not i.isdigit()])\n",
    "    doc = \" \".join([i for i in doc.split() if i.isalpha()])\n",
    "    doc = \" \".join([i for i in doc.split() if i not in stop])\n",
    "    return doc"
   ]
  },
  {
   "cell_type": "code",
   "execution_count": 53,
   "metadata": {
    "collapsed": true
   },
   "outputs": [],
   "source": [
    "doc_clean = [clean(doc).split() for doc in doc_complete]"
   ]
  },
  {
   "cell_type": "code",
   "execution_count": 54,
   "metadata": {
    "collapsed": false
   },
   "outputs": [
    {
     "data": {
      "text/plain": [
       "249196"
      ]
     },
     "execution_count": 54,
     "metadata": {},
     "output_type": "execute_result"
    }
   ],
   "source": [
    "len(doc_clean)"
   ]
  },
  {
   "cell_type": "code",
   "execution_count": 55,
   "metadata": {
    "collapsed": false
   },
   "outputs": [
    {
     "name": "stderr",
     "output_type": "stream",
     "text": [
      "C:\\Program Files\\Anaconda2\\lib\\site-packages\\gensim\\utils.py:860: UserWarning: detected Windows; aliasing chunkize to chunkize_serial\n",
      "  warnings.warn(\"detected Windows; aliasing chunkize to chunkize_serial\")\n"
     ]
    }
   ],
   "source": [
    "import gensim\n",
    "from gensim import corpora"
   ]
  },
  {
   "cell_type": "code",
   "execution_count": 56,
   "metadata": {
    "collapsed": false
   },
   "outputs": [],
   "source": [
    "dictionary = corpora.Dictionary(doc_clean)"
   ]
  },
  {
   "cell_type": "code",
   "execution_count": 57,
   "metadata": {
    "collapsed": false
   },
   "outputs": [],
   "source": [
    "doc_term_matrix = [dictionary.doc2bow(doc) for doc in doc_clean]"
   ]
  },
  {
   "cell_type": "code",
   "execution_count": 58,
   "metadata": {
    "collapsed": false
   },
   "outputs": [],
   "source": [
    "Lda = gensim.models.ldamodel.LdaModel"
   ]
  },
  {
   "cell_type": "code",
   "execution_count": 61,
   "metadata": {
    "collapsed": false
   },
   "outputs": [],
   "source": [
    "ldamodel = Lda(doc_term_matrix, num_topics=15, id2word = dictionary, passes=50)"
   ]
  },
  {
   "cell_type": "code",
   "execution_count": 62,
   "metadata": {
    "collapsed": false
   },
   "outputs": [
    {
     "name": "stdout",
     "output_type": "stream",
     "text": [
      "[(0, u'0.086*\"process\" + 0.058*\"background\" + 0.052*\"starting\"'), (1, u'0.155*\"data\" + 0.129*\"note\" + 0.125*\"disk\"'), (2, u'0.147*\"slave\" + 0.139*\"ksfv\" + 0.138*\"exiting\"'), (3, u'0.082*\"table\" + 0.080*\"index\" + 0.080*\"marked\"'), (4, u'0.107*\"ora\" + 0.039*\"file\" + 0.039*\"line\"'), (5, u'0.083*\"error\" + 0.069*\"connect\" + 0.056*\"fatal\"'), (6, u'0.210*\"size\" + 0.109*\"new\" + 0.107*\"completed\"'), (7, u'0.044*\"data\" + 0.030*\"server\" + 0.029*\"check\"'), (8, u'0.489*\"diag\" + 0.486*\"adl\" + 0.004*\"tns\"'), (9, u'0.091*\"table\" + 0.085*\"marked\" + 0.085*\"index\"'), (10, u'0.126*\"id\" + 0.126*\"log\" + 0.124*\"dest\"'), (11, u'0.123*\"group\" + 0.121*\"tp\" + 0.121*\"onlinelog\"'), (12, u'0.418*\"os\" + 0.194*\"running\" + 0.192*\"slave\"'), (13, u'0.079*\"code\" + 0.079*\"nt\" + 0.079*\"err\"'), (14, u'0.085*\"inbound\" + 0.082*\"ora\" + 0.081*\"warning\"')]\n"
     ]
    }
   ],
   "source": [
    "print(ldamodel.print_topics(num_topics=15, num_words=3))"
   ]
  },
  {
   "cell_type": "code",
   "execution_count": 64,
   "metadata": {
    "collapsed": true
   },
   "outputs": [],
   "source": [
    "from time import time"
   ]
  },
  {
   "cell_type": "code",
   "execution_count": 67,
   "metadata": {
    "collapsed": false
   },
   "outputs": [
    {
     "name": "stdout",
     "output_type": "stream",
     "text": [
      "Time taken: 249.196000099 seconds\n"
     ]
    }
   ],
   "source": [
    "t0 = time()\n",
    "ldamodel = Lda(doc_term_matrix, num_topics=15, id2word = dictionary, iterations=5000)\n",
    "print 'Time taken:', time() - t0, 'seconds'"
   ]
  },
  {
   "cell_type": "code",
   "execution_count": 68,
   "metadata": {
    "collapsed": false
   },
   "outputs": [
    {
     "name": "stdout",
     "output_type": "stream",
     "text": [
      "[(0, u'0.070*\"process\" + 0.061*\"background\" + 0.055*\"starting\"'), (1, u'0.067*\"table\" + 0.066*\"marked\" + 0.066*\"index\"'), (2, u'0.079*\"nt\" + 0.079*\"err\" + 0.079*\"code\"'), (3, u'0.273*\"size\" + 0.132*\"completed\" + 0.131*\"new\"'), (4, u'0.070*\"roles\" + 0.052*\"name\" + 0.043*\"maximum\"'), (5, u'0.193*\"data\" + 0.153*\"note\" + 0.144*\"disk\"'), (6, u'0.135*\"group\" + 0.135*\"tp\" + 0.133*\"onlinelog\"'), (7, u'0.232*\"immediate\" + 0.231*\"kill\" + 0.127*\"session\"'), (8, u'0.079*\"os\" + 0.078*\"slave\" + 0.077*\"running\"'), (9, u'0.125*\"added\" + 0.122*\"id\" + 0.120*\"thread\"'), (10, u'0.094*\"nfs\" + 0.059*\"check\" + 0.057*\"specified\"'), (11, u'0.083*\"diag\" + 0.081*\"table\" + 0.080*\"adl\"'), (12, u'0.089*\"ora\" + 0.034*\"tp\" + 0.031*\"file\"'), (13, u'0.427*\"adl\" + 0.427*\"diag\" + 0.012*\"tns\"'), (14, u'0.131*\"ora\" + 0.041*\"line\" + 0.039*\"trace\"')]\n"
     ]
    }
   ],
   "source": [
    "print(ldamodel.print_topics(num_topics=15, num_words=3))"
   ]
  },
  {
   "cell_type": "code",
   "execution_count": 69,
   "metadata": {
    "collapsed": true
   },
   "outputs": [],
   "source": [
    "import numpy as np"
   ]
  },
  {
   "cell_type": "code",
   "execution_count": null,
   "metadata": {
    "collapsed": true
   },
   "outputs": [],
   "source": [
    "df[\"clean\"] = spa"
   ]
  }
 ],
 "metadata": {
  "anaconda-cloud": {},
  "kernelspec": {
   "display_name": "Python 3",
   "language": "python",
   "name": "python3"
  },
  "language_info": {
   "codemirror_mode": {
    "name": "ipython",
    "version": 3
   },
   "file_extension": ".py",
   "mimetype": "text/x-python",
   "name": "python",
   "nbconvert_exporter": "python",
   "pygments_lexer": "ipython3",
   "version": "3.4.5"
  }
 },
 "nbformat": 4,
 "nbformat_minor": 2
}
