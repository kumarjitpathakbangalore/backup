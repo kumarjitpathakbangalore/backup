{
 "cells": [
  {
   "cell_type": "code",
   "execution_count": 1,
   "metadata": {
    "collapsed": true
   },
   "outputs": [],
   "source": [
    "file1 = open(\"0001.1999-12-10.farmer.ham.txt\", \"r\")"
   ]
  },
  {
   "cell_type": "code",
   "execution_count": 2,
   "metadata": {
    "collapsed": true
   },
   "outputs": [],
   "source": [
    "lines = file1.readlines()"
   ]
  },
  {
   "cell_type": "code",
   "execution_count": 3,
   "metadata": {
    "collapsed": false
   },
   "outputs": [
    {
     "data": {
      "text/plain": [
       "['Subject: christmas tree farm pictures\\n']"
      ]
     },
     "execution_count": 3,
     "metadata": {},
     "output_type": "execute_result"
    }
   ],
   "source": [
    "lines"
   ]
  },
  {
   "cell_type": "code",
   "execution_count": 35,
   "metadata": {
    "collapsed": true
   },
   "outputs": [],
   "source": [
    "file2 = open(\"0002.1999-12-13.farmer.ham.txt\", \"r\")"
   ]
  },
  {
   "cell_type": "code",
   "execution_count": 31,
   "metadata": {
    "collapsed": true
   },
   "outputs": [],
   "source": [
    "lines2 = file2.readlines()"
   ]
  },
  {
   "cell_type": "code",
   "execution_count": 33,
   "metadata": {
    "collapsed": false
   },
   "outputs": [],
   "source": [
    "lines2 = [i.strip() for i in lines2]"
   ]
  },
  {
   "cell_type": "code",
   "execution_count": 34,
   "metadata": {
    "collapsed": false
   },
   "outputs": [
    {
     "data": {
      "text/plain": [
       "['Subject: vastar resources , inc .',\n",
       " 'gary , production from the high island larger block a - 1 # 2 commenced on',\n",
       " 'saturday at 2 : 00 p . m . at about 6 , 500 gross . carlos expects between 9 , 500 and',\n",
       " '10 , 000 gross for tomorrow . vastar owns 68 % of the gross production .',\n",
       " 'george x 3 - 6992',\n",
       " '- - - - - - - - - - - - - - - - - - - - - - forwarded by george weissman / hou / ect on 12 / 13 / 99 10 : 16',\n",
       " 'am - - - - - - - - - - - - - - - - - - - - - - - - - - -',\n",
       " 'daren j farmer',\n",
       " '12 / 10 / 99 10 : 38 am',\n",
       " 'to : carlos j rodriguez / hou / ect @ ect',\n",
       " 'cc : george weissman / hou / ect @ ect , melissa graves / hou / ect @ ect',\n",
       " 'subject : vastar resources , inc .',\n",
       " 'carlos ,',\n",
       " 'please call linda and get everything set up .',\n",
       " \"i ' m going to estimate 4 , 500 coming up tomorrow , with a 2 , 000 increase each\",\n",
       " 'following day based on my conversations with bill fischer at bmar .',\n",
       " 'd .',\n",
       " '- - - - - - - - - - - - - - - - - - - - - - forwarded by daren j farmer / hou / ect on 12 / 10 / 99 10 : 34',\n",
       " 'am - - - - - - - - - - - - - - - - - - - - - - - - - - -',\n",
       " 'enron north america corp .',\n",
       " 'from : george weissman 12 / 10 / 99 10 : 00 am',\n",
       " 'to : daren j farmer / hou / ect @ ect',\n",
       " 'cc : gary bryan / hou / ect @ ect , melissa graves / hou / ect @ ect',\n",
       " 'subject : vastar resources , inc .',\n",
       " 'darren ,',\n",
       " 'the attached appears to be a nomination from vastar resources , inc . for the',\n",
       " 'high island larger block a - 1 # 2 ( previously , erroneously referred to as the',\n",
       " '# 1 well ) . vastar now expects the well to commence production sometime',\n",
       " \"tomorrow . i told linda harris that we ' d get her a telephone number in gas\",\n",
       " \"control so she can provide notification of the turn - on tomorrow . linda ' s\",\n",
       " 'numbers , for the record , are 281 . 584 . 3359 voice and 713 . 312 . 1689 fax .',\n",
       " 'would you please see that someone contacts linda and advises her how to',\n",
       " 'submit future nominations via e - mail , fax or voice ? thanks .',\n",
       " 'george x 3 - 6992',\n",
       " '- - - - - - - - - - - - - - - - - - - - - - forwarded by george weissman / hou / ect on 12 / 10 / 99 09 : 44',\n",
       " 'am - - - - - - - - - - - - - - - - - - - - - - - - - - -',\n",
       " '\" linda harris \" on 12 / 10 / 99 09 : 38 : 43 am',\n",
       " 'to : george weissman / hou / ect @ ect',\n",
       " 'cc :',\n",
       " 'subject : hi a - 1 # 2',\n",
       " 'effective 12 - 11 - 99',\n",
       " '| - - - - - - - - + - - - - - - - - - - + - - - - - - - - - - - |',\n",
       " '| | | |',\n",
       " '| mscf / d | min ftp | time |',\n",
       " '| | | |',\n",
       " '| - - - - - - - - + - - - - - - - - - - + - - - - - - - - - - - |',\n",
       " '| | | |',\n",
       " '| 4 , 500 | 9 , 925 | 24 hours |',\n",
       " '| | | |',\n",
       " '| - - - - - - - - + - - - - - - - - - - + - - - - - - - - - - - |',\n",
       " '| | | |',\n",
       " '| 6 , 000 | 9 , 908 | 24 hours |',\n",
       " '| | | |',\n",
       " '| - - - - - - - - + - - - - - - - - - - + - - - - - - - - - - - |',\n",
       " '| | | |',\n",
       " '| 8 , 000 | 9 , 878 | 24 hours |',\n",
       " '| | | |',\n",
       " '| - - - - - - - - + - - - - - - - - - - + - - - - - - - - - - - |',\n",
       " '| | | |',\n",
       " '| 10 , 000 | 9 , 840 | 24 hours |',\n",
       " '| | | |',\n",
       " '| - - - - - - - - + - - - - - - - - - - + - - - - - - - - - - - |',\n",
       " '| | | |',\n",
       " '| 12 , 000 | 9 , 793 | 24 hours |',\n",
       " '| | | |',\n",
       " '| - - - - - - - - + - - - - - - - - - - + - - - - - - - - - - - |',\n",
       " '| | | |',\n",
       " '| 14 , 000 | 9 , 738 | 24 hours |',\n",
       " '| | | |',\n",
       " '| - - - - - - - - + - - - - - - - - - - + - - - - - - - - - - - |',\n",
       " '| | | |',\n",
       " '| 16 , 000 | 9 , 674 | 24 hours |',\n",
       " '| | | |',\n",
       " '| - - - - - - - - + - - - - - - - - - - + - - - - - - - - - - - |',\n",
       " '| | | |',\n",
       " '| 18 , 000 | 9 , 602 | 24 hours |',\n",
       " '| | | |',\n",
       " '| - - - - - - - - + - - - - - - - - - - + - - - - - - - - - - - |',\n",
       " '| | | |',\n",
       " '| 20 , 000 | 9 , 521 | 24 hours |',\n",
       " '| | | |',\n",
       " '| - - - - - - - - + - - - - - - - - - - + - - - - - - - - - - - |',\n",
       " '| | | |',\n",
       " '| 22 , 000 | 9 , 431 | 24 hours |',\n",
       " '| | | |',\n",
       " '| - - - - - - - - + - - - - - - - - - - + - - - - - - - - - - - |',\n",
       " '| | | |',\n",
       " '| 24 , 000 | 9 , 332 | 24 hours |',\n",
       " '| | | |',\n",
       " '| - - - - - - - - + - - - - - - - - - - + - - - - - - - - - - - |',\n",
       " '| | | |',\n",
       " '| 26 , 000 | 9 , 224 | 24 hours |',\n",
       " '| | | |',\n",
       " '| - - - - - - - - + - - - - - - - - - - + - - - - - - - - - - - |',\n",
       " '| | | |',\n",
       " '| 28 , 000 | 9 , 108 | 24 hours |',\n",
       " '| | | |',\n",
       " '| - - - - - - - - + - - - - - - - - - - + - - - - - - - - - - - |',\n",
       " '| | | |',\n",
       " '| 30 , 000 | 8 , 982 | 24 hours |',\n",
       " '| | | |',\n",
       " '| - - - - - - - - + - - - - - - - - - - + - - - - - - - - - - - |',\n",
       " '| | | |',\n",
       " '| 32 , 000 | 8 , 847 | 24 hours |',\n",
       " '| | | |',\n",
       " '| - - - - - - - - + - - - - - - - - - - + - - - - - - - - - - - |',\n",
       " '| | | |',\n",
       " '| 34 , 000 | 8 , 703 | 24 hours |',\n",
       " '| | | |',\n",
       " '| - - - - - - - - + - - - - - - - - - - + - - - - - - - - - - - |',\n",
       " '| | | |',\n",
       " '| 36 , 000 | 8 , 549 | 24 hours |',\n",
       " '| | | |',\n",
       " '| - - - - - - - - + - - - - - - - - - - + - - - - - - - - - - - |']"
      ]
     },
     "execution_count": 34,
     "metadata": {},
     "output_type": "execute_result"
    }
   ],
   "source": [
    "lines2"
   ]
  },
  {
   "cell_type": "code",
   "execution_count": null,
   "metadata": {
    "collapsed": true
   },
   "outputs": [],
   "source": []
  },
  {
   "cell_type": "code",
   "execution_count": 36,
   "metadata": {
    "collapsed": true
   },
   "outputs": [],
   "source": [
    "lines2 = file2.read()"
   ]
  },
  {
   "cell_type": "code",
   "execution_count": 39,
   "metadata": {
    "collapsed": false
   },
   "outputs": [
    {
     "data": {
      "text/plain": [
       "'Subject: vastar resources , inc . gary , production from the high island larger block a - 1 # 2 commenced on saturday at 2 : 00 p . m . at about 6 , 500 gross . carlos expects between 9 , 500 and 10 , 000 gross for tomorrow . vastar owns 68 % of the gross production . george x 3 - 6992 - - - - - - - - - - - - - - - - - - - - - - forwarded by george weissman / hou / ect on 12 / 13 / 99 10 : 16 am - - - - - - - - - - - - - - - - - - - - - - - - - - - daren j farmer 12 / 10 / 99 10 : 38 am to : carlos j rodriguez / hou / ect @ ect cc : george weissman / hou / ect @ ect , melissa graves / hou / ect @ ect subject : vastar resources , inc . carlos , please call linda and get everything set up . i \\' m going to estimate 4 , 500 coming up tomorrow , with a 2 , 000 increase each following day based on my conversations with bill fischer at bmar . d . - - - - - - - - - - - - - - - - - - - - - - forwarded by daren j farmer / hou / ect on 12 / 10 / 99 10 : 34 am - - - - - - - - - - - - - - - - - - - - - - - - - - - enron north america corp . from : george weissman 12 / 10 / 99 10 : 00 am to : daren j farmer / hou / ect @ ect cc : gary bryan / hou / ect @ ect , melissa graves / hou / ect @ ect subject : vastar resources , inc . darren , the attached appears to be a nomination from vastar resources , inc . for the high island larger block a - 1 # 2 ( previously , erroneously referred to as the # 1 well ) . vastar now expects the well to commence production sometime tomorrow . i told linda harris that we \\' d get her a telephone number in gas control so she can provide notification of the turn - on tomorrow . linda \\' s numbers , for the record , are 281 . 584 . 3359 voice and 713 . 312 . 1689 fax . would you please see that someone contacts linda and advises her how to submit future nominations via e - mail , fax or voice ? thanks . george x 3 - 6992 - - - - - - - - - - - - - - - - - - - - - - forwarded by george weissman / hou / ect on 12 / 10 / 99 09 : 44 am - - - - - - - - - - - - - - - - - - - - - - - - - - - \" linda harris \" on 12 / 10 / 99 09 : 38 : 43 am to : george weissman / hou / ect @ ect cc : subject : hi a - 1 # 2 effective 12 - 11 - 99 | - - - - - - - - + - - - - - - - - - - + - - - - - - - - - - - | | | | | | mscf / d | min ftp | time | | | | | | - - - - - - - - + - - - - - - - - - - + - - - - - - - - - - - | | | | | | 4 , 500 | 9 , 925 | 24 hours | | | | | | - - - - - - - - + - - - - - - - - - - + - - - - - - - - - - - | | | | | | 6 , 000 | 9 , 908 | 24 hours | | | | | | - - - - - - - - + - - - - - - - - - - + - - - - - - - - - - - | | | | | | 8 , 000 | 9 , 878 | 24 hours | | | | | | - - - - - - - - + - - - - - - - - - - + - - - - - - - - - - - | | | | | | 10 , 000 | 9 , 840 | 24 hours | | | | | | - - - - - - - - + - - - - - - - - - - + - - - - - - - - - - - | | | | | | 12 , 000 | 9 , 793 | 24 hours | | | | | | - - - - - - - - + - - - - - - - - - - + - - - - - - - - - - - | | | | | | 14 , 000 | 9 , 738 | 24 hours | | | | | | - - - - - - - - + - - - - - - - - - - + - - - - - - - - - - - | | | | | | 16 , 000 | 9 , 674 | 24 hours | | | | | | - - - - - - - - + - - - - - - - - - - + - - - - - - - - - - - | | | | | | 18 , 000 | 9 , 602 | 24 hours | | | | | | - - - - - - - - + - - - - - - - - - - + - - - - - - - - - - - | | | | | | 20 , 000 | 9 , 521 | 24 hours | | | | | | - - - - - - - - + - - - - - - - - - - + - - - - - - - - - - - | | | | | | 22 , 000 | 9 , 431 | 24 hours | | | | | | - - - - - - - - + - - - - - - - - - - + - - - - - - - - - - - | | | | | | 24 , 000 | 9 , 332 | 24 hours | | | | | | - - - - - - - - + - - - - - - - - - - + - - - - - - - - - - - | | | | | | 26 , 000 | 9 , 224 | 24 hours | | | | | | - - - - - - - - + - - - - - - - - - - + - - - - - - - - - - - | | | | | | 28 , 000 | 9 , 108 | 24 hours | | | | | | - - - - - - - - + - - - - - - - - - - + - - - - - - - - - - - | | | | | | 30 , 000 | 8 , 982 | 24 hours | | | | | | - - - - - - - - + - - - - - - - - - - + - - - - - - - - - - - | | | | | | 32 , 000 | 8 , 847 | 24 hours | | | | | | - - - - - - - - + - - - - - - - - - - + - - - - - - - - - - - | | | | | | 34 , 000 | 8 , 703 | 24 hours | | | | | | - - - - - - - - + - - - - - - - - - - + - - - - - - - - - - - | | | | | | 36 , 000 | 8 , 549 | 24 hours | | | | | | - - - - - - - - + - - - - - - - - - - + - - - - - - - - - - - |'"
      ]
     },
     "execution_count": 39,
     "metadata": {},
     "output_type": "execute_result"
    }
   ],
   "source": [
    "' '.join(lines2.split('\\n')) "
   ]
  },
  {
   "cell_type": "code",
   "execution_count": 26,
   "metadata": {
    "collapsed": false
   },
   "outputs": [
    {
     "data": {
      "text/plain": [
       "'Subject: vastar resources , inc .\\ngary , production from the high island larger block a - 1 # 2 commenced on\\nsaturday at 2 : 00 p . m . at about 6 , 500 gross . carlos expects between 9 , 500 and\\n10 , 000 gross for tomorrow . vastar owns 68 % of the gross production .\\ngeorge x 3 - 6992\\n- - - - - - - - - - - - - - - - - - - - - - forwarded by george weissman / hou / ect on 12 / 13 / 99 10 : 16\\nam - - - - - - - - - - - - - - - - - - - - - - - - - - -\\ndaren j farmer\\n12 / 10 / 99 10 : 38 am\\nto : carlos j rodriguez / hou / ect @ ect\\ncc : george weissman / hou / ect @ ect , melissa graves / hou / ect @ ect\\nsubject : vastar resources , inc .\\ncarlos ,\\nplease call linda and get everything set up .\\ni \\' m going to estimate 4 , 500 coming up tomorrow , with a 2 , 000 increase each\\nfollowing day based on my conversations with bill fischer at bmar .\\nd .\\n- - - - - - - - - - - - - - - - - - - - - - forwarded by daren j farmer / hou / ect on 12 / 10 / 99 10 : 34\\nam - - - - - - - - - - - - - - - - - - - - - - - - - - -\\nenron north america corp .\\nfrom : george weissman 12 / 10 / 99 10 : 00 am\\nto : daren j farmer / hou / ect @ ect\\ncc : gary bryan / hou / ect @ ect , melissa graves / hou / ect @ ect\\nsubject : vastar resources , inc .\\ndarren ,\\nthe attached appears to be a nomination from vastar resources , inc . for the\\nhigh island larger block a - 1 # 2 ( previously , erroneously referred to as the\\n# 1 well ) . vastar now expects the well to commence production sometime\\ntomorrow . i told linda harris that we \\' d get her a telephone number in gas\\ncontrol so she can provide notification of the turn - on tomorrow . linda \\' s\\nnumbers , for the record , are 281 . 584 . 3359 voice and 713 . 312 . 1689 fax .\\nwould you please see that someone contacts linda and advises her how to\\nsubmit future nominations via e - mail , fax or voice ? thanks .\\ngeorge x 3 - 6992\\n- - - - - - - - - - - - - - - - - - - - - - forwarded by george weissman / hou / ect on 12 / 10 / 99 09 : 44\\nam - - - - - - - - - - - - - - - - - - - - - - - - - - -\\n\" linda harris \" on 12 / 10 / 99 09 : 38 : 43 am\\nto : george weissman / hou / ect @ ect\\ncc :\\nsubject : hi a - 1 # 2\\neffective 12 - 11 - 99\\n| - - - - - - - - + - - - - - - - - - - + - - - - - - - - - - - |\\n| | | |\\n| mscf / d | min ftp | time |\\n| | | |\\n| - - - - - - - - + - - - - - - - - - - + - - - - - - - - - - - |\\n| | | |\\n| 4 , 500 | 9 , 925 | 24 hours |\\n| | | |\\n| - - - - - - - - + - - - - - - - - - - + - - - - - - - - - - - |\\n| | | |\\n| 6 , 000 | 9 , 908 | 24 hours |\\n| | | |\\n| - - - - - - - - + - - - - - - - - - - + - - - - - - - - - - - |\\n| | | |\\n| 8 , 000 | 9 , 878 | 24 hours |\\n| | | |\\n| - - - - - - - - + - - - - - - - - - - + - - - - - - - - - - - |\\n| | | |\\n| 10 , 000 | 9 , 840 | 24 hours |\\n| | | |\\n| - - - - - - - - + - - - - - - - - - - + - - - - - - - - - - - |\\n| | | |\\n| 12 , 000 | 9 , 793 | 24 hours |\\n| | | |\\n| - - - - - - - - + - - - - - - - - - - + - - - - - - - - - - - |\\n| | | |\\n| 14 , 000 | 9 , 738 | 24 hours |\\n| | | |\\n| - - - - - - - - + - - - - - - - - - - + - - - - - - - - - - - |\\n| | | |\\n| 16 , 000 | 9 , 674 | 24 hours |\\n| | | |\\n| - - - - - - - - + - - - - - - - - - - + - - - - - - - - - - - |\\n| | | |\\n| 18 , 000 | 9 , 602 | 24 hours |\\n| | | |\\n| - - - - - - - - + - - - - - - - - - - + - - - - - - - - - - - |\\n| | | |\\n| 20 , 000 | 9 , 521 | 24 hours |\\n| | | |\\n| - - - - - - - - + - - - - - - - - - - + - - - - - - - - - - - |\\n| | | |\\n| 22 , 000 | 9 , 431 | 24 hours |\\n| | | |\\n| - - - - - - - - + - - - - - - - - - - + - - - - - - - - - - - |\\n| | | |\\n| 24 , 000 | 9 , 332 | 24 hours |\\n| | | |\\n| - - - - - - - - + - - - - - - - - - - + - - - - - - - - - - - |\\n| | | |\\n| 26 , 000 | 9 , 224 | 24 hours |\\n| | | |\\n| - - - - - - - - + - - - - - - - - - - + - - - - - - - - - - - |\\n| | | |\\n| 28 , 000 | 9 , 108 | 24 hours |\\n| | | |\\n| - - - - - - - - + - - - - - - - - - - + - - - - - - - - - - - |\\n| | | |\\n| 30 , 000 | 8 , 982 | 24 hours |\\n| | | |\\n| - - - - - - - - + - - - - - - - - - - + - - - - - - - - - - - |\\n| | | |\\n| 32 , 000 | 8 , 847 | 24 hours |\\n| | | |\\n| - - - - - - - - + - - - - - - - - - - + - - - - - - - - - - - |\\n| | | |\\n| 34 , 000 | 8 , 703 | 24 hours |\\n| | | |\\n| - - - - - - - - + - - - - - - - - - - + - - - - - - - - - - - |\\n| | | |\\n| 36 , 000 | 8 , 549 | 24 hours |\\n| | | |\\n| - - - - - - - - + - - - - - - - - - - + - - - - - - - - - - - |'"
      ]
     },
     "execution_count": 26,
     "metadata": {},
     "output_type": "execute_result"
    }
   ],
   "source": [
    "lines2"
   ]
  },
  {
   "cell_type": "code",
   "execution_count": 27,
   "metadata": {
    "collapsed": false
   },
   "outputs": [
    {
     "data": {
      "text/plain": [
       "['Subject: christmas tree farm pictures\\n']"
      ]
     },
     "execution_count": 27,
     "metadata": {},
     "output_type": "execute_result"
    }
   ],
   "source": [
    "lines"
   ]
  },
  {
   "cell_type": "code",
   "execution_count": 29,
   "metadata": {
    "collapsed": false
   },
   "outputs": [
    {
     "data": {
      "text/plain": [
       "'Subject: christmas tree farm pictures'"
      ]
     },
     "execution_count": 29,
     "metadata": {},
     "output_type": "execute_result"
    }
   ],
   "source": [
    "lines[0].strip()"
   ]
  },
  {
   "cell_type": "code",
   "execution_count": 40,
   "metadata": {
    "collapsed": true
   },
   "outputs": [],
   "source": [
    "import pandas as pd"
   ]
  },
  {
   "cell_type": "code",
   "execution_count": 46,
   "metadata": {
    "collapsed": false
   },
   "outputs": [],
   "source": [
    "spam_data = pd.DataFrame(columns = (\"Text\", \"Class\"))"
   ]
  },
  {
   "cell_type": "code",
   "execution_count": 47,
   "metadata": {
    "collapsed": false
   },
   "outputs": [
    {
     "data": {
      "text/html": [
       "<div>\n",
       "<table border=\"1\" class=\"dataframe\">\n",
       "  <thead>\n",
       "    <tr style=\"text-align: right;\">\n",
       "      <th></th>\n",
       "      <th>Text</th>\n",
       "      <th>Class</th>\n",
       "    </tr>\n",
       "  </thead>\n",
       "  <tbody>\n",
       "  </tbody>\n",
       "</table>\n",
       "</div>"
      ],
      "text/plain": [
       "Empty DataFrame\n",
       "Columns: [Text, Class]\n",
       "Index: []"
      ]
     },
     "execution_count": 47,
     "metadata": {},
     "output_type": "execute_result"
    }
   ],
   "source": [
    "spam_data"
   ]
  },
  {
   "cell_type": "code",
   "execution_count": 51,
   "metadata": {
    "collapsed": false
   },
   "outputs": [
    {
     "data": {
      "text/html": [
       "<div>\n",
       "<table border=\"1\" class=\"dataframe\">\n",
       "  <thead>\n",
       "    <tr style=\"text-align: right;\">\n",
       "      <th></th>\n",
       "      <th>Text</th>\n",
       "      <th>Class</th>\n",
       "    </tr>\n",
       "  </thead>\n",
       "  <tbody>\n",
       "    <tr>\n",
       "      <th>0</th>\n",
       "      <td>Ernest</td>\n",
       "      <td>1.0</td>\n",
       "    </tr>\n",
       "  </tbody>\n",
       "</table>\n",
       "</div>"
      ],
      "text/plain": [
       "     Text  Class\n",
       "0  Ernest    1.0"
      ]
     },
     "execution_count": 51,
     "metadata": {},
     "output_type": "execute_result"
    }
   ],
   "source": [
    "spam_data.append(pd.Series([\"Ernest\", 1], index = [\"Text\", \"Class\"]), ignore_index = True)"
   ]
  },
  {
   "cell_type": "code",
   "execution_count": 68,
   "metadata": {
    "collapsed": true
   },
   "outputs": [],
   "source": [
    "spam_data = pd.DataFrame(columns = (\"Text\", \"Class\"))"
   ]
  },
  {
   "cell_type": "code",
   "execution_count": 60,
   "metadata": {
    "collapsed": true
   },
   "outputs": [],
   "source": [
    "import os"
   ]
  },
  {
   "cell_type": "code",
   "execution_count": 69,
   "metadata": {
    "collapsed": false
   },
   "outputs": [],
   "source": [
    "for i in os.listdir(\"spam\"):\n",
    "    text = open(os.path.join(\"spam\", i), \"r\", encoding = \"ISO-8859-1\").read()\n",
    "    text = \" \".join(text.split('\\n'))\n",
    "    spam_data = spam_data.append(pd.Series([text, 1], index = [\"Text\", \"Class\"]), ignore_index = True)"
   ]
  },
  {
   "cell_type": "code",
   "execution_count": 70,
   "metadata": {
    "collapsed": false
   },
   "outputs": [
    {
     "data": {
      "text/html": [
       "<div>\n",
       "<table border=\"1\" class=\"dataframe\">\n",
       "  <thead>\n",
       "    <tr style=\"text-align: right;\">\n",
       "      <th></th>\n",
       "      <th>Text</th>\n",
       "      <th>Class</th>\n",
       "    </tr>\n",
       "  </thead>\n",
       "  <tbody>\n",
       "    <tr>\n",
       "      <th>0</th>\n",
       "      <td>Subject: dobmeos with hgh my energy level has ...</td>\n",
       "      <td>1.0</td>\n",
       "    </tr>\n",
       "    <tr>\n",
       "      <th>1</th>\n",
       "      <td>Subject: your prescription is ready . . oxwq s...</td>\n",
       "      <td>1.0</td>\n",
       "    </tr>\n",
       "    <tr>\n",
       "      <th>2</th>\n",
       "      <td>Subject: get that new car 8434 people nowthe w...</td>\n",
       "      <td>1.0</td>\n",
       "    </tr>\n",
       "    <tr>\n",
       "      <th>3</th>\n",
       "      <td>Subject: await your response dear partner , we...</td>\n",
       "      <td>1.0</td>\n",
       "    </tr>\n",
       "    <tr>\n",
       "      <th>4</th>\n",
       "      <td>Subject: coca cola , mbna america , nascar par...</td>\n",
       "      <td>1.0</td>\n",
       "    </tr>\n",
       "  </tbody>\n",
       "</table>\n",
       "</div>"
      ],
      "text/plain": [
       "                                                Text  Class\n",
       "0  Subject: dobmeos with hgh my energy level has ...    1.0\n",
       "1  Subject: your prescription is ready . . oxwq s...    1.0\n",
       "2  Subject: get that new car 8434 people nowthe w...    1.0\n",
       "3  Subject: await your response dear partner , we...    1.0\n",
       "4  Subject: coca cola , mbna america , nascar par...    1.0"
      ]
     },
     "execution_count": 70,
     "metadata": {},
     "output_type": "execute_result"
    }
   ],
   "source": [
    "spam_data.head()"
   ]
  },
  {
   "cell_type": "code",
   "execution_count": 71,
   "metadata": {
    "collapsed": true
   },
   "outputs": [],
   "source": [
    "import glob"
   ]
  },
  {
   "cell_type": "code",
   "execution_count": 72,
   "metadata": {
    "collapsed": true
   },
   "outputs": [],
   "source": [
    "spam_data = pd.DataFrame(columns = (\"Text\", \"Class\"))"
   ]
  },
  {
   "cell_type": "code",
   "execution_count": 74,
   "metadata": {
    "collapsed": false
   },
   "outputs": [],
   "source": [
    "for i in glob.glob(\"spam/*.txt\"):\n",
    "    text = open(i, \"r\", encoding = \"ISO-8859-1\").read()\n",
    "    text = \" \".join(text.split('\\n'))\n",
    "    spam_data = spam_data.append(pd.Series([text, 1], index = [\"Text\", \"Class\"]), ignore_index = True)"
   ]
  },
  {
   "cell_type": "code",
   "execution_count": 75,
   "metadata": {
    "collapsed": false
   },
   "outputs": [
    {
     "data": {
      "text/html": [
       "<div>\n",
       "<table border=\"1\" class=\"dataframe\">\n",
       "  <thead>\n",
       "    <tr style=\"text-align: right;\">\n",
       "      <th></th>\n",
       "      <th>Text</th>\n",
       "      <th>Class</th>\n",
       "    </tr>\n",
       "  </thead>\n",
       "  <tbody>\n",
       "    <tr>\n",
       "      <th>0</th>\n",
       "      <td>Subject: dobmeos with hgh my energy level has ...</td>\n",
       "      <td>1.0</td>\n",
       "    </tr>\n",
       "    <tr>\n",
       "      <th>1</th>\n",
       "      <td>Subject: your prescription is ready . . oxwq s...</td>\n",
       "      <td>1.0</td>\n",
       "    </tr>\n",
       "    <tr>\n",
       "      <th>2</th>\n",
       "      <td>Subject: get that new car 8434 people nowthe w...</td>\n",
       "      <td>1.0</td>\n",
       "    </tr>\n",
       "    <tr>\n",
       "      <th>3</th>\n",
       "      <td>Subject: await your response dear partner , we...</td>\n",
       "      <td>1.0</td>\n",
       "    </tr>\n",
       "    <tr>\n",
       "      <th>4</th>\n",
       "      <td>Subject: coca cola , mbna america , nascar par...</td>\n",
       "      <td>1.0</td>\n",
       "    </tr>\n",
       "  </tbody>\n",
       "</table>\n",
       "</div>"
      ],
      "text/plain": [
       "                                                Text  Class\n",
       "0  Subject: dobmeos with hgh my energy level has ...    1.0\n",
       "1  Subject: your prescription is ready . . oxwq s...    1.0\n",
       "2  Subject: get that new car 8434 people nowthe w...    1.0\n",
       "3  Subject: await your response dear partner , we...    1.0\n",
       "4  Subject: coca cola , mbna america , nascar par...    1.0"
      ]
     },
     "execution_count": 75,
     "metadata": {},
     "output_type": "execute_result"
    }
   ],
   "source": [
    "spam_data.head()"
   ]
  },
  {
   "cell_type": "code",
   "execution_count": 76,
   "metadata": {
    "collapsed": true
   },
   "outputs": [],
   "source": [
    "for i in glob.glob(\"ham/*.txt\"):\n",
    "    text = open(i, \"r\", encoding = \"ISO-8859-1\").read()\n",
    "    text = \" \".join(text.split('\\n'))\n",
    "    spam_data = spam_data.append(pd.Series([text, 0], index = [\"Text\", \"Class\"]), ignore_index = True)"
   ]
  },
  {
   "cell_type": "code",
   "execution_count": 88,
   "metadata": {
    "collapsed": true
   },
   "outputs": [],
   "source": [
    "spam_data = pd.DataFrame(columns = (\"Text\", \"Class\"))"
   ]
  },
  {
   "cell_type": "code",
   "execution_count": 89,
   "metadata": {
    "collapsed": false
   },
   "outputs": [],
   "source": [
    "for cla in glob.glob(\"dataset/*\"):\n",
    "    clas = cla.split(os.sep)[1]\n",
    "    for file in glob.glob(cla + \"/*.txt\"):\n",
    "        text = open(file, \"r\", encoding = \"ISO-8859-1\").read()\n",
    "        text = \" \".join(text.split(\"\\n\"))\n",
    "        spam_data = spam_data.append(pd.Series([text, clas], index = [\"Text\", \"Class\"]), ignore_index = True)"
   ]
  },
  {
   "cell_type": "code",
   "execution_count": 90,
   "metadata": {
    "collapsed": false
   },
   "outputs": [
    {
     "data": {
      "text/html": [
       "<div>\n",
       "<table border=\"1\" class=\"dataframe\">\n",
       "  <thead>\n",
       "    <tr style=\"text-align: right;\">\n",
       "      <th></th>\n",
       "      <th>Text</th>\n",
       "      <th>Class</th>\n",
       "    </tr>\n",
       "  </thead>\n",
       "  <tbody>\n",
       "    <tr>\n",
       "      <th>0</th>\n",
       "      <td>Subject: christmas tree farm pictures</td>\n",
       "      <td>ham</td>\n",
       "    </tr>\n",
       "    <tr>\n",
       "      <th>1</th>\n",
       "      <td>Subject: vastar resources , inc . gary , produ...</td>\n",
       "      <td>ham</td>\n",
       "    </tr>\n",
       "    <tr>\n",
       "      <th>2</th>\n",
       "      <td>Subject: calpine daily gas nomination - calpin...</td>\n",
       "      <td>ham</td>\n",
       "    </tr>\n",
       "    <tr>\n",
       "      <th>3</th>\n",
       "      <td>Subject: re : issue fyi - see note below - alr...</td>\n",
       "      <td>ham</td>\n",
       "    </tr>\n",
       "    <tr>\n",
       "      <th>4</th>\n",
       "      <td>Subject: meter 7268 nov allocation fyi . - - -...</td>\n",
       "      <td>ham</td>\n",
       "    </tr>\n",
       "  </tbody>\n",
       "</table>\n",
       "</div>"
      ],
      "text/plain": [
       "                                                Text Class\n",
       "0             Subject: christmas tree farm pictures    ham\n",
       "1  Subject: vastar resources , inc . gary , produ...   ham\n",
       "2  Subject: calpine daily gas nomination - calpin...   ham\n",
       "3  Subject: re : issue fyi - see note below - alr...   ham\n",
       "4  Subject: meter 7268 nov allocation fyi . - - -...   ham"
      ]
     },
     "execution_count": 90,
     "metadata": {},
     "output_type": "execute_result"
    }
   ],
   "source": [
    "spam_data.head()"
   ]
  },
  {
   "cell_type": "code",
   "execution_count": 91,
   "metadata": {
    "collapsed": false
   },
   "outputs": [
    {
     "data": {
      "text/html": [
       "<div>\n",
       "<table border=\"1\" class=\"dataframe\">\n",
       "  <thead>\n",
       "    <tr style=\"text-align: right;\">\n",
       "      <th></th>\n",
       "      <th>Text</th>\n",
       "      <th>Class</th>\n",
       "    </tr>\n",
       "  </thead>\n",
       "  <tbody>\n",
       "    <tr>\n",
       "      <th>5167</th>\n",
       "      <td>Subject: our pro - forma invoice attached divi...</td>\n",
       "      <td>spam</td>\n",
       "    </tr>\n",
       "    <tr>\n",
       "      <th>5168</th>\n",
       "      <td>Subject: str _ rndlen ( 2 - 4 ) } { extra _ ti...</td>\n",
       "      <td>spam</td>\n",
       "    </tr>\n",
       "    <tr>\n",
       "      <th>5169</th>\n",
       "      <td>Subject: check me out ! 61 bb hey derm bbbbb c...</td>\n",
       "      <td>spam</td>\n",
       "    </tr>\n",
       "    <tr>\n",
       "      <th>5170</th>\n",
       "      <td>Subject: hot jobs global marketing specialties...</td>\n",
       "      <td>spam</td>\n",
       "    </tr>\n",
       "    <tr>\n",
       "      <th>5171</th>\n",
       "      <td>Subject: save up to 89 % on ink + no shipping ...</td>\n",
       "      <td>spam</td>\n",
       "    </tr>\n",
       "  </tbody>\n",
       "</table>\n",
       "</div>"
      ],
      "text/plain": [
       "                                                   Text Class\n",
       "5167  Subject: our pro - forma invoice attached divi...  spam\n",
       "5168  Subject: str _ rndlen ( 2 - 4 ) } { extra _ ti...  spam\n",
       "5169  Subject: check me out ! 61 bb hey derm bbbbb c...  spam\n",
       "5170  Subject: hot jobs global marketing specialties...  spam\n",
       "5171  Subject: save up to 89 % on ink + no shipping ...  spam"
      ]
     },
     "execution_count": 91,
     "metadata": {},
     "output_type": "execute_result"
    }
   ],
   "source": [
    "spam_data.tail()"
   ]
  },
  {
   "cell_type": "code",
   "execution_count": 92,
   "metadata": {
    "collapsed": false
   },
   "outputs": [
    {
     "data": {
      "text/plain": [
       "(5172, 2)"
      ]
     },
     "execution_count": 92,
     "metadata": {},
     "output_type": "execute_result"
    }
   ],
   "source": [
    "spam_data.shape"
   ]
  },
  {
   "cell_type": "code",
   "execution_count": 95,
   "metadata": {
    "collapsed": false
   },
   "outputs": [
    {
     "name": "stdout",
     "output_type": "stream",
     "text": [
      "ham\n",
      "spam\n"
     ]
    }
   ],
   "source": [
    "for cla in glob.glob(\"dataset/*\"):\n",
    "    print(cla.split(os.sep)[1])"
   ]
  },
  {
   "cell_type": "code",
   "execution_count": null,
   "metadata": {
    "collapsed": true
   },
   "outputs": [],
   "source": []
  }
 ],
 "metadata": {
  "kernelspec": {
   "display_name": "Python 3",
   "language": "python",
   "name": "python3"
  },
  "language_info": {
   "codemirror_mode": {
    "name": "ipython",
    "version": 3
   },
   "file_extension": ".py",
   "mimetype": "text/x-python",
   "name": "python",
   "nbconvert_exporter": "python",
   "pygments_lexer": "ipython3",
   "version": "3.4.5"
  }
 },
 "nbformat": 4,
 "nbformat_minor": 2
}
